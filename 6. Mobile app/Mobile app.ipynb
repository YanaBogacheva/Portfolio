{
 "cells": [
  {
   "cell_type": "markdown",
   "metadata": {},
   "source": [
    "# Исследование поведения пользователей мобильного приложения\n",
    "\n",
    "**Описание проекта:** \n",
    "\n",
    "Исследование поведения пользователей мобильного приложения стартапа, который продает продукты питания, а так же результатов проведенного A/A/B-эксперимента.\n",
    "\n",
    "**Описание данных:**\n",
    "\n",
    "Файл /datasets/logs_exp.csv содержит информацию о действиях пользователей: \n",
    "- EventName — название события;\n",
    "- DeviceIDHash — уникальный идентификатор пользователя;\n",
    "- EventTimestamp — время события;\n",
    "- ExpId — номер эксперимента: 246 и 247 — контрольные группы, а 248 — экспериментальная.\n",
    "\n",
    "**План выполнения проекта:**\n",
    "\n",
    "1. Загрузка данных и изучение общей информации.\n",
    "\n",
    "\n",
    "2. Подготовка данных.\n",
    "- Замена названия столбцов;\n",
    "- Проверка пропусков и типов данных;\n",
    "- Добавление столбца даты и времени, а также отдельного столбца дат.\n",
    "\n",
    "3. Изучение и проверка данных.\n",
    "- Определение количества событий в логе.\n",
    "- Определение количества пользователей в логе.\n",
    "- Определение среднего количества событий на одного пользователя.\n",
    "- Изучение данных во времени.\n",
    "\n",
    "4. Изучение воронки событий.\n",
    "- Определение типов событий в логах и их частоты.\n",
    "- Определение доли пользователей, совершавших события.\n",
    "- Построение воронки событий.\n",
    "\n",
    "5. Изучение результатов эксперимента.\n",
    "- Определение количества пользователей в каждой экспериментальной группе.\n",
    "- Проверка критериев успешного А/А-теста.\n",
    "- Проведение А/А-теста.\n",
    "- Проведение А/В-теста.\n",
    "\n",
    "6. Общие выводы."
   ]
  },
  {
   "cell_type": "markdown",
   "metadata": {},
   "source": [
    "### Загрузка данных и изучение общей информации"
   ]
  },
  {
   "cell_type": "code",
   "execution_count": 29,
   "metadata": {},
   "outputs": [],
   "source": [
    "# Импортирую нужные библиотеки\n",
    "import pandas as pd\n",
    "import scipy.stats as stats\n",
    "import datetime as dt\n",
    "import numpy as np\n",
    "import matplotlib.pyplot as plt\n",
    "import seaborn as sns\n",
    "from pandas.plotting import register_matplotlib_converters\n",
    "from math import floor\n",
    "import math as mth\n",
    "from scipy import stats as st\n",
    "import warnings\n",
    "from plotly import graph_objects as go\n",
    "warnings.simplefilter('ignore')\n",
    "pd.set_option('display.max_colwidth', False)\n",
    "pd.set_option(\"display.float_format\", \"{:.2f}\".format)"
   ]
  },
  {
   "cell_type": "code",
   "execution_count": 30,
   "metadata": {},
   "outputs": [],
   "source": [
    "# Загружаю данные\n",
    "try: logs = pd.read_csv('/datasets/logs_exp.csv', sep='\\t')\n",
    "except: logs = pd.read_csv('logs_exp.csv', sep='\\t')"
   ]
  },
  {
   "cell_type": "code",
   "execution_count": 31,
   "metadata": {
    "scrolled": false
   },
   "outputs": [
    {
     "data": {
      "text/html": [
       "<div>\n",
       "<style scoped>\n",
       "    .dataframe tbody tr th:only-of-type {\n",
       "        vertical-align: middle;\n",
       "    }\n",
       "\n",
       "    .dataframe tbody tr th {\n",
       "        vertical-align: top;\n",
       "    }\n",
       "\n",
       "    .dataframe thead th {\n",
       "        text-align: right;\n",
       "    }\n",
       "</style>\n",
       "<table border=\"1\" class=\"dataframe\">\n",
       "  <thead>\n",
       "    <tr style=\"text-align: right;\">\n",
       "      <th></th>\n",
       "      <th>EventName</th>\n",
       "      <th>DeviceIDHash</th>\n",
       "      <th>EventTimestamp</th>\n",
       "      <th>ExpId</th>\n",
       "    </tr>\n",
       "  </thead>\n",
       "  <tbody>\n",
       "    <tr>\n",
       "      <th>0</th>\n",
       "      <td>MainScreenAppear</td>\n",
       "      <td>4575588528974610257</td>\n",
       "      <td>1564029816</td>\n",
       "      <td>246</td>\n",
       "    </tr>\n",
       "    <tr>\n",
       "      <th>1</th>\n",
       "      <td>MainScreenAppear</td>\n",
       "      <td>7416695313311560658</td>\n",
       "      <td>1564053102</td>\n",
       "      <td>246</td>\n",
       "    </tr>\n",
       "    <tr>\n",
       "      <th>2</th>\n",
       "      <td>PaymentScreenSuccessful</td>\n",
       "      <td>3518123091307005509</td>\n",
       "      <td>1564054127</td>\n",
       "      <td>248</td>\n",
       "    </tr>\n",
       "    <tr>\n",
       "      <th>3</th>\n",
       "      <td>CartScreenAppear</td>\n",
       "      <td>3518123091307005509</td>\n",
       "      <td>1564054127</td>\n",
       "      <td>248</td>\n",
       "    </tr>\n",
       "    <tr>\n",
       "      <th>4</th>\n",
       "      <td>PaymentScreenSuccessful</td>\n",
       "      <td>6217807653094995999</td>\n",
       "      <td>1564055322</td>\n",
       "      <td>248</td>\n",
       "    </tr>\n",
       "  </tbody>\n",
       "</table>\n",
       "</div>"
      ],
      "text/plain": [
       "                 EventName         DeviceIDHash  EventTimestamp  ExpId\n",
       "0  MainScreenAppear         4575588528974610257  1564029816      246  \n",
       "1  MainScreenAppear         7416695313311560658  1564053102      246  \n",
       "2  PaymentScreenSuccessful  3518123091307005509  1564054127      248  \n",
       "3  CartScreenAppear         3518123091307005509  1564054127      248  \n",
       "4  PaymentScreenSuccessful  6217807653094995999  1564055322      248  "
      ]
     },
     "metadata": {},
     "output_type": "display_data"
    },
    {
     "name": "stdout",
     "output_type": "stream",
     "text": [
      "<class 'pandas.core.frame.DataFrame'>\n",
      "RangeIndex: 244126 entries, 0 to 244125\n",
      "Data columns (total 4 columns):\n",
      " #   Column          Non-Null Count   Dtype \n",
      "---  ------          --------------   ----- \n",
      " 0   EventName       244126 non-null  object\n",
      " 1   DeviceIDHash    244126 non-null  int64 \n",
      " 2   EventTimestamp  244126 non-null  int64 \n",
      " 3   ExpId           244126 non-null  int64 \n",
      "dtypes: int64(3), object(1)\n",
      "memory usage: 7.5+ MB\n"
     ]
    },
    {
     "data": {
      "text/plain": [
       "None"
      ]
     },
     "metadata": {},
     "output_type": "display_data"
    }
   ],
   "source": [
    "# Изучаю общую информацию о данных\n",
    "display(logs.head())\n",
    "display(logs.info())"
   ]
  },
  {
   "cell_type": "markdown",
   "metadata": {},
   "source": [
    "**Вывод**\n",
    "- Пропуски в данных отсутствуют.\n",
    "- Следует привести названия столбцов в соответствие с \"хорошим стилем\".\n",
    "- Необходимо изменить тип данных в столбце EventTimestamp на datetime."
   ]
  },
  {
   "cell_type": "markdown",
   "metadata": {},
   "source": [
    "### Подготовка данных"
   ]
  },
  {
   "cell_type": "code",
   "execution_count": 32,
   "metadata": {},
   "outputs": [],
   "source": [
    "# Изменяю названия столбцов\n",
    "logs = logs.rename(columns={\n",
    "    'EventName':'event_name', \n",
    "    'DeviceIDHash':'user_id', \n",
    "    'EventTimestamp':'event_time', \n",
    "    'ExpId':'group'\n",
    "})"
   ]
  },
  {
   "cell_type": "code",
   "execution_count": 33,
   "metadata": {},
   "outputs": [],
   "source": [
    "# Изменяю тип данных в столбце event_time на datetime\n",
    "logs.event_time = pd.to_datetime(logs['event_time'], unit = 's')"
   ]
  },
  {
   "cell_type": "code",
   "execution_count": 34,
   "metadata": {},
   "outputs": [],
   "source": [
    "# Добавляю столбец с датой\n",
    "logs['event_date'] = logs.event_time.dt.date"
   ]
  },
  {
   "cell_type": "code",
   "execution_count": 35,
   "metadata": {},
   "outputs": [
    {
     "data": {
      "text/html": [
       "<div>\n",
       "<style scoped>\n",
       "    .dataframe tbody tr th:only-of-type {\n",
       "        vertical-align: middle;\n",
       "    }\n",
       "\n",
       "    .dataframe tbody tr th {\n",
       "        vertical-align: top;\n",
       "    }\n",
       "\n",
       "    .dataframe thead th {\n",
       "        text-align: right;\n",
       "    }\n",
       "</style>\n",
       "<table border=\"1\" class=\"dataframe\">\n",
       "  <thead>\n",
       "    <tr style=\"text-align: right;\">\n",
       "      <th></th>\n",
       "      <th>event_name</th>\n",
       "      <th>user_id</th>\n",
       "      <th>event_time</th>\n",
       "      <th>group</th>\n",
       "      <th>event_date</th>\n",
       "    </tr>\n",
       "  </thead>\n",
       "  <tbody>\n",
       "    <tr>\n",
       "      <th>0</th>\n",
       "      <td>MainScreenAppear</td>\n",
       "      <td>4575588528974610257</td>\n",
       "      <td>2019-07-25 04:43:36</td>\n",
       "      <td>246</td>\n",
       "      <td>2019-07-25</td>\n",
       "    </tr>\n",
       "    <tr>\n",
       "      <th>1</th>\n",
       "      <td>MainScreenAppear</td>\n",
       "      <td>7416695313311560658</td>\n",
       "      <td>2019-07-25 11:11:42</td>\n",
       "      <td>246</td>\n",
       "      <td>2019-07-25</td>\n",
       "    </tr>\n",
       "    <tr>\n",
       "      <th>2</th>\n",
       "      <td>PaymentScreenSuccessful</td>\n",
       "      <td>3518123091307005509</td>\n",
       "      <td>2019-07-25 11:28:47</td>\n",
       "      <td>248</td>\n",
       "      <td>2019-07-25</td>\n",
       "    </tr>\n",
       "    <tr>\n",
       "      <th>3</th>\n",
       "      <td>CartScreenAppear</td>\n",
       "      <td>3518123091307005509</td>\n",
       "      <td>2019-07-25 11:28:47</td>\n",
       "      <td>248</td>\n",
       "      <td>2019-07-25</td>\n",
       "    </tr>\n",
       "    <tr>\n",
       "      <th>4</th>\n",
       "      <td>PaymentScreenSuccessful</td>\n",
       "      <td>6217807653094995999</td>\n",
       "      <td>2019-07-25 11:48:42</td>\n",
       "      <td>248</td>\n",
       "      <td>2019-07-25</td>\n",
       "    </tr>\n",
       "  </tbody>\n",
       "</table>\n",
       "</div>"
      ],
      "text/plain": [
       "                event_name              user_id          event_time  group  \\\n",
       "0  MainScreenAppear         4575588528974610257 2019-07-25 04:43:36  246     \n",
       "1  MainScreenAppear         7416695313311560658 2019-07-25 11:11:42  246     \n",
       "2  PaymentScreenSuccessful  3518123091307005509 2019-07-25 11:28:47  248     \n",
       "3  CartScreenAppear         3518123091307005509 2019-07-25 11:28:47  248     \n",
       "4  PaymentScreenSuccessful  6217807653094995999 2019-07-25 11:48:42  248     \n",
       "\n",
       "   event_date  \n",
       "0  2019-07-25  \n",
       "1  2019-07-25  \n",
       "2  2019-07-25  \n",
       "3  2019-07-25  \n",
       "4  2019-07-25  "
      ]
     },
     "metadata": {},
     "output_type": "display_data"
    },
    {
     "name": "stdout",
     "output_type": "stream",
     "text": [
      "<class 'pandas.core.frame.DataFrame'>\n",
      "RangeIndex: 244126 entries, 0 to 244125\n",
      "Data columns (total 5 columns):\n",
      " #   Column      Non-Null Count   Dtype         \n",
      "---  ------      --------------   -----         \n",
      " 0   event_name  244126 non-null  object        \n",
      " 1   user_id     244126 non-null  int64         \n",
      " 2   event_time  244126 non-null  datetime64[ns]\n",
      " 3   group       244126 non-null  int64         \n",
      " 4   event_date  244126 non-null  object        \n",
      "dtypes: datetime64[ns](1), int64(2), object(2)\n",
      "memory usage: 9.3+ MB\n"
     ]
    },
    {
     "data": {
      "text/plain": [
       "None"
      ]
     },
     "metadata": {},
     "output_type": "display_data"
    }
   ],
   "source": [
    "# Изучаю измененный датафрейм\n",
    "display(logs.head())\n",
    "display(logs.info())"
   ]
  },
  {
   "cell_type": "code",
   "execution_count": 36,
   "metadata": {
    "scrolled": true
   },
   "outputs": [
    {
     "name": "stdout",
     "output_type": "stream",
     "text": [
      "Число дубликатов:  413\n",
      "Доля дубликатов в общем числе записей: 0.17%\n"
     ]
    }
   ],
   "source": [
    "# Определяю число дубликатов и их долю в общем числе записей \n",
    "print('Число дубликатов: ', logs.duplicated().sum())\n",
    "print(f'Доля дубликатов в общем числе записей: {logs.duplicated().sum()/logs.shape[0]:.2%}')"
   ]
  },
  {
   "cell_type": "markdown",
   "metadata": {},
   "source": [
    "Доля дубликатов составила менее половины процента от общего числа записей, поэтому их можно удалить."
   ]
  },
  {
   "cell_type": "code",
   "execution_count": 37,
   "metadata": {},
   "outputs": [
    {
     "data": {
      "text/plain": [
       "0"
      ]
     },
     "execution_count": 37,
     "metadata": {},
     "output_type": "execute_result"
    }
   ],
   "source": [
    "# Удаляю дубликаты и проверяю их наличие после удаления\n",
    "logs = logs.drop_duplicates().reset_index(drop=True)\n",
    "logs.duplicated().sum()"
   ]
  },
  {
   "cell_type": "markdown",
   "metadata": {},
   "source": [
    "**Вывод**\n",
    "- Названия столбцов изменены в соответствии с \"хорошим стилем\".\n",
    "- Тип данных в столбце event_time изменен на datetime.\n",
    "- Добавлен столбец с датой.\n",
    "- Удалены дубликаты."
   ]
  },
  {
   "cell_type": "markdown",
   "metadata": {},
   "source": [
    "### Изучение и проверка данных"
   ]
  },
  {
   "cell_type": "code",
   "execution_count": 38,
   "metadata": {
    "scrolled": true
   },
   "outputs": [
    {
     "name": "stdout",
     "output_type": "stream",
     "text": [
      "Количество событий в логе: 243713.\n"
     ]
    }
   ],
   "source": [
    "# Определяю количество событий в логе\n",
    "print(f'Количество событий в логе: {len(logs)}.')"
   ]
  },
  {
   "cell_type": "code",
   "execution_count": 39,
   "metadata": {},
   "outputs": [
    {
     "name": "stdout",
     "output_type": "stream",
     "text": [
      "Количество пользователей в логе: 7551.\n"
     ]
    }
   ],
   "source": [
    "# Определяю количество пользователей в логе\n",
    "print(f'Количество пользователей в логе: {len(logs.user_id.unique())}.')"
   ]
  },
  {
   "cell_type": "code",
   "execution_count": 40,
   "metadata": {
    "scrolled": true
   },
   "outputs": [
    {
     "name": "stdout",
     "output_type": "stream",
     "text": [
      "В среднем на пользователя приходится 32 события.\n"
     ]
    }
   ],
   "source": [
    "# Определяю, сколько событий приходится в среднем на одного пользователя\n",
    "print(f'В среднем на пользователя приходится {int(len(logs) / len(logs.user_id.unique()))} события.')"
   ]
  },
  {
   "cell_type": "code",
   "execution_count": 41,
   "metadata": {
    "scrolled": true
   },
   "outputs": [
    {
     "name": "stdout",
     "output_type": "stream",
     "text": [
      "2019-07-25 04:43:36\n",
      "2019-08-07 21:15:17\n"
     ]
    }
   ],
   "source": [
    "# Определяю за какой период имеются данные, для этого определяю минимальную и максимальную даты\n",
    "print(logs.event_time.min())\n",
    "print(logs.event_time.max())"
   ]
  },
  {
   "cell_type": "code",
   "execution_count": 42,
   "metadata": {},
   "outputs": [
    {
     "data": {
      "image/png": "[encoded data removed]",
      "text/plain": [
       "<Figure size 1080x504 with 1 Axes>"
      ]
     },
     "metadata": {
      "needs_background": "light"
     },
     "output_type": "display_data"
    }
   ],
   "source": [
    "# Построю столбчатую диаграмму, которая отобразит количество событий по датам и группам\n",
    "logs_by_date = logs.pivot_table(index = 'event_date', columns= 'group', values='event_name', aggfunc='count')\n",
    "logs_by_date.plot(kind='bar', grid=True, figsize=(15, 7))\n",
    "plt.title('Количество событий по датам и группам')\n",
    "plt.xlabel('\\n Дата')\n",
    "plt.ylabel('Количество событий')\n",
    "plt.legend(sorted(logs['group'].unique()));"
   ]
  },
  {
   "cell_type": "markdown",
   "metadata": {},
   "source": [
    "Для анализа имеются данные за 2 недели с 25.07.2019 по 07.08.2019. На графике видно, что в первую неделю событий совсем мало. С 01.08.2019 произошло резкое увеличение количества событий. Вероятно с этой даты началась некая рекламная кампания. Поэтому данные за первую неделю нельзя считать актуальными. Среди оставшихся пользователей имеются пользователи из всех 3-х групп, что так же видно на графике. Т.о. данные за первую неделю можно отбросить и рассматривать данные за период с 01.08.2019 по 07.08.2019."
   ]
  },
  {
   "cell_type": "code",
   "execution_count": 43,
   "metadata": {},
   "outputs": [],
   "source": [
    "# Отфильтрую данные по дате\n",
    "logs_1w = logs.query('event_date < datetime(2019, 8, 1).date()')\n",
    "logs_2w = logs.query('event_date > datetime(2019, 7, 31).date()')"
   ]
  },
  {
   "cell_type": "code",
   "execution_count": 44,
   "metadata": {},
   "outputs": [
    {
     "name": "stdout",
     "output_type": "stream",
     "text": [
      "Доля событий за вторую неделю: 98.84%\n",
      "Доля пользователей второй недели: 99.77%.\n"
     ]
    }
   ],
   "source": [
    "# Определяю долю событий и количество пользователей, оставшихся после фильтрации\n",
    "print(f'Доля событий за вторую неделю: {(len(logs_2w) / len(logs)):.2%}')\n",
    "print(f'Доля пользователей второй недели: {len(logs_2w.user_id.unique())/len(logs.user_id.unique()):.2%}.')"
   ]
  },
  {
   "cell_type": "code",
   "execution_count": 45,
   "metadata": {},
   "outputs": [
    {
     "data": {
      "text/plain": [
       "group\n",
       "246    2484\n",
       "247    2513\n",
       "248    2537\n",
       "Name: user_id, dtype: int64"
      ]
     },
     "execution_count": 45,
     "metadata": {},
     "output_type": "execute_result"
    }
   ],
   "source": [
    "# Проверяю наличие пользователей из всех групп после фильтрации\n",
    "logs_2w.groupby('group')['user_id'].nunique()"
   ]
  },
  {
   "cell_type": "code",
   "execution_count": 46,
   "metadata": {
    "scrolled": true
   },
   "outputs": [
    {
     "name": "stdout",
     "output_type": "stream",
     "text": [
      "Количество событий в логе после фильтрации: 240887.\n"
     ]
    }
   ],
   "source": [
    "# Определяю количество событий в логе после фильтрации\n",
    "print(f'Количество событий в логе после фильтрации: {len(logs_2w)}.')"
   ]
  },
  {
   "cell_type": "code",
   "execution_count": 47,
   "metadata": {
    "scrolled": false
   },
   "outputs": [
    {
     "name": "stdout",
     "output_type": "stream",
     "text": [
      "Количество пользователей в логе после фильтрации: 7534.\n"
     ]
    }
   ],
   "source": [
    "# Определяю количество пользователей в логе после фильтрации\n",
    "print(f'Количество пользователей в логе после фильтрации: {len(logs_2w.user_id.unique())}.')"
   ]
  },
  {
   "cell_type": "markdown",
   "metadata": {},
   "source": [
    "Расчитаю долю событий и пользователей, потерянных после фильтрации."
   ]
  },
  {
   "cell_type": "code",
   "execution_count": 48,
   "metadata": {},
   "outputs": [
    {
     "name": "stdout",
     "output_type": "stream",
     "text": [
      "Доля потерянных событий: 1.16%.\n",
      "Доля потерянных пользователей: 0.23%.\n"
     ]
    }
   ],
   "source": [
    "event_lost_share = 1 - len(logs_2w)/len(logs)\n",
    "users_lost_share = 1 - len(logs_2w.user_id.unique())/len(logs.user_id.unique())\n",
    "print(f'Доля потерянных событий: {(event_lost_share):.2%}.')\n",
    "print(f'Доля потерянных пользователей: {(users_lost_share):.2%}.')"
   ]
  },
  {
   "cell_type": "code",
   "execution_count": 49,
   "metadata": {
    "scrolled": true
   },
   "outputs": [
    {
     "name": "stdout",
     "output_type": "stream",
     "text": [
      "В среднем на пользователя после фильтрации приходится 31 событие.\n"
     ]
    }
   ],
   "source": [
    "# Определяю, сколько событий приходится в среднем на одного пользователя после фильтрации\n",
    "print(f'В среднем на пользователя после фильтрации приходится {int(len(logs_2w) / len(logs_2w.user_id.unique()))} событие.')"
   ]
  },
  {
   "cell_type": "markdown",
   "metadata": {},
   "source": [
    "**Вывод**\n",
    "\n",
    "Изначально для анализа были предоствлены данные за 2 недели с 25.07.2019 по 07.08.2019. Но данные за первую неделю признаны неактуальными и удалены из анализа. После фильтрации событий по датам потеряно чуть больше 1% событий и менее 1% пользователей. В полученном датафрейме количество событий в логе: 240887, количество пользователей в логе: 7534, в среднем на пользователя приходится 31 событие. "
   ]
  },
  {
   "cell_type": "markdown",
   "metadata": {},
   "source": [
    "### Изучение воронки событий"
   ]
  },
  {
   "cell_type": "code",
   "execution_count": 50,
   "metadata": {},
   "outputs": [
    {
     "data": {
      "text/plain": [
       "array(['Tutorial', 'MainScreenAppear', 'OffersScreenAppear',\n",
       "       'CartScreenAppear', 'PaymentScreenSuccessful'], dtype=object)"
      ]
     },
     "execution_count": 50,
     "metadata": {},
     "output_type": "execute_result"
    }
   ],
   "source": [
    "# Определяю, какие события есть в логах\n",
    "logs_2w['event_name'].unique()"
   ]
  },
  {
   "cell_type": "markdown",
   "metadata": {},
   "source": [
    "В логах представлены следующие события:\n",
    "- Tutorial - обучение\n",
    "- MainScreenAppear - просмотр главной страницы\n",
    "- OffersScreenAppear - просмотр страницы товара\n",
    "- CartScreenAppear - просмотр корзины\n",
    "- PaymentScreenSuccessful - переход на страницу успешной оплаты"
   ]
  },
  {
   "cell_type": "code",
   "execution_count": 51,
   "metadata": {
    "scrolled": true
   },
   "outputs": [
    {
     "data": {
      "text/html": [
       "<div>\n",
       "<style scoped>\n",
       "    .dataframe tbody tr th:only-of-type {\n",
       "        vertical-align: middle;\n",
       "    }\n",
       "\n",
       "    .dataframe tbody tr th {\n",
       "        vertical-align: top;\n",
       "    }\n",
       "\n",
       "    .dataframe thead th {\n",
       "        text-align: right;\n",
       "    }\n",
       "</style>\n",
       "<table border=\"1\" class=\"dataframe\">\n",
       "  <thead>\n",
       "    <tr style=\"text-align: right;\">\n",
       "      <th></th>\n",
       "      <th>event_name</th>\n",
       "      <th>event_count</th>\n",
       "    </tr>\n",
       "  </thead>\n",
       "  <tbody>\n",
       "    <tr>\n",
       "      <th>0</th>\n",
       "      <td>MainScreenAppear</td>\n",
       "      <td>117328</td>\n",
       "    </tr>\n",
       "    <tr>\n",
       "      <th>1</th>\n",
       "      <td>OffersScreenAppear</td>\n",
       "      <td>46333</td>\n",
       "    </tr>\n",
       "    <tr>\n",
       "      <th>2</th>\n",
       "      <td>CartScreenAppear</td>\n",
       "      <td>42303</td>\n",
       "    </tr>\n",
       "    <tr>\n",
       "      <th>3</th>\n",
       "      <td>PaymentScreenSuccessful</td>\n",
       "      <td>33918</td>\n",
       "    </tr>\n",
       "    <tr>\n",
       "      <th>4</th>\n",
       "      <td>Tutorial</td>\n",
       "      <td>1005</td>\n",
       "    </tr>\n",
       "  </tbody>\n",
       "</table>\n",
       "</div>"
      ],
      "text/plain": [
       "                event_name  event_count\n",
       "0  MainScreenAppear         117328     \n",
       "1  OffersScreenAppear       46333      \n",
       "2  CartScreenAppear         42303      \n",
       "3  PaymentScreenSuccessful  33918      \n",
       "4  Tutorial                 1005       "
      ]
     },
     "execution_count": 51,
     "metadata": {},
     "output_type": "execute_result"
    }
   ],
   "source": [
    "# Определяю частоту событий\n",
    "events = (\n",
    "    logs_2w.groupby('event_name')\n",
    "    .agg({'event_name':'count'}) \n",
    "    .rename(columns={'event_name':'event_count'})\n",
    "    # столбец 'event_count' - количество событий\n",
    "    .sort_values(by ='event_count', ascending=False)\n",
    "    .reset_index()\n",
    ")\n",
    "events"
   ]
  },
  {
   "cell_type": "markdown",
   "metadata": {},
   "source": [
    "Самым частым событием является просмотр главной страницы, самым редким - обучение."
   ]
  },
  {
   "cell_type": "code",
   "execution_count": 52,
   "metadata": {
    "scrolled": false
   },
   "outputs": [
    {
     "data": {
      "text/html": [
       "<div>\n",
       "<style scoped>\n",
       "    .dataframe tbody tr th:only-of-type {\n",
       "        vertical-align: middle;\n",
       "    }\n",
       "\n",
       "    .dataframe tbody tr th {\n",
       "        vertical-align: top;\n",
       "    }\n",
       "\n",
       "    .dataframe thead th {\n",
       "        text-align: right;\n",
       "    }\n",
       "</style>\n",
       "<table border=\"1\" class=\"dataframe\">\n",
       "  <thead>\n",
       "    <tr style=\"text-align: right;\">\n",
       "      <th></th>\n",
       "      <th>event_name</th>\n",
       "      <th>event_count</th>\n",
       "      <th>users_count</th>\n",
       "      <th>user_share</th>\n",
       "    </tr>\n",
       "  </thead>\n",
       "  <tbody>\n",
       "    <tr>\n",
       "      <th>0</th>\n",
       "      <td>MainScreenAppear</td>\n",
       "      <td>117328</td>\n",
       "      <td>7419</td>\n",
       "      <td>98.47</td>\n",
       "    </tr>\n",
       "    <tr>\n",
       "      <th>1</th>\n",
       "      <td>OffersScreenAppear</td>\n",
       "      <td>46333</td>\n",
       "      <td>4593</td>\n",
       "      <td>60.96</td>\n",
       "    </tr>\n",
       "    <tr>\n",
       "      <th>2</th>\n",
       "      <td>CartScreenAppear</td>\n",
       "      <td>42303</td>\n",
       "      <td>3734</td>\n",
       "      <td>49.56</td>\n",
       "    </tr>\n",
       "    <tr>\n",
       "      <th>3</th>\n",
       "      <td>PaymentScreenSuccessful</td>\n",
       "      <td>33918</td>\n",
       "      <td>3539</td>\n",
       "      <td>46.97</td>\n",
       "    </tr>\n",
       "    <tr>\n",
       "      <th>4</th>\n",
       "      <td>Tutorial</td>\n",
       "      <td>1005</td>\n",
       "      <td>840</td>\n",
       "      <td>11.15</td>\n",
       "    </tr>\n",
       "  </tbody>\n",
       "</table>\n",
       "</div>"
      ],
      "text/plain": [
       "                event_name  event_count  users_count  user_share\n",
       "0  MainScreenAppear         117328       7419        98.47      \n",
       "1  OffersScreenAppear       46333        4593        60.96      \n",
       "2  CartScreenAppear         42303        3734        49.56      \n",
       "3  PaymentScreenSuccessful  33918        3539        46.97      \n",
       "4  Tutorial                 1005         840         11.15      "
      ]
     },
     "execution_count": 52,
     "metadata": {},
     "output_type": "execute_result"
    }
   ],
   "source": [
    "# Определяю количество и долю пользователей, совершивших каждое событие\n",
    "events = (\n",
    "    logs_2w.groupby('event_name')\n",
    "    .agg({'event_name':'count', 'user_id': 'nunique'})\n",
    "    .rename(columns={'event_name':'event_count', 'user_id':'users_count'})\n",
    "    # столбец 'event_count' - количество событий\n",
    "    # столбец 'users_count' - количество пользователей, совершивших событие\n",
    "    .sort_values(by ='users_count', ascending=False)\n",
    "    .reset_index()\n",
    ")\n",
    "# доля пользователей, совершивших событие\n",
    "events['user_share'] = events['users_count'] / logs_2w['user_id'].nunique()*100 \n",
    "\n",
    "events"
   ]
  },
  {
   "cell_type": "markdown",
   "metadata": {},
   "source": [
    "При сортировке событий по числу пользователей, которые их совершили, также самым популярным событием остался просмотр главной страницы, самым редким - обучение. Логично предположить, что события происходят в следующей постледовательности: просмотр главной страницы - просмотр страницы товара - просмотр корзины - переход на страницу успешной оплаты. При этом обучение не является обязательным событием и не входит в эту последовательную цепочку. Поэтому обучение не будет учитываться при расчете воронки."
   ]
  },
  {
   "cell_type": "code",
   "execution_count": 53,
   "metadata": {},
   "outputs": [],
   "source": [
    "# Построю воронку событий с помощью функции\n",
    "def funnel(df):\n",
    "    events = (\n",
    "    df.groupby('event_name')\n",
    "    .agg({'event_name':'count', 'user_id': 'nunique'})\n",
    "    .rename(columns={'event_name':'event_count', 'user_id':'users_count'})\n",
    "    # столбец 'event_count' - количество событий\n",
    "    # столбец 'users_count' - количество пользователей, совершивших событие    \n",
    "    .sort_values(by ='event_count', ascending=False)\n",
    "    .reset_index()\n",
    ")\n",
    "    # доля пользователей, совершивших событие\n",
    "    events['user_share'] = events['users_count'] / df['user_id'].nunique()*100 \n",
    "    # доля пользователей, перешедших на следующее событие\n",
    "    events['conv'] = events['users_count'] / events['users_count'].shift(1)*100 \n",
    "    events = events[:4]\n",
    "    return events"
   ]
  },
  {
   "cell_type": "code",
   "execution_count": 54,
   "metadata": {},
   "outputs": [
    {
     "data": {
      "text/html": [
       "<div>\n",
       "<style scoped>\n",
       "    .dataframe tbody tr th:only-of-type {\n",
       "        vertical-align: middle;\n",
       "    }\n",
       "\n",
       "    .dataframe tbody tr th {\n",
       "        vertical-align: top;\n",
       "    }\n",
       "\n",
       "    .dataframe thead th {\n",
       "        text-align: right;\n",
       "    }\n",
       "</style>\n",
       "<table border=\"1\" class=\"dataframe\">\n",
       "  <thead>\n",
       "    <tr style=\"text-align: right;\">\n",
       "      <th></th>\n",
       "      <th>event_name</th>\n",
       "      <th>event_count</th>\n",
       "      <th>users_count</th>\n",
       "      <th>user_share</th>\n",
       "      <th>conv</th>\n",
       "    </tr>\n",
       "  </thead>\n",
       "  <tbody>\n",
       "    <tr>\n",
       "      <th>0</th>\n",
       "      <td>MainScreenAppear</td>\n",
       "      <td>117328</td>\n",
       "      <td>7419</td>\n",
       "      <td>98.47</td>\n",
       "      <td>NaN</td>\n",
       "    </tr>\n",
       "    <tr>\n",
       "      <th>1</th>\n",
       "      <td>OffersScreenAppear</td>\n",
       "      <td>46333</td>\n",
       "      <td>4593</td>\n",
       "      <td>60.96</td>\n",
       "      <td>61.91</td>\n",
       "    </tr>\n",
       "    <tr>\n",
       "      <th>2</th>\n",
       "      <td>CartScreenAppear</td>\n",
       "      <td>42303</td>\n",
       "      <td>3734</td>\n",
       "      <td>49.56</td>\n",
       "      <td>81.30</td>\n",
       "    </tr>\n",
       "    <tr>\n",
       "      <th>3</th>\n",
       "      <td>PaymentScreenSuccessful</td>\n",
       "      <td>33918</td>\n",
       "      <td>3539</td>\n",
       "      <td>46.97</td>\n",
       "      <td>94.78</td>\n",
       "    </tr>\n",
       "  </tbody>\n",
       "</table>\n",
       "</div>"
      ],
      "text/plain": [
       "                event_name  event_count  users_count  user_share  conv\n",
       "0  MainScreenAppear         117328       7419        98.47       NaN  \n",
       "1  OffersScreenAppear       46333        4593        60.96       61.91\n",
       "2  CartScreenAppear         42303        3734        49.56       81.30\n",
       "3  PaymentScreenSuccessful  33918        3539        46.97       94.78"
      ]
     },
     "execution_count": 54,
     "metadata": {},
     "output_type": "execute_result"
    }
   ],
   "source": [
    "funnel_logs_2w = funnel(logs_2w)\n",
    "funnel_logs_2w"
   ]
  },
  {
   "cell_type": "markdown",
   "metadata": {},
   "source": [
    "Расчитаю долю пользователей, которые доходят от первого события до оплаты."
   ]
  },
  {
   "cell_type": "code",
   "execution_count": 55,
   "metadata": {},
   "outputs": [
    {
     "name": "stdout",
     "output_type": "stream",
     "text": [
      "Доля пользователей, дошедших от первого события до оплаты: 47.7%\n"
     ]
    }
   ],
   "source": [
    "user_share_all_steps = funnel_logs_2w['users_count'][3]/funnel_logs_2w['users_count'][0]\n",
    "print(f'Доля пользователей, дошедших от первого события до оплаты: {(user_share_all_steps):.1%}')"
   ]
  },
  {
   "cell_type": "markdown",
   "metadata": {},
   "source": [
    "Строю график воронки событий по количеству пользователей."
   ]
  },
  {
   "cell_type": "code",
   "execution_count": 56,
   "metadata": {
    "scrolled": false
   },
   "outputs": [
    {
     "data": {
      "application/vnd.plotly.v1+json": {
       "config": {
        "plotlyServerURL": "https://plot.ly"
       },
       "data": [
        {
         "type": "funnel",
         "x": [
          7419,
          4593,
          3734,
          3539
         ],
         "y": [
          "MainScreenAppear",
          "OffersScreenAppear",
          "CartScreenAppear",
          "PaymentScreenSuccessful"
         ]
        }
       ],
       "layout": {
        "template": {
         "data": {
          "bar": [
           {
            "error_x": {
             "color": "#2a3f5f"
            },
            "error_y": {
             "color": "#2a3f5f"
            },
            "marker": {
             "line": {
              "color": "#E5ECF6",
              "width": 0.5
             },
             "pattern": {
              "fillmode": "overlay",
              "size": 10,
              "solidity": 0.2
             }
            },
            "type": "bar"
           }
          ],
          "barpolar": [
           {
            "marker": {
             "line": {
              "color": "#E5ECF6",
              "width": 0.5
             },
             "pattern": {
              "fillmode": "overlay",
              "size": 10,
              "solidity": 0.2
             }
            },
            "type": "barpolar"
           }
          ],
          "carpet": [
           {
            "aaxis": {
             "endlinecolor": "#2a3f5f",
             "gridcolor": "white",
             "linecolor": "white",
             "minorgridcolor": "white",
             "startlinecolor": "#2a3f5f"
            },
            "baxis": {
             "endlinecolor": "#2a3f5f",
             "gridcolor": "white",
             "linecolor": "white",
             "minorgridcolor": "white",
             "startlinecolor": "#2a3f5f"
            },
            "type": "carpet"
           }
          ],
          "choropleth": [
           {
            "colorbar": {
             "outlinewidth": 0,
             "ticks": ""
            },
            "type": "choropleth"
           }
          ],
          "contour": [
           {
            "colorbar": {
             "outlinewidth": 0,
             "ticks": ""
            },
            "colorscale": [
             [
              0,
              "#0d0887"
             ],
             [
              0.1111111111111111,
              "#46039f"
             ],
             [
              0.2222222222222222,
              "#7201a8"
             ],
             [
              0.3333333333333333,
              "#9c179e"
             ],
             [
              0.4444444444444444,
              "#bd3786"
             ],
             [
              0.5555555555555556,
              "#d8576b"
             ],
             [
              0.6666666666666666,
              "#ed7953"
             ],
             [
              0.7777777777777778,
              "#fb9f3a"
             ],
             [
              0.8888888888888888,
              "#fdca26"
             ],
             [
              1,
              "#f0f921"
             ]
            ],
            "type": "contour"
           }
          ],
          "contourcarpet": [
           {
            "colorbar": {
             "outlinewidth": 0,
             "ticks": ""
            },
            "type": "contourcarpet"
           }
          ],
          "heatmap": [
           {
            "colorbar": {
             "outlinewidth": 0,
             "ticks": ""
            },
            "colorscale": [
             [
              0,
              "#0d0887"
             ],
             [
              0.1111111111111111,
              "#46039f"
             ],
             [
              0.2222222222222222,
              "#7201a8"
             ],
             [
              0.3333333333333333,
              "#9c179e"
             ],
             [
              0.4444444444444444,
              "#bd3786"
             ],
             [
              0.5555555555555556,
              "#d8576b"
             ],
             [
              0.6666666666666666,
              "#ed7953"
             ],
             [
              0.7777777777777778,
              "#fb9f3a"
             ],
             [
              0.8888888888888888,
              "#fdca26"
             ],
             [
              1,
              "#f0f921"
             ]
            ],
            "type": "heatmap"
           }
          ],
          "heatmapgl": [
           {
            "colorbar": {
             "outlinewidth": 0,
             "ticks": ""
            },
            "colorscale": [
             [
              0,
              "#0d0887"
             ],
             [
              0.1111111111111111,
              "#46039f"
             ],
             [
              0.2222222222222222,
              "#7201a8"
             ],
             [
              0.3333333333333333,
              "#9c179e"
             ],
             [
              0.4444444444444444,
              "#bd3786"
             ],
             [
              0.5555555555555556,
              "#d8576b"
             ],
             [
              0.6666666666666666,
              "#ed7953"
             ],
             [
              0.7777777777777778,
              "#fb9f3a"
             ],
             [
              0.8888888888888888,
              "#fdca26"
             ],
             [
              1,
              "#f0f921"
             ]
            ],
            "type": "heatmapgl"
           }
          ],
          "histogram": [
           {
            "marker": {
             "pattern": {
              "fillmode": "overlay",
              "size": 10,
              "solidity": 0.2
             }
            },
            "type": "histogram"
           }
          ],
          "histogram2d": [
           {
            "colorbar": {
             "outlinewidth": 0,
             "ticks": ""
            },
            "colorscale": [
             [
              0,
              "#0d0887"
             ],
             [
              0.1111111111111111,
              "#46039f"
             ],
             [
              0.2222222222222222,
              "#7201a8"
             ],
             [
              0.3333333333333333,
              "#9c179e"
             ],
             [
              0.4444444444444444,
              "#bd3786"
             ],
             [
              0.5555555555555556,
              "#d8576b"
             ],
             [
              0.6666666666666666,
              "#ed7953"
             ],
             [
              0.7777777777777778,
              "#fb9f3a"
             ],
             [
              0.8888888888888888,
              "#fdca26"
             ],
             [
              1,
              "#f0f921"
             ]
            ],
            "type": "histogram2d"
           }
          ],
          "histogram2dcontour": [
           {
            "colorbar": {
             "outlinewidth": 0,
             "ticks": ""
            },
            "colorscale": [
             [
              0,
              "#0d0887"
             ],
             [
              0.1111111111111111,
              "#46039f"
             ],
             [
              0.2222222222222222,
              "#7201a8"
             ],
             [
              0.3333333333333333,
              "#9c179e"
             ],
             [
              0.4444444444444444,
              "#bd3786"
             ],
             [
              0.5555555555555556,
              "#d8576b"
             ],
             [
              0.6666666666666666,
              "#ed7953"
             ],
             [
              0.7777777777777778,
              "#fb9f3a"
             ],
             [
              0.8888888888888888,
              "#fdca26"
             ],
             [
              1,
              "#f0f921"
             ]
            ],
            "type": "histogram2dcontour"
           }
          ],
          "mesh3d": [
           {
            "colorbar": {
             "outlinewidth": 0,
             "ticks": ""
            },
            "type": "mesh3d"
           }
          ],
          "parcoords": [
           {
            "line": {
             "colorbar": {
              "outlinewidth": 0,
              "ticks": ""
             }
            },
            "type": "parcoords"
           }
          ],
          "pie": [
           {
            "automargin": true,
            "type": "pie"
           }
          ],
          "scatter": [
           {
            "marker": {
             "colorbar": {
              "outlinewidth": 0,
              "ticks": ""
             }
            },
            "type": "scatter"
           }
          ],
          "scatter3d": [
           {
            "line": {
             "colorbar": {
              "outlinewidth": 0,
              "ticks": ""
             }
            },
            "marker": {
             "colorbar": {
              "outlinewidth": 0,
              "ticks": ""
             }
            },
            "type": "scatter3d"
           }
          ],
          "scattercarpet": [
           {
            "marker": {
             "colorbar": {
              "outlinewidth": 0,
              "ticks": ""
             }
            },
            "type": "scattercarpet"
           }
          ],
          "scattergeo": [
           {
            "marker": {
             "colorbar": {
              "outlinewidth": 0,
              "ticks": ""
             }
            },
            "type": "scattergeo"
           }
          ],
          "scattergl": [
           {
            "marker": {
             "colorbar": {
              "outlinewidth": 0,
              "ticks": ""
             }
            },
            "type": "scattergl"
           }
          ],
          "scattermapbox": [
           {
            "marker": {
             "colorbar": {
              "outlinewidth": 0,
              "ticks": ""
             }
            },
            "type": "scattermapbox"
           }
          ],
          "scatterpolar": [
           {
            "marker": {
             "colorbar": {
              "outlinewidth": 0,
              "ticks": ""
             }
            },
            "type": "scatterpolar"
           }
          ],
          "scatterpolargl": [
           {
            "marker": {
             "colorbar": {
              "outlinewidth": 0,
              "ticks": ""
             }
            },
            "type": "scatterpolargl"
           }
          ],
          "scatterternary": [
           {
            "marker": {
             "colorbar": {
              "outlinewidth": 0,
              "ticks": ""
             }
            },
            "type": "scatterternary"
           }
          ],
          "surface": [
           {
            "colorbar": {
             "outlinewidth": 0,
             "ticks": ""
            },
            "colorscale": [
             [
              0,
              "#0d0887"
             ],
             [
              0.1111111111111111,
              "#46039f"
             ],
             [
              0.2222222222222222,
              "#7201a8"
             ],
             [
              0.3333333333333333,
              "#9c179e"
             ],
             [
              0.4444444444444444,
              "#bd3786"
             ],
             [
              0.5555555555555556,
              "#d8576b"
             ],
             [
              0.6666666666666666,
              "#ed7953"
             ],
             [
              0.7777777777777778,
              "#fb9f3a"
             ],
             [
              0.8888888888888888,
              "#fdca26"
             ],
             [
              1,
              "#f0f921"
             ]
            ],
            "type": "surface"
           }
          ],
          "table": [
           {
            "cells": {
             "fill": {
              "color": "#EBF0F8"
             },
             "line": {
              "color": "white"
             }
            },
            "header": {
             "fill": {
              "color": "#C8D4E3"
             },
             "line": {
              "color": "white"
             }
            },
            "type": "table"
           }
          ]
         },
         "layout": {
          "annotationdefaults": {
           "arrowcolor": "#2a3f5f",
           "arrowhead": 0,
           "arrowwidth": 1
          },
          "autotypenumbers": "strict",
          "coloraxis": {
           "colorbar": {
            "outlinewidth": 0,
            "ticks": ""
           }
          },
          "colorscale": {
           "diverging": [
            [
             0,
             "#8e0152"
            ],
            [
             0.1,
             "#c51b7d"
            ],
            [
             0.2,
             "#de77ae"
            ],
            [
             0.3,
             "#f1b6da"
            ],
            [
             0.4,
             "#fde0ef"
            ],
            [
             0.5,
             "#f7f7f7"
            ],
            [
             0.6,
             "#e6f5d0"
            ],
            [
             0.7,
             "#b8e186"
            ],
            [
             0.8,
             "#7fbc41"
            ],
            [
             0.9,
             "#4d9221"
            ],
            [
             1,
             "#276419"
            ]
           ],
           "sequential": [
            [
             0,
             "#0d0887"
            ],
            [
             0.1111111111111111,
             "#46039f"
            ],
            [
             0.2222222222222222,
             "#7201a8"
            ],
            [
             0.3333333333333333,
             "#9c179e"
            ],
            [
             0.4444444444444444,
             "#bd3786"
            ],
            [
             0.5555555555555556,
             "#d8576b"
            ],
            [
             0.6666666666666666,
             "#ed7953"
            ],
            [
             0.7777777777777778,
             "#fb9f3a"
            ],
            [
             0.8888888888888888,
             "#fdca26"
            ],
            [
             1,
             "#f0f921"
            ]
           ],
           "sequentialminus": [
            [
             0,
             "#0d0887"
            ],
            [
             0.1111111111111111,
             "#46039f"
            ],
            [
             0.2222222222222222,
             "#7201a8"
            ],
            [
             0.3333333333333333,
             "#9c179e"
            ],
            [
             0.4444444444444444,
             "#bd3786"
            ],
            [
             0.5555555555555556,
             "#d8576b"
            ],
            [
             0.6666666666666666,
             "#ed7953"
            ],
            [
             0.7777777777777778,
             "#fb9f3a"
            ],
            [
             0.8888888888888888,
             "#fdca26"
            ],
            [
             1,
             "#f0f921"
            ]
           ]
          },
          "colorway": [
           "#636efa",
           "#EF553B",
           "#00cc96",
           "#ab63fa",
           "#FFA15A",
           "#19d3f3",
           "#FF6692",
           "#B6E880",
           "#FF97FF",
           "#FECB52"
          ],
          "font": {
           "color": "#2a3f5f"
          },
          "geo": {
           "bgcolor": "white",
           "lakecolor": "white",
           "landcolor": "#E5ECF6",
           "showlakes": true,
           "showland": true,
           "subunitcolor": "white"
          },
          "hoverlabel": {
           "align": "left"
          },
          "hovermode": "closest",
          "mapbox": {
           "style": "light"
          },
          "paper_bgcolor": "white",
          "plot_bgcolor": "#E5ECF6",
          "polar": {
           "angularaxis": {
            "gridcolor": "white",
            "linecolor": "white",
            "ticks": ""
           },
           "bgcolor": "#E5ECF6",
           "radialaxis": {
            "gridcolor": "white",
            "linecolor": "white",
            "ticks": ""
           }
          },
          "scene": {
           "xaxis": {
            "backgroundcolor": "#E5ECF6",
            "gridcolor": "white",
            "gridwidth": 2,
            "linecolor": "white",
            "showbackground": true,
            "ticks": "",
            "zerolinecolor": "white"
           },
           "yaxis": {
            "backgroundcolor": "#E5ECF6",
            "gridcolor": "white",
            "gridwidth": 2,
            "linecolor": "white",
            "showbackground": true,
            "ticks": "",
            "zerolinecolor": "white"
           },
           "zaxis": {
            "backgroundcolor": "#E5ECF6",
            "gridcolor": "white",
            "gridwidth": 2,
            "linecolor": "white",
            "showbackground": true,
            "ticks": "",
            "zerolinecolor": "white"
           }
          },
          "shapedefaults": {
           "line": {
            "color": "#2a3f5f"
           }
          },
          "ternary": {
           "aaxis": {
            "gridcolor": "white",
            "linecolor": "white",
            "ticks": ""
           },
           "baxis": {
            "gridcolor": "white",
            "linecolor": "white",
            "ticks": ""
           },
           "bgcolor": "#E5ECF6",
           "caxis": {
            "gridcolor": "white",
            "linecolor": "white",
            "ticks": ""
           }
          },
          "title": {
           "x": 0.05
          },
          "xaxis": {
           "automargin": true,
           "gridcolor": "white",
           "linecolor": "white",
           "ticks": "",
           "title": {
            "standoff": 15
           },
           "zerolinecolor": "white",
           "zerolinewidth": 2
          },
          "yaxis": {
           "automargin": true,
           "gridcolor": "white",
           "linecolor": "white",
           "ticks": "",
           "title": {
            "standoff": 15
           },
           "zerolinecolor": "white",
           "zerolinewidth": 2
          }
         }
        },
        "title": {
         "text": "Воронка событий по количеству пользователей",
         "x": 0.5
        }
       }
      },
      "text/html": [
       "<div>                            <div id=\"509e38d9-7cc9-4918-9240-5188e3306ae0\" class=\"plotly-graph-div\" style=\"height:525px; width:100%;\"></div>            <script type=\"text/javascript\">                require([\"plotly\"], function(Plotly) {                    window.PLOTLYENV=window.PLOTLYENV || {};                                    if (document.getElementById(\"509e38d9-7cc9-4918-9240-5188e3306ae0\")) {                    Plotly.newPlot(                        \"509e38d9-7cc9-4918-9240-5188e3306ae0\",                        [{\"x\":[7419,4593,3734,3539],\"y\":[\"MainScreenAppear\",\"OffersScreenAppear\",\"CartScreenAppear\",\"PaymentScreenSuccessful\"],\"type\":\"funnel\"}],                        {\"template\":{\"data\":{\"bar\":[{\"error_x\":{\"color\":\"#2a3f5f\"},\"error_y\":{\"color\":\"#2a3f5f\"},\"marker\":{\"line\":{\"color\":\"#E5ECF6\",\"width\":0.5},\"pattern\":{\"fillmode\":\"overlay\",\"size\":10,\"solidity\":0.2}},\"type\":\"bar\"}],\"barpolar\":[{\"marker\":{\"line\":{\"color\":\"#E5ECF6\",\"width\":0.5},\"pattern\":{\"fillmode\":\"overlay\",\"size\":10,\"solidity\":0.2}},\"type\":\"barpolar\"}],\"carpet\":[{\"aaxis\":{\"endlinecolor\":\"#2a3f5f\",\"gridcolor\":\"white\",\"linecolor\":\"white\",\"minorgridcolor\":\"white\",\"startlinecolor\":\"#2a3f5f\"},\"baxis\":{\"endlinecolor\":\"#2a3f5f\",\"gridcolor\":\"white\",\"linecolor\":\"white\",\"minorgridcolor\":\"white\",\"startlinecolor\":\"#2a3f5f\"},\"type\":\"carpet\"}],\"choropleth\":[{\"colorbar\":{\"outlinewidth\":0,\"ticks\":\"\"},\"type\":\"choropleth\"}],\"contour\":[{\"colorbar\":{\"outlinewidth\":0,\"ticks\":\"\"},\"colorscale\":[[0.0,\"#0d0887\"],[0.1111111111111111,\"#46039f\"],[0.2222222222222222,\"#7201a8\"],[0.3333333333333333,\"#9c179e\"],[0.4444444444444444,\"#bd3786\"],[0.5555555555555556,\"#d8576b\"],[0.6666666666666666,\"#ed7953\"],[0.7777777777777778,\"#fb9f3a\"],[0.8888888888888888,\"#fdca26\"],[1.0,\"#f0f921\"]],\"type\":\"contour\"}],\"contourcarpet\":[{\"colorbar\":{\"outlinewidth\":0,\"ticks\":\"\"},\"type\":\"contourcarpet\"}],\"heatmap\":[{\"colorbar\":{\"outlinewidth\":0,\"ticks\":\"\"},\"colorscale\":[[0.0,\"#0d0887\"],[0.1111111111111111,\"#46039f\"],[0.2222222222222222,\"#7201a8\"],[0.3333333333333333,\"#9c179e\"],[0.4444444444444444,\"#bd3786\"],[0.5555555555555556,\"#d8576b\"],[0.6666666666666666,\"#ed7953\"],[0.7777777777777778,\"#fb9f3a\"],[0.8888888888888888,\"#fdca26\"],[1.0,\"#f0f921\"]],\"type\":\"heatmap\"}],\"heatmapgl\":[{\"colorbar\":{\"outlinewidth\":0,\"ticks\":\"\"},\"colorscale\":[[0.0,\"#0d0887\"],[0.1111111111111111,\"#46039f\"],[0.2222222222222222,\"#7201a8\"],[0.3333333333333333,\"#9c179e\"],[0.4444444444444444,\"#bd3786\"],[0.5555555555555556,\"#d8576b\"],[0.6666666666666666,\"#ed7953\"],[0.7777777777777778,\"#fb9f3a\"],[0.8888888888888888,\"#fdca26\"],[1.0,\"#f0f921\"]],\"type\":\"heatmapgl\"}],\"histogram\":[{\"marker\":{\"pattern\":{\"fillmode\":\"overlay\",\"size\":10,\"solidity\":0.2}},\"type\":\"histogram\"}],\"histogram2d\":[{\"colorbar\":{\"outlinewidth\":0,\"ticks\":\"\"},\"colorscale\":[[0.0,\"#0d0887\"],[0.1111111111111111,\"#46039f\"],[0.2222222222222222,\"#7201a8\"],[0.3333333333333333,\"#9c179e\"],[0.4444444444444444,\"#bd3786\"],[0.5555555555555556,\"#d8576b\"],[0.6666666666666666,\"#ed7953\"],[0.7777777777777778,\"#fb9f3a\"],[0.8888888888888888,\"#fdca26\"],[1.0,\"#f0f921\"]],\"type\":\"histogram2d\"}],\"histogram2dcontour\":[{\"colorbar\":{\"outlinewidth\":0,\"ticks\":\"\"},\"colorscale\":[[0.0,\"#0d0887\"],[0.1111111111111111,\"#46039f\"],[0.2222222222222222,\"#7201a8\"],[0.3333333333333333,\"#9c179e\"],[0.4444444444444444,\"#bd3786\"],[0.5555555555555556,\"#d8576b\"],[0.6666666666666666,\"#ed7953\"],[0.7777777777777778,\"#fb9f3a\"],[0.8888888888888888,\"#fdca26\"],[1.0,\"#f0f921\"]],\"type\":\"histogram2dcontour\"}],\"mesh3d\":[{\"colorbar\":{\"outlinewidth\":0,\"ticks\":\"\"},\"type\":\"mesh3d\"}],\"parcoords\":[{\"line\":{\"colorbar\":{\"outlinewidth\":0,\"ticks\":\"\"}},\"type\":\"parcoords\"}],\"pie\":[{\"automargin\":true,\"type\":\"pie\"}],\"scatter\":[{\"marker\":{\"colorbar\":{\"outlinewidth\":0,\"ticks\":\"\"}},\"type\":\"scatter\"}],\"scatter3d\":[{\"line\":{\"colorbar\":{\"outlinewidth\":0,\"ticks\":\"\"}},\"marker\":{\"colorbar\":{\"outlinewidth\":0,\"ticks\":\"\"}},\"type\":\"scatter3d\"}],\"scattercarpet\":[{\"marker\":{\"colorbar\":{\"outlinewidth\":0,\"ticks\":\"\"}},\"type\":\"scattercarpet\"}],\"scattergeo\":[{\"marker\":{\"colorbar\":{\"outlinewidth\":0,\"ticks\":\"\"}},\"type\":\"scattergeo\"}],\"scattergl\":[{\"marker\":{\"colorbar\":{\"outlinewidth\":0,\"ticks\":\"\"}},\"type\":\"scattergl\"}],\"scattermapbox\":[{\"marker\":{\"colorbar\":{\"outlinewidth\":0,\"ticks\":\"\"}},\"type\":\"scattermapbox\"}],\"scatterpolar\":[{\"marker\":{\"colorbar\":{\"outlinewidth\":0,\"ticks\":\"\"}},\"type\":\"scatterpolar\"}],\"scatterpolargl\":[{\"marker\":{\"colorbar\":{\"outlinewidth\":0,\"ticks\":\"\"}},\"type\":\"scatterpolargl\"}],\"scatterternary\":[{\"marker\":{\"colorbar\":{\"outlinewidth\":0,\"ticks\":\"\"}},\"type\":\"scatterternary\"}],\"surface\":[{\"colorbar\":{\"outlinewidth\":0,\"ticks\":\"\"},\"colorscale\":[[0.0,\"#0d0887\"],[0.1111111111111111,\"#46039f\"],[0.2222222222222222,\"#7201a8\"],[0.3333333333333333,\"#9c179e\"],[0.4444444444444444,\"#bd3786\"],[0.5555555555555556,\"#d8576b\"],[0.6666666666666666,\"#ed7953\"],[0.7777777777777778,\"#fb9f3a\"],[0.8888888888888888,\"#fdca26\"],[1.0,\"#f0f921\"]],\"type\":\"surface\"}],\"table\":[{\"cells\":{\"fill\":{\"color\":\"#EBF0F8\"},\"line\":{\"color\":\"white\"}},\"header\":{\"fill\":{\"color\":\"#C8D4E3\"},\"line\":{\"color\":\"white\"}},\"type\":\"table\"}]},\"layout\":{\"annotationdefaults\":{\"arrowcolor\":\"#2a3f5f\",\"arrowhead\":0,\"arrowwidth\":1},\"autotypenumbers\":\"strict\",\"coloraxis\":{\"colorbar\":{\"outlinewidth\":0,\"ticks\":\"\"}},\"colorscale\":{\"diverging\":[[0,\"#8e0152\"],[0.1,\"#c51b7d\"],[0.2,\"#de77ae\"],[0.3,\"#f1b6da\"],[0.4,\"#fde0ef\"],[0.5,\"#f7f7f7\"],[0.6,\"#e6f5d0\"],[0.7,\"#b8e186\"],[0.8,\"#7fbc41\"],[0.9,\"#4d9221\"],[1,\"#276419\"]],\"sequential\":[[0.0,\"#0d0887\"],[0.1111111111111111,\"#46039f\"],[0.2222222222222222,\"#7201a8\"],[0.3333333333333333,\"#9c179e\"],[0.4444444444444444,\"#bd3786\"],[0.5555555555555556,\"#d8576b\"],[0.6666666666666666,\"#ed7953\"],[0.7777777777777778,\"#fb9f3a\"],[0.8888888888888888,\"#fdca26\"],[1.0,\"#f0f921\"]],\"sequentialminus\":[[0.0,\"#0d0887\"],[0.1111111111111111,\"#46039f\"],[0.2222222222222222,\"#7201a8\"],[0.3333333333333333,\"#9c179e\"],[0.4444444444444444,\"#bd3786\"],[0.5555555555555556,\"#d8576b\"],[0.6666666666666666,\"#ed7953\"],[0.7777777777777778,\"#fb9f3a\"],[0.8888888888888888,\"#fdca26\"],[1.0,\"#f0f921\"]]},\"colorway\":[\"#636efa\",\"#EF553B\",\"#00cc96\",\"#ab63fa\",\"#FFA15A\",\"#19d3f3\",\"#FF6692\",\"#B6E880\",\"#FF97FF\",\"#FECB52\"],\"font\":{\"color\":\"#2a3f5f\"},\"geo\":{\"bgcolor\":\"white\",\"lakecolor\":\"white\",\"landcolor\":\"#E5ECF6\",\"showlakes\":true,\"showland\":true,\"subunitcolor\":\"white\"},\"hoverlabel\":{\"align\":\"left\"},\"hovermode\":\"closest\",\"mapbox\":{\"style\":\"light\"},\"paper_bgcolor\":\"white\",\"plot_bgcolor\":\"#E5ECF6\",\"polar\":{\"angularaxis\":{\"gridcolor\":\"white\",\"linecolor\":\"white\",\"ticks\":\"\"},\"bgcolor\":\"#E5ECF6\",\"radialaxis\":{\"gridcolor\":\"white\",\"linecolor\":\"white\",\"ticks\":\"\"}},\"scene\":{\"xaxis\":{\"backgroundcolor\":\"#E5ECF6\",\"gridcolor\":\"white\",\"gridwidth\":2,\"linecolor\":\"white\",\"showbackground\":true,\"ticks\":\"\",\"zerolinecolor\":\"white\"},\"yaxis\":{\"backgroundcolor\":\"#E5ECF6\",\"gridcolor\":\"white\",\"gridwidth\":2,\"linecolor\":\"white\",\"showbackground\":true,\"ticks\":\"\",\"zerolinecolor\":\"white\"},\"zaxis\":{\"backgroundcolor\":\"#E5ECF6\",\"gridcolor\":\"white\",\"gridwidth\":2,\"linecolor\":\"white\",\"showbackground\":true,\"ticks\":\"\",\"zerolinecolor\":\"white\"}},\"shapedefaults\":{\"line\":{\"color\":\"#2a3f5f\"}},\"ternary\":{\"aaxis\":{\"gridcolor\":\"white\",\"linecolor\":\"white\",\"ticks\":\"\"},\"baxis\":{\"gridcolor\":\"white\",\"linecolor\":\"white\",\"ticks\":\"\"},\"bgcolor\":\"#E5ECF6\",\"caxis\":{\"gridcolor\":\"white\",\"linecolor\":\"white\",\"ticks\":\"\"}},\"title\":{\"x\":0.05},\"xaxis\":{\"automargin\":true,\"gridcolor\":\"white\",\"linecolor\":\"white\",\"ticks\":\"\",\"title\":{\"standoff\":15},\"zerolinecolor\":\"white\",\"zerolinewidth\":2},\"yaxis\":{\"automargin\":true,\"gridcolor\":\"white\",\"linecolor\":\"white\",\"ticks\":\"\",\"title\":{\"standoff\":15},\"zerolinecolor\":\"white\",\"zerolinewidth\":2}}},\"title\":{\"x\":0.5,\"text\":\"\\u0412\\u043e\\u0440\\u043e\\u043d\\u043a\\u0430 \\u0441\\u043e\\u0431\\u044b\\u0442\\u0438\\u0439 \\u043f\\u043e \\u043a\\u043e\\u043b\\u0438\\u0447\\u0435\\u0441\\u0442\\u0432\\u0443 \\u043f\\u043e\\u043b\\u044c\\u0437\\u043e\\u0432\\u0430\\u0442\\u0435\\u043b\\u0435\\u0439\"}},                        {\"responsive\": true}                    ).then(function(){\n",
       "                            \n",
       "var gd = document.getElementById('509e38d9-7cc9-4918-9240-5188e3306ae0');\n",
       "var x = new MutationObserver(function (mutations, observer) {{\n",
       "        var display = window.getComputedStyle(gd).display;\n",
       "        if (!display || display === 'none') {{\n",
       "            console.log([gd, 'removed!']);\n",
       "            Plotly.purge(gd);\n",
       "            observer.disconnect();\n",
       "        }}\n",
       "}});\n",
       "\n",
       "// Listen for the removal of the full notebook cells\n",
       "var notebookContainer = gd.closest('#notebook-container');\n",
       "if (notebookContainer) {{\n",
       "    x.observe(notebookContainer, {childList: true});\n",
       "}}\n",
       "\n",
       "// Listen for the clearing of the current output cell\n",
       "var outputEl = gd.closest('.output');\n",
       "if (outputEl) {{\n",
       "    x.observe(outputEl, {childList: true});\n",
       "}}\n",
       "\n",
       "                        })                };                });            </script>        </div>"
      ]
     },
     "metadata": {},
     "output_type": "display_data"
    }
   ],
   "source": [
    "fig = go.Figure(go.Funnel(\n",
    "    y = funnel_logs_2w['event_name'],\n",
    "    x = funnel_logs_2w['users_count'])\n",
    "               )\n",
    "fig.update_layout(title={'x': 0.5, 'text': 'Воронка событий по количеству пользователей'})\n",
    "fig.show()"
   ]
  },
  {
   "cell_type": "markdown",
   "metadata": {},
   "source": [
    "**Вывод**\n",
    "\n",
    "Наиболее часто встречающееся событие в логе - просмотр главной страницы. Его совершали 7419 пользователей из 7534. Таким образом 1,53% пользователей пропустили это событие и перешли сразу на страницу товара. Вероятно они это сделали по внешней ссылке. \n",
    "\n",
    "События происходят в следующем порядке: просмотр главной страницы - просмотр страницы товара - просмотр корзины - переход на страницу успешной оплаты. \n",
    "\n",
    "Самое редкое событие - обучение. Оно не входит в последовательную цепочку событий.\n",
    "\n",
    "Исходя из получившейся воронки событий видно, что больше всего пользователей (38.09%) теряются при переходе с главной страницы на страницу товара. Доля пользователей, прошедших все события от просмотра главной страницы до успешной оплаты, составляет 47.7%. При этом стоит отметить, что при переходе от просмотра корзины на страницу успешной оплаты теряется около 5.22% пользователей. Возможно возникают какие-то технические неполадки при оплате товаров."
   ]
  },
  {
   "cell_type": "markdown",
   "metadata": {},
   "source": [
    "### Изучение результатов эксперимента"
   ]
  },
  {
   "cell_type": "code",
   "execution_count": 57,
   "metadata": {
    "scrolled": true
   },
   "outputs": [
    {
     "data": {
      "text/plain": [
       "group\n",
       "246        2484\n",
       "247        2513\n",
       "248        2537\n",
       "246+247    4997\n",
       "Name: user_id, dtype: int64"
      ]
     },
     "execution_count": 57,
     "metadata": {},
     "output_type": "execute_result"
    }
   ],
   "source": [
    "# Определяю количество пользователей в каждой эксперементальной группе, а также в сумме в двух контрольных группах\n",
    "users_by_groups = logs_2w.groupby('group', as_index=True)['user_id'].nunique()\n",
    "users_by_groups['246+247'] = users_by_groups[246] + users_by_groups[247]\n",
    "users_by_groups"
   ]
  },
  {
   "cell_type": "code",
   "execution_count": 58,
   "metadata": {
    "scrolled": false
   },
   "outputs": [
    {
     "data": {
      "text/html": [
       "<div>\n",
       "<style scoped>\n",
       "    .dataframe tbody tr th:only-of-type {\n",
       "        vertical-align: middle;\n",
       "    }\n",
       "\n",
       "    .dataframe tbody tr th {\n",
       "        vertical-align: top;\n",
       "    }\n",
       "\n",
       "    .dataframe thead th {\n",
       "        text-align: right;\n",
       "    }\n",
       "</style>\n",
       "<table border=\"1\" class=\"dataframe\">\n",
       "  <thead>\n",
       "    <tr style=\"text-align: right;\">\n",
       "      <th>group</th>\n",
       "      <th>246</th>\n",
       "      <th>247</th>\n",
       "      <th>248</th>\n",
       "      <th>246+247</th>\n",
       "    </tr>\n",
       "    <tr>\n",
       "      <th>event_name</th>\n",
       "      <th></th>\n",
       "      <th></th>\n",
       "      <th></th>\n",
       "      <th></th>\n",
       "    </tr>\n",
       "  </thead>\n",
       "  <tbody>\n",
       "    <tr>\n",
       "      <th>MainScreenAppear</th>\n",
       "      <td>2450</td>\n",
       "      <td>2476</td>\n",
       "      <td>2493</td>\n",
       "      <td>4926</td>\n",
       "    </tr>\n",
       "    <tr>\n",
       "      <th>OffersScreenAppear</th>\n",
       "      <td>1542</td>\n",
       "      <td>1520</td>\n",
       "      <td>1531</td>\n",
       "      <td>3062</td>\n",
       "    </tr>\n",
       "    <tr>\n",
       "      <th>CartScreenAppear</th>\n",
       "      <td>1266</td>\n",
       "      <td>1238</td>\n",
       "      <td>1230</td>\n",
       "      <td>2504</td>\n",
       "    </tr>\n",
       "    <tr>\n",
       "      <th>PaymentScreenSuccessful</th>\n",
       "      <td>1200</td>\n",
       "      <td>1158</td>\n",
       "      <td>1181</td>\n",
       "      <td>2358</td>\n",
       "    </tr>\n",
       "  </tbody>\n",
       "</table>\n",
       "</div>"
      ],
      "text/plain": [
       "group                     246   247   248  246+247\n",
       "event_name                                        \n",
       "MainScreenAppear         2450  2476  2493  4926   \n",
       "OffersScreenAppear       1542  1520  1531  3062   \n",
       "CartScreenAppear         1266  1238  1230  2504   \n",
       "PaymentScreenSuccessful  1200  1158  1181  2358   "
      ]
     },
     "execution_count": 58,
     "metadata": {},
     "output_type": "execute_result"
    }
   ],
   "source": [
    "# Определяю количество пользователей на каждое событие в разрезе групп:\n",
    "events_by_groups = (\n",
    "    logs_2w.pivot_table(index='event_name', columns='group', values='user_id', aggfunc='nunique')\n",
    "    .sort_values(by=246, ascending=False)\n",
    "                  )\n",
    "events_by_groups['246+247'] = events_by_groups[246] + events_by_groups[247]\n",
    "events_by_groups = events_by_groups[:4]\n",
    "events_by_groups"
   ]
  },
  {
   "cell_type": "markdown",
   "metadata": {},
   "source": [
    "**А/А-тест**\n",
    "\n",
    "Для А/А-эксперимента представлены 2 контрольные группы, чтобы проверить корректность всех механизмов и расчётов. Проверю, находят ли статистические критерии разницу между выборками 246 и 247."
   ]
  },
  {
   "cell_type": "markdown",
   "metadata": {},
   "source": [
    "*Критерии успешного A/A-теста:*\n",
    "- Количество пользователей в различных группах различается не более, чем на 1%;\n",
    "- Для всех групп фиксируют и отправляют в системы аналитики данные об одном и том же;\n",
    "- Различие ключевых метрик по группам не превышает 1% и не имеет статистической значимости;\n",
    "- Попавший в одну из групп посетитель остаётся в этой группе до конца теста."
   ]
  },
  {
   "cell_type": "code",
   "execution_count": 59,
   "metadata": {},
   "outputs": [
    {
     "name": "stdout",
     "output_type": "stream",
     "text": [
      "Отличие размеров контрольных групп составляет 1.15 %\n"
     ]
    }
   ],
   "source": [
    "# Расчитаю на сколько отличаются размеры контрольных групп\n",
    "print( \n",
    "    'Отличие размеров контрольных групп составляет', \n",
    "    round((1-(users_by_groups[246]/users_by_groups[247]))*100, 2), '%'\n",
    "    )"
   ]
  },
  {
   "cell_type": "code",
   "execution_count": 60,
   "metadata": {},
   "outputs": [
    {
     "data": {
      "text/plain": [
       "0"
      ]
     },
     "execution_count": 60,
     "metadata": {},
     "output_type": "execute_result"
    }
   ],
   "source": [
    "# Проверю, есть ли пользователи, которые встречаются в обеих контрольных группах\n",
    "len(np.intersect1d(logs_2w.query('group == 246')['user_id'].unique(), logs_2w.query('group == \"247\"')['user_id'].unique()))"
   ]
  },
  {
   "cell_type": "markdown",
   "metadata": {},
   "source": [
    "Проверю, есть ли пользователи, которые пересекаются в двух группах."
   ]
  },
  {
   "cell_type": "code",
   "execution_count": 61,
   "metadata": {},
   "outputs": [
    {
     "data": {
      "text/plain": [
       "0"
      ]
     },
     "execution_count": 61,
     "metadata": {},
     "output_type": "execute_result"
    }
   ],
   "source": [
    "len(np.intersect1d(logs_2w.query('group == 248')['user_id'].unique(), logs_2w.query('group == \"247\"')['user_id'].unique()))"
   ]
  },
  {
   "cell_type": "code",
   "execution_count": 62,
   "metadata": {
    "scrolled": false
   },
   "outputs": [
    {
     "data": {
      "text/plain": [
       "0"
      ]
     },
     "execution_count": 62,
     "metadata": {},
     "output_type": "execute_result"
    }
   ],
   "source": [
    "len(np.intersect1d(logs_2w.query('group == 248')['user_id'].unique(), logs_2w.query('group == \"246\"')['user_id'].unique()))"
   ]
  },
  {
   "cell_type": "markdown",
   "metadata": {},
   "source": [
    "Пользователи, которые встречаются одновременно в каких-либо двух группах, отсутствуют."
   ]
  },
  {
   "cell_type": "markdown",
   "metadata": {},
   "source": [
    "Число пользователей в группах отличается на 1.15%, это больше, чем 1%, но не критично. Пользователи, которые встречаются в обеих контрольных группах, отсутствуют. По этим параметрам, полагаю, можно считать данные контрольных групп корректными."
   ]
  },
  {
   "cell_type": "markdown",
   "metadata": {},
   "source": [
    "Для того, чтобы проверить, будет ли отличие между группами статистически достоверным, проведу Z-тест на равенство долей для контрольных групп. "
   ]
  },
  {
   "cell_type": "markdown",
   "metadata": {},
   "source": [
    "Построю воронки событий для каждой контрольной группы."
   ]
  },
  {
   "cell_type": "code",
   "execution_count": 63,
   "metadata": {},
   "outputs": [
    {
     "name": "stdout",
     "output_type": "stream",
     "text": [
      "Воронка событий для группы 246\n"
     ]
    },
    {
     "data": {
      "text/html": [
       "<div>\n",
       "<style scoped>\n",
       "    .dataframe tbody tr th:only-of-type {\n",
       "        vertical-align: middle;\n",
       "    }\n",
       "\n",
       "    .dataframe tbody tr th {\n",
       "        vertical-align: top;\n",
       "    }\n",
       "\n",
       "    .dataframe thead th {\n",
       "        text-align: right;\n",
       "    }\n",
       "</style>\n",
       "<table border=\"1\" class=\"dataframe\">\n",
       "  <thead>\n",
       "    <tr style=\"text-align: right;\">\n",
       "      <th></th>\n",
       "      <th>event_name</th>\n",
       "      <th>event_count</th>\n",
       "      <th>users_count</th>\n",
       "      <th>user_share</th>\n",
       "      <th>conv</th>\n",
       "    </tr>\n",
       "  </thead>\n",
       "  <tbody>\n",
       "    <tr>\n",
       "      <th>0</th>\n",
       "      <td>MainScreenAppear</td>\n",
       "      <td>37676</td>\n",
       "      <td>2450</td>\n",
       "      <td>98.63</td>\n",
       "      <td>NaN</td>\n",
       "    </tr>\n",
       "    <tr>\n",
       "      <th>1</th>\n",
       "      <td>OffersScreenAppear</td>\n",
       "      <td>14767</td>\n",
       "      <td>1542</td>\n",
       "      <td>62.08</td>\n",
       "      <td>62.94</td>\n",
       "    </tr>\n",
       "    <tr>\n",
       "      <th>2</th>\n",
       "      <td>CartScreenAppear</td>\n",
       "      <td>14690</td>\n",
       "      <td>1266</td>\n",
       "      <td>50.97</td>\n",
       "      <td>82.10</td>\n",
       "    </tr>\n",
       "    <tr>\n",
       "      <th>3</th>\n",
       "      <td>PaymentScreenSuccessful</td>\n",
       "      <td>11852</td>\n",
       "      <td>1200</td>\n",
       "      <td>48.31</td>\n",
       "      <td>94.79</td>\n",
       "    </tr>\n",
       "  </tbody>\n",
       "</table>\n",
       "</div>"
      ],
      "text/plain": [
       "                event_name  event_count  users_count  user_share  conv\n",
       "0  MainScreenAppear         37676        2450        98.63       NaN  \n",
       "1  OffersScreenAppear       14767        1542        62.08       62.94\n",
       "2  CartScreenAppear         14690        1266        50.97       82.10\n",
       "3  PaymentScreenSuccessful  11852        1200        48.31       94.79"
      ]
     },
     "metadata": {},
     "output_type": "display_data"
    }
   ],
   "source": [
    "logs_246 = logs_2w.query('group == 246')\n",
    "print('Воронка событий для группы 246')\n",
    "display(funnel(logs_246))"
   ]
  },
  {
   "cell_type": "code",
   "execution_count": 64,
   "metadata": {
    "scrolled": true
   },
   "outputs": [
    {
     "name": "stdout",
     "output_type": "stream",
     "text": [
      "Воронка событий для группы 247\n"
     ]
    },
    {
     "data": {
      "text/html": [
       "<div>\n",
       "<style scoped>\n",
       "    .dataframe tbody tr th:only-of-type {\n",
       "        vertical-align: middle;\n",
       "    }\n",
       "\n",
       "    .dataframe tbody tr th {\n",
       "        vertical-align: top;\n",
       "    }\n",
       "\n",
       "    .dataframe thead th {\n",
       "        text-align: right;\n",
       "    }\n",
       "</style>\n",
       "<table border=\"1\" class=\"dataframe\">\n",
       "  <thead>\n",
       "    <tr style=\"text-align: right;\">\n",
       "      <th></th>\n",
       "      <th>event_name</th>\n",
       "      <th>event_count</th>\n",
       "      <th>users_count</th>\n",
       "      <th>user_share</th>\n",
       "      <th>conv</th>\n",
       "    </tr>\n",
       "  </thead>\n",
       "  <tbody>\n",
       "    <tr>\n",
       "      <th>0</th>\n",
       "      <td>MainScreenAppear</td>\n",
       "      <td>39090</td>\n",
       "      <td>2476</td>\n",
       "      <td>98.53</td>\n",
       "      <td>NaN</td>\n",
       "    </tr>\n",
       "    <tr>\n",
       "      <th>1</th>\n",
       "      <td>OffersScreenAppear</td>\n",
       "      <td>15179</td>\n",
       "      <td>1520</td>\n",
       "      <td>60.49</td>\n",
       "      <td>61.39</td>\n",
       "    </tr>\n",
       "    <tr>\n",
       "      <th>2</th>\n",
       "      <td>CartScreenAppear</td>\n",
       "      <td>12434</td>\n",
       "      <td>1238</td>\n",
       "      <td>49.26</td>\n",
       "      <td>81.45</td>\n",
       "    </tr>\n",
       "    <tr>\n",
       "      <th>3</th>\n",
       "      <td>PaymentScreenSuccessful</td>\n",
       "      <td>9981</td>\n",
       "      <td>1158</td>\n",
       "      <td>46.08</td>\n",
       "      <td>93.54</td>\n",
       "    </tr>\n",
       "  </tbody>\n",
       "</table>\n",
       "</div>"
      ],
      "text/plain": [
       "                event_name  event_count  users_count  user_share  conv\n",
       "0  MainScreenAppear         39090        2476        98.53       NaN  \n",
       "1  OffersScreenAppear       15179        1520        60.49       61.39\n",
       "2  CartScreenAppear         12434        1238        49.26       81.45\n",
       "3  PaymentScreenSuccessful  9981         1158        46.08       93.54"
      ]
     },
     "metadata": {},
     "output_type": "display_data"
    }
   ],
   "source": [
    "logs_247 = logs_2w.query('group == 247')\n",
    "print('Воронка событий для группы 247')\n",
    "display(funnel(logs_247))"
   ]
  },
  {
   "cell_type": "markdown",
   "metadata": {},
   "source": [
    "Формулирую гипотезы:\n",
    "\n",
    "- Н0 : конверсии групп не отличаются,\n",
    "- Н1 : конверсии групп отличаются.\n",
    "\n",
    "Размеры групп превышают 2 тыс. пользователей. Это достаточно большие выборки, которые позволяют установить небольшой коэффициент статистической значимости, что будет означать также и небольшую вероятность ошибки первого рода. Коэффициент статистической значимости принимаю равным 0.01."
   ]
  },
  {
   "cell_type": "markdown",
   "metadata": {},
   "source": [
    "Задаю функцию z_test(group_1, group_2, alpha, event) для проведения z-теста для проверки гипотезы о равенстве долей двух выборок, где:\n",
    "\n",
    "- group_1, group_2 - номера тестируемых групп,\n",
    "- alpha - критический уровень статистической значимости,\n",
    "- event - событие, на уровне которого мы проверяем равенство долей."
   ]
  },
  {
   "cell_type": "code",
   "execution_count": 65,
   "metadata": {},
   "outputs": [],
   "source": [
    "def z_test (group_1, group_2, alpha, event):\n",
    "\n",
    "    # критический уровень статистической значимости\n",
    "    alpha = alpha \n",
    "    \n",
    "    #значения выборок на уровне тестируемого события\n",
    "    successes_1 = events_by_groups.loc[event, group_1]\n",
    "    successes_2 = events_by_groups.loc[event, group_2]\n",
    "    \n",
    "    #первоначальные значения выборок \n",
    "    trials_1 = users_by_groups[group_1] \n",
    "    trials_2 = users_by_groups[group_2]\n",
    "\n",
    "    # пропорция успехов\n",
    "    p1 = successes_1/trials_1\n",
    "    p2 = successes_2/trials_2\n",
    "\n",
    "    # пропорция успехов в комбинированном датасете\n",
    "    p_combined = (successes_1 + successes_2) / (trials_1 + trials_2)\n",
    "\n",
    "    # разница пропорций в датасетах\n",
    "    difference = p1 - p2 \n",
    "\n",
    "    # считаю статистику в ст.отклонениях стандартного нормального распределения\n",
    "    z_value = difference / mth.sqrt(p_combined * (1 - p_combined) * (1/trials_1 + 1/trials_2))\n",
    "\n",
    "    # задаю стандартное нормальное распределение (среднее = 0, ст.отклонение = 1)\n",
    "    distr = st.norm(0, 1)  \n",
    "\n",
    "    p_value = (1 - distr.cdf(abs(z_value))) * 2\n",
    "\n",
    "    if p_value < alpha:\n",
    "        return [group_1, group_2, event, p_value, 'отвергаем Н0']\n",
    "    else:\n",
    "        return [group_1, group_2, event, p_value, 'не отвергаем Н0']"
   ]
  },
  {
   "cell_type": "markdown",
   "metadata": {},
   "source": [
    "Самое популярное событие в логе - просмотр главной страницы (MainScreenAppear). Провожу z_test по этому событию."
   ]
  },
  {
   "cell_type": "code",
   "execution_count": 66,
   "metadata": {},
   "outputs": [
    {
     "data": {
      "text/plain": [
       "[246, 247, 'MainScreenAppear', 0.7570597232046099, 'не отвергаем Н0']"
      ]
     },
     "execution_count": 66,
     "metadata": {},
     "output_type": "execute_result"
    }
   ],
   "source": [
    "z_test (246, 247, 0.01, 'MainScreenAppear')"
   ]
  },
  {
   "cell_type": "markdown",
   "metadata": {},
   "source": [
    "Провожу z_test по остальным событиям."
   ]
  },
  {
   "cell_type": "code",
   "execution_count": 67,
   "metadata": {
    "scrolled": true
   },
   "outputs": [
    {
     "data": {
      "text/html": [
       "<div>\n",
       "<style scoped>\n",
       "    .dataframe tbody tr th:only-of-type {\n",
       "        vertical-align: middle;\n",
       "    }\n",
       "\n",
       "    .dataframe tbody tr th {\n",
       "        vertical-align: top;\n",
       "    }\n",
       "\n",
       "    .dataframe thead th {\n",
       "        text-align: right;\n",
       "    }\n",
       "</style>\n",
       "<table border=\"1\" class=\"dataframe\">\n",
       "  <thead>\n",
       "    <tr style=\"text-align: right;\">\n",
       "      <th></th>\n",
       "      <th>group_1</th>\n",
       "      <th>group_2</th>\n",
       "      <th>event</th>\n",
       "      <th>p_value</th>\n",
       "      <th>H0</th>\n",
       "    </tr>\n",
       "  </thead>\n",
       "  <tbody>\n",
       "    <tr>\n",
       "      <th>0</th>\n",
       "      <td>246</td>\n",
       "      <td>247</td>\n",
       "      <td>MainScreenAppear</td>\n",
       "      <td>0.76</td>\n",
       "      <td>не отвергаем Н0</td>\n",
       "    </tr>\n",
       "    <tr>\n",
       "      <th>1</th>\n",
       "      <td>246</td>\n",
       "      <td>247</td>\n",
       "      <td>OffersScreenAppear</td>\n",
       "      <td>0.25</td>\n",
       "      <td>не отвергаем Н0</td>\n",
       "    </tr>\n",
       "    <tr>\n",
       "      <th>2</th>\n",
       "      <td>246</td>\n",
       "      <td>247</td>\n",
       "      <td>CartScreenAppear</td>\n",
       "      <td>0.23</td>\n",
       "      <td>не отвергаем Н0</td>\n",
       "    </tr>\n",
       "    <tr>\n",
       "      <th>3</th>\n",
       "      <td>246</td>\n",
       "      <td>247</td>\n",
       "      <td>PaymentScreenSuccessful</td>\n",
       "      <td>0.11</td>\n",
       "      <td>не отвергаем Н0</td>\n",
       "    </tr>\n",
       "  </tbody>\n",
       "</table>\n",
       "</div>"
      ],
      "text/plain": [
       "   group_1  group_2                    event  p_value               H0\n",
       "0  246      247      MainScreenAppear        0.76      не отвергаем Н0\n",
       "1  246      247      OffersScreenAppear      0.25      не отвергаем Н0\n",
       "2  246      247      CartScreenAppear        0.23      не отвергаем Н0\n",
       "3  246      247      PaymentScreenSuccessful 0.11      не отвергаем Н0"
      ]
     },
     "execution_count": 67,
     "metadata": {},
     "output_type": "execute_result"
    }
   ],
   "source": [
    "# Создаю список для формирования результатов теста\n",
    "p = [] \n",
    "# Задаю уровень статистической значимости\n",
    "alpha = 0.01\n",
    "#Создаю цикл для сбора результатов тестов по событиям\n",
    "for group in [[246, 247]]:\n",
    "    for events in events_by_groups.index.values:\n",
    "        p.append(z_test(group[0], group[1], alpha, events))\n",
    "        z_test_df = pd.DataFrame(p, columns=['group_1', 'group_2', 'event', 'p_value', 'H0'])   \n",
    "z_test_df"
   ]
  },
  {
   "cell_type": "markdown",
   "metadata": {},
   "source": [
    "Проведение 4-х z-тестов контрольных групп 246 и 247 не выявило статистически достоверных отличий между группами. На основании этого можно сделать вывод, что разбиение на группы выполнено корректно."
   ]
  },
  {
   "cell_type": "markdown",
   "metadata": {},
   "source": [
    "**А/В-тест**\n",
    "\n",
    "Проведу аналогичные тесты с группой с измененным шрифтом и посмотрю, будет ли отличие между группами статистически достоверным."
   ]
  },
  {
   "cell_type": "code",
   "execution_count": 68,
   "metadata": {
    "scrolled": true
   },
   "outputs": [
    {
     "name": "stdout",
     "output_type": "stream",
     "text": [
      "Воронка событий для группы 248\n"
     ]
    },
    {
     "data": {
      "text/html": [
       "<div>\n",
       "<style scoped>\n",
       "    .dataframe tbody tr th:only-of-type {\n",
       "        vertical-align: middle;\n",
       "    }\n",
       "\n",
       "    .dataframe tbody tr th {\n",
       "        vertical-align: top;\n",
       "    }\n",
       "\n",
       "    .dataframe thead th {\n",
       "        text-align: right;\n",
       "    }\n",
       "</style>\n",
       "<table border=\"1\" class=\"dataframe\">\n",
       "  <thead>\n",
       "    <tr style=\"text-align: right;\">\n",
       "      <th></th>\n",
       "      <th>event_name</th>\n",
       "      <th>event_count</th>\n",
       "      <th>users_count</th>\n",
       "      <th>user_share</th>\n",
       "      <th>conv</th>\n",
       "    </tr>\n",
       "  </thead>\n",
       "  <tbody>\n",
       "    <tr>\n",
       "      <th>0</th>\n",
       "      <td>MainScreenAppear</td>\n",
       "      <td>40562</td>\n",
       "      <td>2493</td>\n",
       "      <td>98.27</td>\n",
       "      <td>NaN</td>\n",
       "    </tr>\n",
       "    <tr>\n",
       "      <th>1</th>\n",
       "      <td>OffersScreenAppear</td>\n",
       "      <td>16387</td>\n",
       "      <td>1531</td>\n",
       "      <td>60.35</td>\n",
       "      <td>61.41</td>\n",
       "    </tr>\n",
       "    <tr>\n",
       "      <th>2</th>\n",
       "      <td>CartScreenAppear</td>\n",
       "      <td>15179</td>\n",
       "      <td>1230</td>\n",
       "      <td>48.48</td>\n",
       "      <td>80.34</td>\n",
       "    </tr>\n",
       "    <tr>\n",
       "      <th>3</th>\n",
       "      <td>PaymentScreenSuccessful</td>\n",
       "      <td>12085</td>\n",
       "      <td>1181</td>\n",
       "      <td>46.55</td>\n",
       "      <td>96.02</td>\n",
       "    </tr>\n",
       "  </tbody>\n",
       "</table>\n",
       "</div>"
      ],
      "text/plain": [
       "                event_name  event_count  users_count  user_share  conv\n",
       "0  MainScreenAppear         40562        2493        98.27       NaN  \n",
       "1  OffersScreenAppear       16387        1531        60.35       61.41\n",
       "2  CartScreenAppear         15179        1230        48.48       80.34\n",
       "3  PaymentScreenSuccessful  12085        1181        46.55       96.02"
      ]
     },
     "metadata": {},
     "output_type": "display_data"
    }
   ],
   "source": [
    "# Построю воронку событий для группы 248.\n",
    "logs_248 = logs_2w.query('group == 248')\n",
    "print('Воронка событий для группы 248')\n",
    "display(funnel(logs_248))"
   ]
  },
  {
   "cell_type": "code",
   "execution_count": 69,
   "metadata": {
    "scrolled": true
   },
   "outputs": [
    {
     "data": {
      "text/html": [
       "<div>\n",
       "<style scoped>\n",
       "    .dataframe tbody tr th:only-of-type {\n",
       "        vertical-align: middle;\n",
       "    }\n",
       "\n",
       "    .dataframe tbody tr th {\n",
       "        vertical-align: top;\n",
       "    }\n",
       "\n",
       "    .dataframe thead th {\n",
       "        text-align: right;\n",
       "    }\n",
       "</style>\n",
       "<table border=\"1\" class=\"dataframe\">\n",
       "  <thead>\n",
       "    <tr style=\"text-align: right;\">\n",
       "      <th></th>\n",
       "      <th>group_1</th>\n",
       "      <th>group_2</th>\n",
       "      <th>event</th>\n",
       "      <th>p_value</th>\n",
       "      <th>H0</th>\n",
       "    </tr>\n",
       "  </thead>\n",
       "  <tbody>\n",
       "    <tr>\n",
       "      <th>0</th>\n",
       "      <td>246</td>\n",
       "      <td>248</td>\n",
       "      <td>MainScreenAppear</td>\n",
       "      <td>0.29</td>\n",
       "      <td>не отвергаем Н0</td>\n",
       "    </tr>\n",
       "    <tr>\n",
       "      <th>1</th>\n",
       "      <td>246</td>\n",
       "      <td>248</td>\n",
       "      <td>OffersScreenAppear</td>\n",
       "      <td>0.21</td>\n",
       "      <td>не отвергаем Н0</td>\n",
       "    </tr>\n",
       "    <tr>\n",
       "      <th>2</th>\n",
       "      <td>246</td>\n",
       "      <td>248</td>\n",
       "      <td>CartScreenAppear</td>\n",
       "      <td>0.08</td>\n",
       "      <td>не отвергаем Н0</td>\n",
       "    </tr>\n",
       "    <tr>\n",
       "      <th>3</th>\n",
       "      <td>246</td>\n",
       "      <td>248</td>\n",
       "      <td>PaymentScreenSuccessful</td>\n",
       "      <td>0.21</td>\n",
       "      <td>не отвергаем Н0</td>\n",
       "    </tr>\n",
       "    <tr>\n",
       "      <th>4</th>\n",
       "      <td>247</td>\n",
       "      <td>248</td>\n",
       "      <td>MainScreenAppear</td>\n",
       "      <td>0.46</td>\n",
       "      <td>не отвергаем Н0</td>\n",
       "    </tr>\n",
       "    <tr>\n",
       "      <th>5</th>\n",
       "      <td>247</td>\n",
       "      <td>248</td>\n",
       "      <td>OffersScreenAppear</td>\n",
       "      <td>0.92</td>\n",
       "      <td>не отвергаем Н0</td>\n",
       "    </tr>\n",
       "    <tr>\n",
       "      <th>6</th>\n",
       "      <td>247</td>\n",
       "      <td>248</td>\n",
       "      <td>CartScreenAppear</td>\n",
       "      <td>0.58</td>\n",
       "      <td>не отвергаем Н0</td>\n",
       "    </tr>\n",
       "    <tr>\n",
       "      <th>7</th>\n",
       "      <td>247</td>\n",
       "      <td>248</td>\n",
       "      <td>PaymentScreenSuccessful</td>\n",
       "      <td>0.74</td>\n",
       "      <td>не отвергаем Н0</td>\n",
       "    </tr>\n",
       "    <tr>\n",
       "      <th>8</th>\n",
       "      <td>246+247</td>\n",
       "      <td>248</td>\n",
       "      <td>MainScreenAppear</td>\n",
       "      <td>0.29</td>\n",
       "      <td>не отвергаем Н0</td>\n",
       "    </tr>\n",
       "    <tr>\n",
       "      <th>9</th>\n",
       "      <td>246+247</td>\n",
       "      <td>248</td>\n",
       "      <td>OffersScreenAppear</td>\n",
       "      <td>0.43</td>\n",
       "      <td>не отвергаем Н0</td>\n",
       "    </tr>\n",
       "    <tr>\n",
       "      <th>10</th>\n",
       "      <td>246+247</td>\n",
       "      <td>248</td>\n",
       "      <td>CartScreenAppear</td>\n",
       "      <td>0.18</td>\n",
       "      <td>не отвергаем Н0</td>\n",
       "    </tr>\n",
       "    <tr>\n",
       "      <th>11</th>\n",
       "      <td>246+247</td>\n",
       "      <td>248</td>\n",
       "      <td>PaymentScreenSuccessful</td>\n",
       "      <td>0.60</td>\n",
       "      <td>не отвергаем Н0</td>\n",
       "    </tr>\n",
       "  </tbody>\n",
       "</table>\n",
       "</div>"
      ],
      "text/plain": [
       "    group_1  group_2                    event  p_value               H0\n",
       "0   246      248      MainScreenAppear        0.29      не отвергаем Н0\n",
       "1   246      248      OffersScreenAppear      0.21      не отвергаем Н0\n",
       "2   246      248      CartScreenAppear        0.08      не отвергаем Н0\n",
       "3   246      248      PaymentScreenSuccessful 0.21      не отвергаем Н0\n",
       "4   247      248      MainScreenAppear        0.46      не отвергаем Н0\n",
       "5   247      248      OffersScreenAppear      0.92      не отвергаем Н0\n",
       "6   247      248      CartScreenAppear        0.58      не отвергаем Н0\n",
       "7   247      248      PaymentScreenSuccessful 0.74      не отвергаем Н0\n",
       "8   246+247  248      MainScreenAppear        0.29      не отвергаем Н0\n",
       "9   246+247  248      OffersScreenAppear      0.43      не отвергаем Н0\n",
       "10  246+247  248      CartScreenAppear        0.18      не отвергаем Н0\n",
       "11  246+247  248      PaymentScreenSuccessful 0.60      не отвергаем Н0"
      ]
     },
     "execution_count": 69,
     "metadata": {},
     "output_type": "execute_result"
    }
   ],
   "source": [
    "# Создаю список для формирования результатов теста\n",
    "p = [] \n",
    "#Задаю уровень статистической значимости:\n",
    "alpha = 0.01\n",
    "# Создаю цикл для сбора результатов тестов по событиям\n",
    "for group in [[246, 248], [247, 248], ['246+247', 248]]:\n",
    "    for events in events_by_groups.index.values:\n",
    "        p.append(z_test(group[0], group[1], alpha, events))\n",
    "        z_test_df = pd.DataFrame(p, columns=['group_1', 'group_2', 'event', 'p_value', 'H0'])   \n",
    "z_test_df"
   ]
  },
  {
   "cell_type": "markdown",
   "metadata": {},
   "source": [
    "При проведении z-теста на всех уровнях воронки событий гипотеза о равенстве групп не была отвергнута. Группа, состоящая из суммы тестовых групп, также показала результаты, которые говорят в пользу равенства групп."
   ]
  },
  {
   "cell_type": "markdown",
   "metadata": {},
   "source": [
    "При проведении 16 тестов и использовали коэффициента статистической значимости *а* равного 0,01% возникает вероятность возникновения ложноположительного результата. Чтобы групповая вероятность ошибки не превышала определенный уровень значимости, то, согласно методу Бонферрони, следует сравнить каждое из полученных p-value не с *а*, а с *a/m* где *m* - число проверяемых гипотез. "
   ]
  },
  {
   "cell_type": "code",
   "execution_count": 70,
   "metadata": {
    "scrolled": false
   },
   "outputs": [
    {
     "name": "stdout",
     "output_type": "stream",
     "text": [
      "Коэффициент статистической значимости с поправкой Бонферрони: 0.000625\n"
     ]
    },
    {
     "data": {
      "text/html": [
       "<div>\n",
       "<style scoped>\n",
       "    .dataframe tbody tr th:only-of-type {\n",
       "        vertical-align: middle;\n",
       "    }\n",
       "\n",
       "    .dataframe tbody tr th {\n",
       "        vertical-align: top;\n",
       "    }\n",
       "\n",
       "    .dataframe thead th {\n",
       "        text-align: right;\n",
       "    }\n",
       "</style>\n",
       "<table border=\"1\" class=\"dataframe\">\n",
       "  <thead>\n",
       "    <tr style=\"text-align: right;\">\n",
       "      <th></th>\n",
       "      <th>group_1</th>\n",
       "      <th>group_2</th>\n",
       "      <th>event</th>\n",
       "      <th>p_value</th>\n",
       "      <th>H0</th>\n",
       "      <th>H0_bonferroni</th>\n",
       "    </tr>\n",
       "  </thead>\n",
       "  <tbody>\n",
       "    <tr>\n",
       "      <th>0</th>\n",
       "      <td>246</td>\n",
       "      <td>247</td>\n",
       "      <td>MainScreenAppear</td>\n",
       "      <td>0.76</td>\n",
       "      <td>не отвергаем Н0</td>\n",
       "      <td>не отвергаем Н0</td>\n",
       "    </tr>\n",
       "    <tr>\n",
       "      <th>1</th>\n",
       "      <td>246</td>\n",
       "      <td>247</td>\n",
       "      <td>OffersScreenAppear</td>\n",
       "      <td>0.25</td>\n",
       "      <td>не отвергаем Н0</td>\n",
       "      <td>не отвергаем Н0</td>\n",
       "    </tr>\n",
       "    <tr>\n",
       "      <th>2</th>\n",
       "      <td>246</td>\n",
       "      <td>247</td>\n",
       "      <td>CartScreenAppear</td>\n",
       "      <td>0.23</td>\n",
       "      <td>не отвергаем Н0</td>\n",
       "      <td>не отвергаем Н0</td>\n",
       "    </tr>\n",
       "    <tr>\n",
       "      <th>3</th>\n",
       "      <td>246</td>\n",
       "      <td>247</td>\n",
       "      <td>PaymentScreenSuccessful</td>\n",
       "      <td>0.11</td>\n",
       "      <td>не отвергаем Н0</td>\n",
       "      <td>не отвергаем Н0</td>\n",
       "    </tr>\n",
       "    <tr>\n",
       "      <th>4</th>\n",
       "      <td>246</td>\n",
       "      <td>248</td>\n",
       "      <td>MainScreenAppear</td>\n",
       "      <td>0.29</td>\n",
       "      <td>не отвергаем Н0</td>\n",
       "      <td>не отвергаем Н0</td>\n",
       "    </tr>\n",
       "    <tr>\n",
       "      <th>5</th>\n",
       "      <td>246</td>\n",
       "      <td>248</td>\n",
       "      <td>OffersScreenAppear</td>\n",
       "      <td>0.21</td>\n",
       "      <td>не отвергаем Н0</td>\n",
       "      <td>не отвергаем Н0</td>\n",
       "    </tr>\n",
       "    <tr>\n",
       "      <th>6</th>\n",
       "      <td>246</td>\n",
       "      <td>248</td>\n",
       "      <td>CartScreenAppear</td>\n",
       "      <td>0.08</td>\n",
       "      <td>не отвергаем Н0</td>\n",
       "      <td>не отвергаем Н0</td>\n",
       "    </tr>\n",
       "    <tr>\n",
       "      <th>7</th>\n",
       "      <td>246</td>\n",
       "      <td>248</td>\n",
       "      <td>PaymentScreenSuccessful</td>\n",
       "      <td>0.21</td>\n",
       "      <td>не отвергаем Н0</td>\n",
       "      <td>не отвергаем Н0</td>\n",
       "    </tr>\n",
       "    <tr>\n",
       "      <th>8</th>\n",
       "      <td>247</td>\n",
       "      <td>248</td>\n",
       "      <td>MainScreenAppear</td>\n",
       "      <td>0.46</td>\n",
       "      <td>не отвергаем Н0</td>\n",
       "      <td>не отвергаем Н0</td>\n",
       "    </tr>\n",
       "    <tr>\n",
       "      <th>9</th>\n",
       "      <td>247</td>\n",
       "      <td>248</td>\n",
       "      <td>OffersScreenAppear</td>\n",
       "      <td>0.92</td>\n",
       "      <td>не отвергаем Н0</td>\n",
       "      <td>не отвергаем Н0</td>\n",
       "    </tr>\n",
       "    <tr>\n",
       "      <th>10</th>\n",
       "      <td>247</td>\n",
       "      <td>248</td>\n",
       "      <td>CartScreenAppear</td>\n",
       "      <td>0.58</td>\n",
       "      <td>не отвергаем Н0</td>\n",
       "      <td>не отвергаем Н0</td>\n",
       "    </tr>\n",
       "    <tr>\n",
       "      <th>11</th>\n",
       "      <td>247</td>\n",
       "      <td>248</td>\n",
       "      <td>PaymentScreenSuccessful</td>\n",
       "      <td>0.74</td>\n",
       "      <td>не отвергаем Н0</td>\n",
       "      <td>не отвергаем Н0</td>\n",
       "    </tr>\n",
       "    <tr>\n",
       "      <th>12</th>\n",
       "      <td>246+247</td>\n",
       "      <td>248</td>\n",
       "      <td>MainScreenAppear</td>\n",
       "      <td>0.29</td>\n",
       "      <td>не отвергаем Н0</td>\n",
       "      <td>не отвергаем Н0</td>\n",
       "    </tr>\n",
       "    <tr>\n",
       "      <th>13</th>\n",
       "      <td>246+247</td>\n",
       "      <td>248</td>\n",
       "      <td>OffersScreenAppear</td>\n",
       "      <td>0.43</td>\n",
       "      <td>не отвергаем Н0</td>\n",
       "      <td>не отвергаем Н0</td>\n",
       "    </tr>\n",
       "    <tr>\n",
       "      <th>14</th>\n",
       "      <td>246+247</td>\n",
       "      <td>248</td>\n",
       "      <td>CartScreenAppear</td>\n",
       "      <td>0.18</td>\n",
       "      <td>не отвергаем Н0</td>\n",
       "      <td>не отвергаем Н0</td>\n",
       "    </tr>\n",
       "    <tr>\n",
       "      <th>15</th>\n",
       "      <td>246+247</td>\n",
       "      <td>248</td>\n",
       "      <td>PaymentScreenSuccessful</td>\n",
       "      <td>0.60</td>\n",
       "      <td>не отвергаем Н0</td>\n",
       "      <td>не отвергаем Н0</td>\n",
       "    </tr>\n",
       "  </tbody>\n",
       "</table>\n",
       "</div>"
      ],
      "text/plain": [
       "    group_1  group_2                    event  p_value               H0  \\\n",
       "0   246      247      MainScreenAppear        0.76      не отвергаем Н0   \n",
       "1   246      247      OffersScreenAppear      0.25      не отвергаем Н0   \n",
       "2   246      247      CartScreenAppear        0.23      не отвергаем Н0   \n",
       "3   246      247      PaymentScreenSuccessful 0.11      не отвергаем Н0   \n",
       "4   246      248      MainScreenAppear        0.29      не отвергаем Н0   \n",
       "5   246      248      OffersScreenAppear      0.21      не отвергаем Н0   \n",
       "6   246      248      CartScreenAppear        0.08      не отвергаем Н0   \n",
       "7   246      248      PaymentScreenSuccessful 0.21      не отвергаем Н0   \n",
       "8   247      248      MainScreenAppear        0.46      не отвергаем Н0   \n",
       "9   247      248      OffersScreenAppear      0.92      не отвергаем Н0   \n",
       "10  247      248      CartScreenAppear        0.58      не отвергаем Н0   \n",
       "11  247      248      PaymentScreenSuccessful 0.74      не отвергаем Н0   \n",
       "12  246+247  248      MainScreenAppear        0.29      не отвергаем Н0   \n",
       "13  246+247  248      OffersScreenAppear      0.43      не отвергаем Н0   \n",
       "14  246+247  248      CartScreenAppear        0.18      не отвергаем Н0   \n",
       "15  246+247  248      PaymentScreenSuccessful 0.60      не отвергаем Н0   \n",
       "\n",
       "      H0_bonferroni  \n",
       "0   не отвергаем Н0  \n",
       "1   не отвергаем Н0  \n",
       "2   не отвергаем Н0  \n",
       "3   не отвергаем Н0  \n",
       "4   не отвергаем Н0  \n",
       "5   не отвергаем Н0  \n",
       "6   не отвергаем Н0  \n",
       "7   не отвергаем Н0  \n",
       "8   не отвергаем Н0  \n",
       "9   не отвергаем Н0  \n",
       "10  не отвергаем Н0  \n",
       "11  не отвергаем Н0  \n",
       "12  не отвергаем Н0  \n",
       "13  не отвергаем Н0  \n",
       "14  не отвергаем Н0  \n",
       "15  не отвергаем Н0  "
      ]
     },
     "execution_count": 70,
     "metadata": {},
     "output_type": "execute_result"
    }
   ],
   "source": [
    "# Проведу z_test с учетом поправки Бонферрони\n",
    "# Создаю список для формирования результатов теста\n",
    "p = [] \n",
    "# Задаю статистической значимости:\n",
    "alpha = 0.01\n",
    "# Создаю цикл для сбора результатов тестов по событиям\n",
    "for group in [[246, 247], [246, 248], [247, 248], ['246+247', 248]]:\n",
    "    for events in events_by_groups.index.values:\n",
    "        p.append(z_test(group[0], group[1], alpha, events))\n",
    "        z_test_df = pd.DataFrame(p, columns=['group_1', 'group_2', 'event', 'p_value', 'H0'])   \n",
    "\n",
    "# Задаю уровень статистической значимости с учетом поправки Бонферрони\n",
    "alpha_bonferroni = alpha/len(z_test_df)\n",
    "print(f'Коэффициент статистической значимости с поправкой Бонферрони: {alpha_bonferroni}')\n",
    "z_test_df['H0_bonferroni'] = 'отвергаем Н0'\n",
    "z_test_df['H0_bonferroni'] = z_test_df['H0_bonferroni'].where(z_test_df['p_value'] < alpha_bonferroni, 'не отвергаем Н0')\n",
    "z_test_df"
   ]
  },
  {
   "cell_type": "markdown",
   "metadata": {},
   "source": [
    "Применив поправку Бонферрони к тестам также получен результат, согласно которому отсутствует статистическая значимость между группами."
   ]
  },
  {
   "cell_type": "markdown",
   "metadata": {},
   "source": [
    "**Вывод**\n",
    "\n",
    "К контрольным группам были применены критерии успешного тестирования: отличия между группами незначительны (1,15%), пользователи, попавшие в несколько групп, не найдены. Можно считать данные групп корректными.\n",
    "\n",
    "Для проведения z-теста на равенство долей контрольных групп были сформулированы гипотезы:\n",
    "\n",
    "- Н0 : конверсии групп не отличаются\n",
    "- Н1 : конверсии групп отличаются\n",
    "\n",
    "Размеры каждой из групп превышают 2 тыс. пользователей. Это достаточно большие выборки, которые позволяют установить небольшой коэффициент статистической значимости, равный 0.01, что будет означать также и небольшую вероятность ошибки первого рода.\n",
    "\n",
    "Проведение 4 z-тестов контрольных групп 246 и 247 не выявило статистически достоверных отличий между группами, что означает, что выборки сделаны корректно.\n",
    "\n",
    "Проведение 12 аналогичных тестов с контрольными и тестируемой группой также не выявило статистически достоверных отличий между конверсиями групп.\n",
    "\n",
    "Был задан коэффициент статистической значимости *а*, равный 0,01%. Так как всего было проведено 16 тестов, при таком количестве возникает вероятность ошибки ложноположительного результата. Чтобы групповая вероятность ошибки в данном случае не превышала определенный уровень значимости α, была применена поправка Бонферрони к коэффициенту статистической значимости.\n",
    "\n",
    "После применения поправки Бонферрони получен результат, согласно которому между тестовой и контрольными группами не выявлено статистически достоверных отличий."
   ]
  },
  {
   "cell_type": "markdown",
   "metadata": {},
   "source": [
    "### Общие выводы"
   ]
  },
  {
   "cell_type": "markdown",
   "metadata": {},
   "source": [
    "Представленные для анализа данные содержат лог, каждая запись которого — действие пользователя мобильного приложения.\n",
    "\n",
    "Действия пользователей разбиты на три группы: 2 контрольные и одна тестовая, для пользователей которой изменен шрифт приложения. Цель исследования - разобраться, изменилась ли конверсия в события в тестовой группе.\n",
    "\n",
    "В результате предобработки:\n",
    "\n",
    "- изменен стиль названий столбцов,\n",
    "- тип данных в столбце event_time изменен на datetime,\n",
    "- добавлен столбец с датой,\n",
    "- удалены дубликаты.\n",
    "\n",
    "Для исследования представлены данные за период с 25.07.2019 по 07.08.2019. Но актуальными можно считать только данные с 01.08.2019 по 07.08.2019. Более ранние данные были удалены, в связи с чем было потеряно чуть более 1% событий и всего 0,23% пользователей. Осталось 240887 события и 7534 пользователей.\n",
    "\n",
    "Наиболее часто встречающееся событие в логе - просмотр главной страницы. Его совершали 7419 пользователей из 7534. События происходят в следующем порядке: просмотр главной страницы - просмотр страницы товара - просмотр корзины - переход на страницу успешной оплаты. Самое редкое событие - обучение. Оно не входит в последовательную цепочку событий.\n",
    "\n",
    "Больше всего пользователей (38.09%) теряются при переходе с главной страницы на страницу товара. Доля пользователей, прошедших все события от просмотра главной страницы до успешной оплаты, составляет 47.7%. При этом при переходе от просмотра корзины на страницу успешной оплаты теряется около 5.22% пользователей. Возможно возникают какие-то технические неполадки при оплате товаров.\n",
    "\n",
    "Были проведены тесты:\n",
    "- 4 z-теста контрольных групп 246 и 247 в разрезе событий воронки: статистически достоверных отличий между группами не выявлено, что означает, что выборки сделаны корректно.\n",
    "- 12 z-теста аналогичных тестов с контрольными и тестируемой группой: статистически достоверных отличий между конверсиями групп не выявлено.\n",
    "\n",
    "Так как всего было проведено 16 тестов, для того, чтобы групповая вероятность ошибки не превышала определенный уровень значимости *а* равный 0.01, была применена поправка Бонферрони к коэффициенту статистической значимости.\n",
    "\n",
    "После применения поправки Бонферрони получен результат, согласно которому между тестовой и контрольными группами не выявлено статистически достоверных отличий.\n",
    "\n",
    "**Общий результат исследования:**\n",
    "\n",
    "Гипотеза об отсутствии различий между конверсиями событий тестируемых групп не опровергнута.\n",
    "\n",
    "Это означает, что разницы между поведением пользователей до изменения шрифта приложения и после его изменения с большой долей вероятности нет. Можно оставить шрифт прежним."
   ]
  }
 ],
 "metadata": {
  "ExecuteTimeLog": [
   {
    "duration": 1410,
    "start_time": "2023-10-06T19:10:29.597Z"
   },
   {
    "duration": 821,
    "start_time": "2023-10-06T19:10:31.009Z"
   },
   {
    "duration": 107,
    "start_time": "2023-10-06T19:20:20.911Z"
   },
   {
    "duration": 11,
    "start_time": "2023-10-06T19:20:57.211Z"
   },
   {
    "duration": 207,
    "start_time": "2023-10-06T19:21:45.292Z"
   },
   {
    "duration": 11,
    "start_time": "2023-10-06T19:21:46.496Z"
   },
   {
    "duration": 7,
    "start_time": "2023-10-06T19:22:01.062Z"
   },
   {
    "duration": 22,
    "start_time": "2023-10-06T19:22:28.240Z"
   },
   {
    "duration": 12,
    "start_time": "2023-10-06T19:35:18.082Z"
   },
   {
    "duration": 11,
    "start_time": "2023-10-06T19:35:20.795Z"
   },
   {
    "duration": 212,
    "start_time": "2023-10-06T19:35:28.222Z"
   },
   {
    "duration": 10,
    "start_time": "2023-10-06T19:35:30.155Z"
   },
   {
    "duration": 7,
    "start_time": "2023-10-06T19:36:00.587Z"
   },
   {
    "duration": 22,
    "start_time": "2023-10-06T19:36:02.452Z"
   },
   {
    "duration": 6,
    "start_time": "2023-10-06T19:36:07.483Z"
   },
   {
    "duration": 9,
    "start_time": "2023-10-06T19:36:08.897Z"
   },
   {
    "duration": 9,
    "start_time": "2023-10-06T19:36:20.094Z"
   },
   {
    "duration": 12,
    "start_time": "2023-10-06T19:36:59.042Z"
   },
   {
    "duration": 23,
    "start_time": "2023-10-06T19:37:15.779Z"
   },
   {
    "duration": 12,
    "start_time": "2023-10-06T19:37:35.247Z"
   },
   {
    "duration": 20,
    "start_time": "2023-10-06T19:37:36.830Z"
   },
   {
    "duration": 11,
    "start_time": "2023-10-06T19:37:43.177Z"
   },
   {
    "duration": 10,
    "start_time": "2023-10-06T19:40:38.632Z"
   },
   {
    "duration": 67,
    "start_time": "2023-10-06T19:41:10.981Z"
   },
   {
    "duration": 13,
    "start_time": "2023-10-06T19:41:12.233Z"
   },
   {
    "duration": 9,
    "start_time": "2023-10-06T19:43:15.831Z"
   },
   {
    "duration": 4,
    "start_time": "2023-10-06T19:47:12.103Z"
   },
   {
    "duration": 3,
    "start_time": "2023-10-06T19:49:32.087Z"
   },
   {
    "duration": 82,
    "start_time": "2023-10-06T19:49:33.086Z"
   },
   {
    "duration": 9,
    "start_time": "2023-10-06T19:49:52.045Z"
   },
   {
    "duration": 9,
    "start_time": "2023-10-06T19:50:11.552Z"
   },
   {
    "duration": 14,
    "start_time": "2023-10-06T19:50:51.803Z"
   },
   {
    "duration": 9,
    "start_time": "2023-10-06T19:51:37.729Z"
   },
   {
    "duration": 6,
    "start_time": "2023-10-06T19:51:56.144Z"
   },
   {
    "duration": 14,
    "start_time": "2023-10-06T19:52:06.442Z"
   },
   {
    "duration": 9,
    "start_time": "2023-10-06T19:52:14.781Z"
   },
   {
    "duration": 16,
    "start_time": "2023-10-06T19:52:20.706Z"
   },
   {
    "duration": 15,
    "start_time": "2023-10-06T19:52:24.705Z"
   },
   {
    "duration": 1188,
    "start_time": "2023-10-06T19:53:01.226Z"
   },
   {
    "duration": 198,
    "start_time": "2023-10-06T19:53:03.665Z"
   },
   {
    "duration": 11,
    "start_time": "2023-10-06T19:53:05.002Z"
   },
   {
    "duration": 22,
    "start_time": "2023-10-06T19:53:08.021Z"
   },
   {
    "duration": 6,
    "start_time": "2023-10-06T19:53:14.954Z"
   },
   {
    "duration": 60,
    "start_time": "2023-10-06T19:53:17.252Z"
   },
   {
    "duration": 68,
    "start_time": "2023-10-06T19:53:18.125Z"
   },
   {
    "duration": 3,
    "start_time": "2023-10-06T19:53:23.475Z"
   },
   {
    "duration": 15,
    "start_time": "2023-10-06T19:53:26.423Z"
   },
   {
    "duration": 6,
    "start_time": "2023-10-06T19:53:33.977Z"
   },
   {
    "duration": 93,
    "start_time": "2023-10-06T19:53:45.889Z"
   },
   {
    "duration": 8,
    "start_time": "2023-10-06T19:53:52.820Z"
   },
   {
    "duration": 9,
    "start_time": "2023-10-06T19:55:44.557Z"
   },
   {
    "duration": 5,
    "start_time": "2023-10-06T19:55:59.505Z"
   },
   {
    "duration": 4,
    "start_time": "2023-10-06T21:48:26.988Z"
   },
   {
    "duration": 291,
    "start_time": "2023-10-06T21:48:26.995Z"
   },
   {
    "duration": 8,
    "start_time": "2023-10-06T21:48:27.288Z"
   },
   {
    "duration": 77,
    "start_time": "2023-10-06T21:48:27.301Z"
   },
   {
    "duration": 10,
    "start_time": "2023-10-06T21:48:27.380Z"
   },
   {
    "duration": 62,
    "start_time": "2023-10-06T21:48:27.392Z"
   },
   {
    "duration": 137,
    "start_time": "2023-10-06T21:48:27.456Z"
   },
   {
    "duration": 20,
    "start_time": "2023-10-06T21:48:27.596Z"
   },
   {
    "duration": 26,
    "start_time": "2023-10-06T21:48:27.618Z"
   },
   {
    "duration": 21,
    "start_time": "2023-10-06T21:48:27.646Z"
   },
   {
    "duration": 6,
    "start_time": "2023-10-06T21:49:36.139Z"
   },
   {
    "duration": 34,
    "start_time": "2023-10-06T21:49:50.692Z"
   },
   {
    "duration": 15,
    "start_time": "2023-10-06T21:51:02.912Z"
   },
   {
    "duration": 27,
    "start_time": "2023-10-06T21:51:09.788Z"
   },
   {
    "duration": 1253,
    "start_time": "2023-10-06T21:51:55.914Z"
   },
   {
    "duration": 290,
    "start_time": "2023-10-06T21:51:58.235Z"
   },
   {
    "duration": 23,
    "start_time": "2023-10-06T21:52:00.194Z"
   },
   {
    "duration": 23,
    "start_time": "2023-10-06T21:52:05.037Z"
   },
   {
    "duration": 6,
    "start_time": "2023-10-06T21:52:11.731Z"
   },
   {
    "duration": 16,
    "start_time": "2023-10-06T21:52:14.238Z"
   },
   {
    "duration": 14,
    "start_time": "2023-10-06T21:52:21.219Z"
   },
   {
    "duration": 84,
    "start_time": "2023-10-06T21:52:30.378Z"
   },
   {
    "duration": 15,
    "start_time": "2023-10-06T21:52:33.798Z"
   },
   {
    "duration": 8,
    "start_time": "2023-10-06T21:52:34.665Z"
   },
   {
    "duration": 5,
    "start_time": "2023-10-06T21:52:39.171Z"
   },
   {
    "duration": 5,
    "start_time": "2023-10-06T21:52:40.067Z"
   },
   {
    "duration": 13,
    "start_time": "2023-10-06T21:52:41.952Z"
   },
   {
    "duration": 162,
    "start_time": "2023-10-06T21:55:07.936Z"
   },
   {
    "duration": 16,
    "start_time": "2023-10-06T21:55:30.341Z"
   },
   {
    "duration": 32,
    "start_time": "2023-10-06T21:56:15.142Z"
   },
   {
    "duration": 130,
    "start_time": "2023-10-06T21:57:45.929Z"
   },
   {
    "duration": 22,
    "start_time": "2023-10-06T21:57:50.979Z"
   },
   {
    "duration": 44,
    "start_time": "2023-10-06T21:57:56.878Z"
   },
   {
    "duration": 12,
    "start_time": "2023-10-06T21:59:21.214Z"
   },
   {
    "duration": 799,
    "start_time": "2023-10-06T22:00:16.472Z"
   },
   {
    "duration": 303,
    "start_time": "2023-10-06T22:02:56.561Z"
   },
   {
    "duration": 296,
    "start_time": "2023-10-06T22:03:08.244Z"
   },
   {
    "duration": 1266,
    "start_time": "2023-10-06T22:08:44.999Z"
   },
   {
    "duration": 658,
    "start_time": "2023-10-06T22:08:47.257Z"
   },
   {
    "duration": 12,
    "start_time": "2023-10-06T22:08:48.881Z"
   },
   {
    "duration": 34,
    "start_time": "2023-10-06T22:08:51.995Z"
   },
   {
    "duration": 8,
    "start_time": "2023-10-06T22:08:56.776Z"
   },
   {
    "duration": 50,
    "start_time": "2023-10-06T22:08:58.913Z"
   },
   {
    "duration": 119,
    "start_time": "2023-10-06T22:08:59.825Z"
   },
   {
    "duration": 3,
    "start_time": "2023-10-06T22:09:02.618Z"
   },
   {
    "duration": 6,
    "start_time": "2023-10-06T22:09:04.819Z"
   },
   {
    "duration": 5,
    "start_time": "2023-10-06T22:09:05.986Z"
   },
   {
    "duration": 6,
    "start_time": "2023-10-06T22:09:08.786Z"
   },
   {
    "duration": 22,
    "start_time": "2023-10-06T22:09:19.126Z"
   },
   {
    "duration": 201,
    "start_time": "2023-10-06T22:09:24.010Z"
   },
   {
    "duration": 698,
    "start_time": "2023-10-06T22:09:30.373Z"
   },
   {
    "duration": 1276,
    "start_time": "2023-10-06T22:13:57.729Z"
   },
   {
    "duration": 306,
    "start_time": "2023-10-06T22:13:59.768Z"
   },
   {
    "duration": 12,
    "start_time": "2023-10-06T22:14:00.914Z"
   },
   {
    "duration": 35,
    "start_time": "2023-10-06T22:14:03.515Z"
   },
   {
    "duration": 7,
    "start_time": "2023-10-06T22:14:11.462Z"
   },
   {
    "duration": 59,
    "start_time": "2023-10-06T22:14:12.675Z"
   },
   {
    "duration": 179,
    "start_time": "2023-10-06T22:14:14.550Z"
   },
   {
    "duration": 4,
    "start_time": "2023-10-06T22:14:18.019Z"
   },
   {
    "duration": 6,
    "start_time": "2023-10-06T22:14:18.939Z"
   },
   {
    "duration": 12,
    "start_time": "2023-10-06T22:14:19.898Z"
   },
   {
    "duration": 6,
    "start_time": "2023-10-06T22:14:20.867Z"
   },
   {
    "duration": 15,
    "start_time": "2023-10-06T22:14:47.975Z"
   },
   {
    "duration": 5,
    "start_time": "2023-10-06T22:15:12.070Z"
   },
   {
    "duration": 312,
    "start_time": "2023-10-06T22:15:12.077Z"
   },
   {
    "duration": 28,
    "start_time": "2023-10-06T22:15:12.391Z"
   },
   {
    "duration": 25,
    "start_time": "2023-10-06T22:15:12.421Z"
   },
   {
    "duration": 8,
    "start_time": "2023-10-06T22:15:12.448Z"
   },
   {
    "duration": 97,
    "start_time": "2023-10-06T22:15:12.458Z"
   },
   {
    "duration": 183,
    "start_time": "2023-10-06T22:15:12.558Z"
   },
   {
    "duration": 4,
    "start_time": "2023-10-06T22:15:12.743Z"
   },
   {
    "duration": 10,
    "start_time": "2023-10-06T22:15:12.749Z"
   },
   {
    "duration": 11,
    "start_time": "2023-10-06T22:15:12.761Z"
   },
   {
    "duration": 8,
    "start_time": "2023-10-06T22:15:12.774Z"
   },
   {
    "duration": 38,
    "start_time": "2023-10-06T22:15:12.784Z"
   },
   {
    "duration": 23,
    "start_time": "2023-10-06T22:15:12.823Z"
   },
   {
    "duration": 1205,
    "start_time": "2023-10-06T22:20:07.665Z"
   },
   {
    "duration": 635,
    "start_time": "2023-10-06T22:20:10.546Z"
   },
   {
    "duration": 21,
    "start_time": "2023-10-06T22:20:12.890Z"
   },
   {
    "duration": 24,
    "start_time": "2023-10-06T22:20:13.942Z"
   },
   {
    "duration": 8,
    "start_time": "2023-10-06T22:20:18.511Z"
   },
   {
    "duration": 47,
    "start_time": "2023-10-06T22:20:19.645Z"
   },
   {
    "duration": 124,
    "start_time": "2023-10-06T22:20:20.818Z"
   },
   {
    "duration": 4,
    "start_time": "2023-10-06T22:20:25.527Z"
   },
   {
    "duration": 5,
    "start_time": "2023-10-06T22:20:26.379Z"
   },
   {
    "duration": 5,
    "start_time": "2023-10-06T22:20:27.339Z"
   },
   {
    "duration": 5,
    "start_time": "2023-10-06T22:20:28.731Z"
   },
   {
    "duration": 1374,
    "start_time": "2023-10-06T22:22:54.266Z"
   },
   {
    "duration": 272,
    "start_time": "2023-10-06T22:22:55.642Z"
   },
   {
    "duration": 12,
    "start_time": "2023-10-06T22:22:55.916Z"
   },
   {
    "duration": 37,
    "start_time": "2023-10-06T22:22:55.933Z"
   },
   {
    "duration": 7,
    "start_time": "2023-10-06T22:22:55.972Z"
   },
   {
    "duration": 55,
    "start_time": "2023-10-06T22:22:55.981Z"
   },
   {
    "duration": 131,
    "start_time": "2023-10-06T22:22:56.037Z"
   },
   {
    "duration": 4,
    "start_time": "2023-10-06T22:22:56.170Z"
   },
   {
    "duration": 34,
    "start_time": "2023-10-06T22:22:56.176Z"
   },
   {
    "duration": 9,
    "start_time": "2023-10-06T22:22:56.213Z"
   },
   {
    "duration": 10,
    "start_time": "2023-10-06T22:22:56.224Z"
   },
   {
    "duration": 22,
    "start_time": "2023-10-06T22:22:56.235Z"
   },
   {
    "duration": 36,
    "start_time": "2023-10-06T22:22:56.259Z"
   },
   {
    "duration": 3,
    "start_time": "2023-10-06T22:23:41.292Z"
   },
   {
    "duration": 1259,
    "start_time": "2023-10-06T22:25:02.971Z"
   },
   {
    "duration": 566,
    "start_time": "2023-10-06T22:25:04.232Z"
   },
   {
    "duration": 26,
    "start_time": "2023-10-06T22:25:04.800Z"
   },
   {
    "duration": 54,
    "start_time": "2023-10-06T22:25:04.828Z"
   },
   {
    "duration": 8,
    "start_time": "2023-10-06T22:25:04.885Z"
   },
   {
    "duration": 57,
    "start_time": "2023-10-06T22:25:04.895Z"
   },
   {
    "duration": 160,
    "start_time": "2023-10-06T22:25:04.954Z"
   },
   {
    "duration": 213,
    "start_time": "2023-10-06T22:25:05.115Z"
   },
   {
    "duration": 145,
    "start_time": "2023-10-06T22:25:05.330Z"
   },
   {
    "duration": 19,
    "start_time": "2023-10-06T22:25:05.478Z"
   },
   {
    "duration": 53,
    "start_time": "2023-10-06T22:25:05.499Z"
   },
   {
    "duration": 59,
    "start_time": "2023-10-06T22:25:05.554Z"
   },
   {
    "duration": 49,
    "start_time": "2023-10-06T22:25:05.616Z"
   },
   {
    "duration": 1308,
    "start_time": "2023-10-06T22:25:48.815Z"
   },
   {
    "duration": 251,
    "start_time": "2023-10-06T22:25:50.125Z"
   },
   {
    "duration": 13,
    "start_time": "2023-10-06T22:25:50.377Z"
   },
   {
    "duration": 43,
    "start_time": "2023-10-06T22:25:50.392Z"
   },
   {
    "duration": 7,
    "start_time": "2023-10-06T22:25:50.438Z"
   },
   {
    "duration": 69,
    "start_time": "2023-10-06T22:25:50.447Z"
   },
   {
    "duration": 17,
    "start_time": "2023-10-06T22:25:54.542Z"
   },
   {
    "duration": 116,
    "start_time": "2023-10-06T22:25:56.652Z"
   },
   {
    "duration": 16,
    "start_time": "2023-10-06T22:26:08.342Z"
   },
   {
    "duration": 117,
    "start_time": "2023-10-06T22:29:22.376Z"
   },
   {
    "duration": 20,
    "start_time": "2023-10-06T22:29:24.215Z"
   },
   {
    "duration": 12,
    "start_time": "2023-10-06T22:29:28.631Z"
   },
   {
    "duration": 122,
    "start_time": "2023-10-06T22:29:30.999Z"
   },
   {
    "duration": 14,
    "start_time": "2023-10-06T22:29:31.870Z"
   },
   {
    "duration": 4,
    "start_time": "2023-10-06T22:35:02.680Z"
   },
   {
    "duration": 342,
    "start_time": "2023-10-06T22:35:02.686Z"
   },
   {
    "duration": 7,
    "start_time": "2023-10-06T22:35:03.030Z"
   },
   {
    "duration": 38,
    "start_time": "2023-10-06T22:35:03.039Z"
   },
   {
    "duration": 10,
    "start_time": "2023-10-06T22:35:03.080Z"
   },
   {
    "duration": 54,
    "start_time": "2023-10-06T22:35:03.092Z"
   },
   {
    "duration": 121,
    "start_time": "2023-10-06T22:35:03.147Z"
   },
   {
    "duration": 14,
    "start_time": "2023-10-06T22:35:03.270Z"
   },
   {
    "duration": 49,
    "start_time": "2023-10-06T22:35:03.286Z"
   },
   {
    "duration": 18,
    "start_time": "2023-10-06T22:35:03.336Z"
   },
   {
    "duration": 31,
    "start_time": "2023-10-06T22:35:03.356Z"
   },
   {
    "duration": 60,
    "start_time": "2023-10-06T22:35:03.389Z"
   },
   {
    "duration": 38,
    "start_time": "2023-10-06T22:35:03.452Z"
   },
   {
    "duration": 40,
    "start_time": "2023-10-06T22:35:03.492Z"
   },
   {
    "duration": 73,
    "start_time": "2023-10-06T22:35:24.324Z"
   },
   {
    "duration": 1351,
    "start_time": "2023-10-06T22:35:37.476Z"
   },
   {
    "duration": 249,
    "start_time": "2023-10-06T22:35:38.830Z"
   },
   {
    "duration": 11,
    "start_time": "2023-10-06T22:35:39.080Z"
   },
   {
    "duration": 134,
    "start_time": "2023-10-06T22:35:39.093Z"
   },
   {
    "duration": 24,
    "start_time": "2023-10-06T22:35:39.229Z"
   },
   {
    "duration": 81,
    "start_time": "2023-10-06T22:35:39.255Z"
   },
   {
    "duration": 93,
    "start_time": "2023-10-06T22:35:39.338Z"
   },
   {
    "duration": 43,
    "start_time": "2023-10-06T22:35:39.433Z"
   },
   {
    "duration": 77,
    "start_time": "2023-10-06T22:35:39.478Z"
   },
   {
    "duration": 25,
    "start_time": "2023-10-06T22:35:39.557Z"
   },
   {
    "duration": 26,
    "start_time": "2023-10-06T22:35:39.584Z"
   },
   {
    "duration": 150,
    "start_time": "2023-10-06T22:35:39.612Z"
   },
   {
    "duration": 21,
    "start_time": "2023-10-06T22:35:39.764Z"
   },
   {
    "duration": 64,
    "start_time": "2023-10-06T22:35:39.788Z"
   },
   {
    "duration": 14,
    "start_time": "2023-10-06T22:38:15.525Z"
   },
   {
    "duration": 85,
    "start_time": "2023-10-06T22:38:21.133Z"
   },
   {
    "duration": 23,
    "start_time": "2023-10-06T22:38:22.949Z"
   },
   {
    "duration": 1315,
    "start_time": "2023-10-06T22:38:40.183Z"
   },
   {
    "duration": 264,
    "start_time": "2023-10-06T22:38:41.500Z"
   },
   {
    "duration": 12,
    "start_time": "2023-10-06T22:38:41.765Z"
   },
   {
    "duration": 39,
    "start_time": "2023-10-06T22:38:41.779Z"
   },
   {
    "duration": 7,
    "start_time": "2023-10-06T22:38:41.821Z"
   },
   {
    "duration": 22,
    "start_time": "2023-10-06T22:38:41.830Z"
   },
   {
    "duration": 97,
    "start_time": "2023-10-06T22:38:41.854Z"
   },
   {
    "duration": 17,
    "start_time": "2023-10-06T22:38:41.953Z"
   },
   {
    "duration": 59,
    "start_time": "2023-10-06T22:38:41.972Z"
   },
   {
    "duration": 33,
    "start_time": "2023-10-06T22:38:42.034Z"
   },
   {
    "duration": 22,
    "start_time": "2023-10-06T22:38:42.069Z"
   },
   {
    "duration": 13,
    "start_time": "2023-10-06T22:38:42.092Z"
   },
   {
    "duration": 34,
    "start_time": "2023-10-06T22:38:42.106Z"
   },
   {
    "duration": 54,
    "start_time": "2023-10-06T22:38:42.143Z"
   },
   {
    "duration": 313,
    "start_time": "2023-10-06T22:45:18.626Z"
   },
   {
    "duration": 276,
    "start_time": "2023-10-06T22:45:32.580Z"
   },
   {
    "duration": 301,
    "start_time": "2023-10-06T22:45:38.898Z"
   },
   {
    "duration": 286,
    "start_time": "2023-10-06T22:45:50.647Z"
   },
   {
    "duration": 310,
    "start_time": "2023-10-06T22:46:38.065Z"
   },
   {
    "duration": 56,
    "start_time": "2023-10-06T22:52:46.781Z"
   },
   {
    "duration": 7,
    "start_time": "2023-10-06T22:53:08.851Z"
   },
   {
    "duration": 1322,
    "start_time": "2023-10-06T22:59:09.725Z"
   },
   {
    "duration": 234,
    "start_time": "2023-10-06T22:59:11.049Z"
   },
   {
    "duration": 32,
    "start_time": "2023-10-06T22:59:11.284Z"
   },
   {
    "duration": 36,
    "start_time": "2023-10-06T22:59:11.319Z"
   },
   {
    "duration": 8,
    "start_time": "2023-10-06T22:59:11.358Z"
   },
   {
    "duration": 40,
    "start_time": "2023-10-06T22:59:11.369Z"
   },
   {
    "duration": 93,
    "start_time": "2023-10-06T22:59:11.412Z"
   },
   {
    "duration": 24,
    "start_time": "2023-10-06T22:59:11.518Z"
   },
   {
    "duration": 35,
    "start_time": "2023-10-06T22:59:11.544Z"
   },
   {
    "duration": 32,
    "start_time": "2023-10-06T22:59:11.581Z"
   },
   {
    "duration": 8,
    "start_time": "2023-10-06T22:59:11.619Z"
   },
   {
    "duration": 48,
    "start_time": "2023-10-06T22:59:11.629Z"
   },
   {
    "duration": 365,
    "start_time": "2023-10-06T22:59:11.679Z"
   },
   {
    "duration": 40,
    "start_time": "2023-10-06T22:59:12.047Z"
   },
   {
    "duration": 28,
    "start_time": "2023-10-06T22:59:12.089Z"
   },
   {
    "duration": 5,
    "start_time": "2023-10-06T22:59:12.120Z"
   },
   {
    "duration": 42,
    "start_time": "2023-10-06T23:05:59.219Z"
   },
   {
    "duration": 5,
    "start_time": "2023-10-06T23:06:00.222Z"
   },
   {
    "duration": 1386,
    "start_time": "2023-10-06T23:06:17.818Z"
   },
   {
    "duration": 255,
    "start_time": "2023-10-06T23:06:19.207Z"
   },
   {
    "duration": 12,
    "start_time": "2023-10-06T23:06:19.463Z"
   },
   {
    "duration": 59,
    "start_time": "2023-10-06T23:06:19.477Z"
   },
   {
    "duration": 19,
    "start_time": "2023-10-06T23:06:19.538Z"
   },
   {
    "duration": 47,
    "start_time": "2023-10-06T23:06:19.558Z"
   },
   {
    "duration": 95,
    "start_time": "2023-10-06T23:06:19.619Z"
   },
   {
    "duration": 16,
    "start_time": "2023-10-06T23:06:19.716Z"
   },
   {
    "duration": 16,
    "start_time": "2023-10-06T23:06:19.734Z"
   },
   {
    "duration": 35,
    "start_time": "2023-10-06T23:06:19.752Z"
   },
   {
    "duration": 34,
    "start_time": "2023-10-06T23:06:19.789Z"
   },
   {
    "duration": 17,
    "start_time": "2023-10-06T23:06:19.825Z"
   },
   {
    "duration": 387,
    "start_time": "2023-10-06T23:06:19.844Z"
   },
   {
    "duration": 39,
    "start_time": "2023-10-06T23:06:20.234Z"
   },
   {
    "duration": 7,
    "start_time": "2023-10-06T23:06:20.274Z"
   },
   {
    "duration": 42,
    "start_time": "2023-10-06T23:06:20.283Z"
   },
   {
    "duration": 140,
    "start_time": "2023-10-06T23:06:20.327Z"
   },
   {
    "duration": 15,
    "start_time": "2023-10-06T23:08:21.141Z"
   },
   {
    "duration": 5,
    "start_time": "2023-10-06T23:08:39.649Z"
   },
   {
    "duration": 5,
    "start_time": "2023-10-06T23:09:18.314Z"
   },
   {
    "duration": 4,
    "start_time": "2023-10-06T23:09:35.425Z"
   },
   {
    "duration": 5,
    "start_time": "2023-10-06T23:09:53.980Z"
   },
   {
    "duration": 5,
    "start_time": "2023-10-06T23:11:17.294Z"
   },
   {
    "duration": 9,
    "start_time": "2023-10-06T23:12:43.571Z"
   },
   {
    "duration": 11,
    "start_time": "2023-10-06T23:14:46.513Z"
   },
   {
    "duration": 24,
    "start_time": "2023-10-06T23:15:21.719Z"
   },
   {
    "duration": 26,
    "start_time": "2023-10-06T23:15:58.223Z"
   },
   {
    "duration": 8,
    "start_time": "2023-10-06T23:16:25.932Z"
   },
   {
    "duration": 43,
    "start_time": "2023-10-06T23:20:48.949Z"
   },
   {
    "duration": 1478,
    "start_time": "2023-10-07T19:36:00.962Z"
   },
   {
    "duration": 597,
    "start_time": "2023-10-07T19:36:02.442Z"
   },
   {
    "duration": 12,
    "start_time": "2023-10-07T19:36:03.041Z"
   },
   {
    "duration": 40,
    "start_time": "2023-10-07T19:36:03.055Z"
   },
   {
    "duration": 8,
    "start_time": "2023-10-07T19:36:03.097Z"
   },
   {
    "duration": 19,
    "start_time": "2023-10-07T19:36:03.107Z"
   },
   {
    "duration": 93,
    "start_time": "2023-10-07T19:36:03.128Z"
   },
   {
    "duration": 16,
    "start_time": "2023-10-07T19:36:03.223Z"
   },
   {
    "duration": 14,
    "start_time": "2023-10-07T19:36:03.247Z"
   },
   {
    "duration": 29,
    "start_time": "2023-10-07T19:36:03.263Z"
   },
   {
    "duration": 23,
    "start_time": "2023-10-07T19:36:03.294Z"
   },
   {
    "duration": 40,
    "start_time": "2023-10-07T19:36:03.319Z"
   },
   {
    "duration": 331,
    "start_time": "2023-10-07T19:36:03.361Z"
   },
   {
    "duration": 40,
    "start_time": "2023-10-07T19:36:03.694Z"
   },
   {
    "duration": 71,
    "start_time": "2023-10-07T19:36:03.736Z"
   },
   {
    "duration": 50,
    "start_time": "2023-10-07T19:36:03.809Z"
   },
   {
    "duration": 8,
    "start_time": "2023-10-07T20:13:50.355Z"
   },
   {
    "duration": 61,
    "start_time": "2023-10-07T20:18:55.594Z"
   },
   {
    "duration": 11,
    "start_time": "2023-10-07T20:19:11.354Z"
   },
   {
    "duration": 652,
    "start_time": "2023-10-07T20:19:43.007Z"
   },
   {
    "duration": 131,
    "start_time": "2023-10-07T20:24:06.076Z"
   },
   {
    "duration": 358,
    "start_time": "2023-10-07T20:24:22.243Z"
   },
   {
    "duration": 61,
    "start_time": "2023-10-07T20:37:32.484Z"
   },
   {
    "duration": 342,
    "start_time": "2023-10-07T20:37:34.917Z"
   },
   {
    "duration": 9,
    "start_time": "2023-10-07T20:37:59.396Z"
   },
   {
    "duration": 363,
    "start_time": "2023-10-07T20:38:18.868Z"
   },
   {
    "duration": 10,
    "start_time": "2023-10-07T20:41:06.870Z"
   },
   {
    "duration": 15,
    "start_time": "2023-10-07T20:41:56.320Z"
   },
   {
    "duration": 392,
    "start_time": "2023-10-07T20:43:05.909Z"
   },
   {
    "duration": 450,
    "start_time": "2023-10-07T20:55:33.626Z"
   },
   {
    "duration": 147,
    "start_time": "2023-10-07T20:58:19.597Z"
   },
   {
    "duration": 77,
    "start_time": "2023-10-07T20:58:47.358Z"
   },
   {
    "duration": 334,
    "start_time": "2023-10-07T20:58:54.337Z"
   },
   {
    "duration": 321,
    "start_time": "2023-10-07T20:59:28.647Z"
   },
   {
    "duration": 365,
    "start_time": "2023-10-07T21:00:48.717Z"
   },
   {
    "duration": 383,
    "start_time": "2023-10-07T21:01:00.751Z"
   },
   {
    "duration": 317,
    "start_time": "2023-10-07T21:01:19.581Z"
   },
   {
    "duration": 1455,
    "start_time": "2023-10-07T21:07:32.774Z"
   },
   {
    "duration": 5,
    "start_time": "2023-10-07T21:07:59.631Z"
   },
   {
    "duration": 526,
    "start_time": "2023-10-07T21:08:14.992Z"
   },
   {
    "duration": 368,
    "start_time": "2023-10-07T21:09:24.133Z"
   },
   {
    "duration": 370,
    "start_time": "2023-10-07T21:09:38.874Z"
   },
   {
    "duration": 455,
    "start_time": "2023-10-07T21:10:05.024Z"
   },
   {
    "duration": 10,
    "start_time": "2023-10-07T21:10:59.335Z"
   },
   {
    "duration": 6,
    "start_time": "2023-10-07T21:12:34.531Z"
   },
   {
    "duration": 373,
    "start_time": "2023-10-07T21:13:09.342Z"
   },
   {
    "duration": 437,
    "start_time": "2023-10-07T21:14:55.562Z"
   },
   {
    "duration": 559,
    "start_time": "2023-10-07T21:16:10.339Z"
   },
   {
    "duration": 9,
    "start_time": "2023-10-07T21:24:34.875Z"
   },
   {
    "duration": 54,
    "start_time": "2023-10-07T21:25:53.839Z"
   },
   {
    "duration": 21,
    "start_time": "2023-10-07T21:26:01.773Z"
   },
   {
    "duration": 9,
    "start_time": "2023-10-07T21:27:12.700Z"
   },
   {
    "duration": 56,
    "start_time": "2023-10-07T21:27:37.911Z"
   },
   {
    "duration": 74,
    "start_time": "2023-10-07T21:28:59.568Z"
   },
   {
    "duration": 63,
    "start_time": "2023-10-07T21:29:05.575Z"
   },
   {
    "duration": 70,
    "start_time": "2023-10-07T21:31:18.017Z"
   },
   {
    "duration": 61,
    "start_time": "2023-10-07T21:31:51.489Z"
   },
   {
    "duration": 65,
    "start_time": "2023-10-07T21:32:03.391Z"
   },
   {
    "duration": 65,
    "start_time": "2023-10-07T21:32:47.670Z"
   },
   {
    "duration": 94,
    "start_time": "2023-10-07T21:33:47.390Z"
   },
   {
    "duration": 73,
    "start_time": "2023-10-07T21:34:08.946Z"
   },
   {
    "duration": 66,
    "start_time": "2023-10-07T21:34:43.792Z"
   },
   {
    "duration": 73,
    "start_time": "2023-10-07T21:34:56.649Z"
   },
   {
    "duration": 63,
    "start_time": "2023-10-07T21:35:03.893Z"
   },
   {
    "duration": 67,
    "start_time": "2023-10-07T21:35:34.013Z"
   },
   {
    "duration": 76,
    "start_time": "2023-10-07T21:36:00.101Z"
   },
   {
    "duration": 75,
    "start_time": "2023-10-07T21:36:25.231Z"
   },
   {
    "duration": 59,
    "start_time": "2023-10-07T21:37:02.882Z"
   },
   {
    "duration": 58,
    "start_time": "2023-10-07T21:37:20.576Z"
   },
   {
    "duration": 63,
    "start_time": "2023-10-07T21:42:02.618Z"
   },
   {
    "duration": 461,
    "start_time": "2023-10-07T21:42:23.831Z"
   },
   {
    "duration": 80,
    "start_time": "2023-10-07T21:43:19.042Z"
   },
   {
    "duration": 59,
    "start_time": "2023-10-07T21:43:36.684Z"
   },
   {
    "duration": 73,
    "start_time": "2023-10-07T21:43:54.381Z"
   },
   {
    "duration": 73,
    "start_time": "2023-10-07T21:44:05.164Z"
   },
   {
    "duration": 61,
    "start_time": "2023-10-07T21:44:53.854Z"
   },
   {
    "duration": 58,
    "start_time": "2023-10-07T21:50:37.377Z"
   },
   {
    "duration": 67,
    "start_time": "2023-10-07T21:51:28.101Z"
   },
   {
    "duration": 60,
    "start_time": "2023-10-07T21:53:28.558Z"
   },
   {
    "duration": 61,
    "start_time": "2023-10-07T21:53:42.174Z"
   },
   {
    "duration": 62,
    "start_time": "2023-10-07T21:53:50.370Z"
   },
   {
    "duration": 65,
    "start_time": "2023-10-07T21:59:13.960Z"
   },
   {
    "duration": 69,
    "start_time": "2023-10-07T21:59:58.086Z"
   },
   {
    "duration": 74,
    "start_time": "2023-10-07T22:00:11.103Z"
   },
   {
    "duration": 4,
    "start_time": "2023-10-07T22:00:27.779Z"
   },
   {
    "duration": 78,
    "start_time": "2023-10-07T22:00:35.137Z"
   },
   {
    "duration": 67,
    "start_time": "2023-10-07T22:01:31.168Z"
   },
   {
    "duration": 59,
    "start_time": "2023-10-07T22:02:25.055Z"
   },
   {
    "duration": 66,
    "start_time": "2023-10-07T22:03:04.744Z"
   },
   {
    "duration": 68,
    "start_time": "2023-10-07T22:03:17.113Z"
   },
   {
    "duration": 20,
    "start_time": "2023-10-07T22:03:46.742Z"
   },
   {
    "duration": 60,
    "start_time": "2023-10-07T22:04:16.166Z"
   },
   {
    "duration": 13,
    "start_time": "2023-10-07T22:04:19.707Z"
   },
   {
    "duration": 11,
    "start_time": "2023-10-07T22:04:27.486Z"
   },
   {
    "duration": 73,
    "start_time": "2023-10-07T22:06:00.930Z"
   },
   {
    "duration": 1350,
    "start_time": "2023-10-09T07:54:20.379Z"
   },
   {
    "duration": 781,
    "start_time": "2023-10-09T07:54:23.189Z"
   },
   {
    "duration": 10,
    "start_time": "2023-10-09T07:54:26.412Z"
   },
   {
    "duration": 22,
    "start_time": "2023-10-09T07:54:39.075Z"
   },
   {
    "duration": 30,
    "start_time": "2023-10-09T07:55:02.370Z"
   },
   {
    "duration": 20,
    "start_time": "2023-10-09T07:55:15.169Z"
   },
   {
    "duration": 21,
    "start_time": "2023-10-09T07:55:20.768Z"
   },
   {
    "duration": 8,
    "start_time": "2023-10-09T07:55:32.218Z"
   },
   {
    "duration": 15,
    "start_time": "2023-10-09T07:55:38.474Z"
   },
   {
    "duration": 78,
    "start_time": "2023-10-09T07:55:40.386Z"
   },
   {
    "duration": 55,
    "start_time": "2023-10-09T10:29:21.502Z"
   },
   {
    "duration": 1110,
    "start_time": "2023-10-09T10:29:49.893Z"
   },
   {
    "duration": 197,
    "start_time": "2023-10-09T10:29:51.634Z"
   },
   {
    "duration": 40,
    "start_time": "2023-10-09T10:29:53.057Z"
   },
   {
    "duration": 7,
    "start_time": "2023-10-09T10:30:00.483Z"
   },
   {
    "duration": 12,
    "start_time": "2023-10-09T10:30:01.571Z"
   },
   {
    "duration": 72,
    "start_time": "2023-10-09T10:30:02.562Z"
   },
   {
    "duration": 44,
    "start_time": "2023-10-09T10:30:40.745Z"
   },
   {
    "duration": 4,
    "start_time": "2023-10-09T10:31:37.925Z"
   },
   {
    "duration": 118,
    "start_time": "2023-10-09T10:33:26.578Z"
   },
   {
    "duration": 3,
    "start_time": "2023-10-09T10:33:40.289Z"
   },
   {
    "duration": 3,
    "start_time": "2023-10-09T10:33:48.000Z"
   },
   {
    "duration": 4,
    "start_time": "2023-10-09T10:34:18.578Z"
   },
   {
    "duration": 7,
    "start_time": "2023-10-09T10:34:29.978Z"
   },
   {
    "duration": 5,
    "start_time": "2023-10-09T10:35:12.170Z"
   },
   {
    "duration": 5,
    "start_time": "2023-10-09T10:35:21.408Z"
   },
   {
    "duration": 345,
    "start_time": "2023-10-09T10:35:23.263Z"
   },
   {
    "duration": 40,
    "start_time": "2023-10-09T10:36:01.086Z"
   },
   {
    "duration": 8,
    "start_time": "2023-10-09T10:36:02.390Z"
   },
   {
    "duration": 34,
    "start_time": "2023-10-09T10:36:07.229Z"
   },
   {
    "duration": 145,
    "start_time": "2023-10-09T10:40:53.052Z"
   },
   {
    "duration": 56,
    "start_time": "2023-10-09T10:41:25.620Z"
   },
   {
    "duration": 60,
    "start_time": "2023-10-09T10:42:17.683Z"
   },
   {
    "duration": 57,
    "start_time": "2023-10-09T10:42:49.562Z"
   },
   {
    "duration": 67,
    "start_time": "2023-10-09T10:42:58.425Z"
   },
   {
    "duration": 64,
    "start_time": "2023-10-09T10:43:02.105Z"
   },
   {
    "duration": 58,
    "start_time": "2023-10-09T10:43:08.513Z"
   },
   {
    "duration": 55,
    "start_time": "2023-10-09T10:43:43.688Z"
   },
   {
    "duration": 9,
    "start_time": "2023-10-09T10:43:45.095Z"
   },
   {
    "duration": 14,
    "start_time": "2023-10-09T12:44:54.271Z"
   },
   {
    "duration": 12,
    "start_time": "2023-10-09T12:45:06.669Z"
   },
   {
    "duration": 33,
    "start_time": "2023-10-09T12:56:03.182Z"
   },
   {
    "duration": 26,
    "start_time": "2023-10-09T12:56:26.805Z"
   },
   {
    "duration": 24,
    "start_time": "2023-10-09T12:58:15.066Z"
   },
   {
    "duration": 72,
    "start_time": "2023-10-09T13:04:52.902Z"
   },
   {
    "duration": 114,
    "start_time": "2023-10-09T13:07:45.922Z"
   },
   {
    "duration": 65,
    "start_time": "2023-10-09T13:08:11.408Z"
   },
   {
    "duration": 111,
    "start_time": "2023-10-09T13:08:44.095Z"
   },
   {
    "duration": 61,
    "start_time": "2023-10-09T13:09:38.933Z"
   },
   {
    "duration": 68,
    "start_time": "2023-10-09T13:10:16.900Z"
   },
   {
    "duration": 12,
    "start_time": "2023-10-09T13:11:05.651Z"
   },
   {
    "duration": 60,
    "start_time": "2023-10-09T13:12:10.657Z"
   },
   {
    "duration": 117,
    "start_time": "2023-10-09T13:12:16.408Z"
   },
   {
    "duration": 65,
    "start_time": "2023-10-09T13:12:22.457Z"
   },
   {
    "duration": 2614,
    "start_time": "2023-10-09T18:25:03.526Z"
   },
   {
    "duration": 582,
    "start_time": "2023-10-09T18:25:06.142Z"
   },
   {
    "duration": 34,
    "start_time": "2023-10-09T18:25:06.726Z"
   },
   {
    "duration": 12,
    "start_time": "2023-10-09T18:25:06.762Z"
   },
   {
    "duration": 107,
    "start_time": "2023-10-09T18:25:06.776Z"
   },
   {
    "duration": 109,
    "start_time": "2023-10-09T18:25:06.885Z"
   },
   {
    "duration": 52,
    "start_time": "2023-10-09T18:25:06.996Z"
   },
   {
    "duration": 3,
    "start_time": "2023-10-09T18:25:07.050Z"
   },
   {
    "duration": 46,
    "start_time": "2023-10-09T18:25:07.055Z"
   },
   {
    "duration": 40,
    "start_time": "2023-10-09T18:25:07.103Z"
   },
   {
    "duration": 31,
    "start_time": "2023-10-09T18:25:07.145Z"
   },
   {
    "duration": 443,
    "start_time": "2023-10-09T18:25:07.178Z"
   },
   {
    "duration": 53,
    "start_time": "2023-10-09T18:25:07.623Z"
   },
   {
    "duration": 9,
    "start_time": "2023-10-09T18:25:07.678Z"
   },
   {
    "duration": 61,
    "start_time": "2023-10-09T18:25:07.689Z"
   },
   {
    "duration": 79,
    "start_time": "2023-10-09T18:25:07.751Z"
   },
   {
    "duration": 25,
    "start_time": "2023-10-09T18:25:07.832Z"
   },
   {
    "duration": 155,
    "start_time": "2023-10-09T18:25:07.859Z"
   },
   {
    "duration": 9,
    "start_time": "2023-10-09T18:25:56.918Z"
   },
   {
    "duration": 12,
    "start_time": "2023-10-09T18:28:29.065Z"
   },
   {
    "duration": 32,
    "start_time": "2023-10-09T18:33:28.400Z"
   },
   {
    "duration": 1514,
    "start_time": "2023-10-10T10:08:13.473Z"
   },
   {
    "duration": 677,
    "start_time": "2023-10-10T10:08:14.990Z"
   },
   {
    "duration": 39,
    "start_time": "2023-10-10T10:08:15.669Z"
   },
   {
    "duration": 9,
    "start_time": "2023-10-10T10:08:15.711Z"
   },
   {
    "duration": 55,
    "start_time": "2023-10-10T10:08:15.723Z"
   },
   {
    "duration": 147,
    "start_time": "2023-10-10T10:08:15.781Z"
   },
   {
    "duration": 75,
    "start_time": "2023-10-10T10:08:15.930Z"
   },
   {
    "duration": 4,
    "start_time": "2023-10-10T10:08:16.007Z"
   },
   {
    "duration": 41,
    "start_time": "2023-10-10T10:08:16.013Z"
   },
   {
    "duration": 41,
    "start_time": "2023-10-10T10:08:16.056Z"
   },
   {
    "duration": 31,
    "start_time": "2023-10-10T10:08:16.099Z"
   },
   {
    "duration": 593,
    "start_time": "2023-10-10T10:08:16.133Z"
   },
   {
    "duration": 61,
    "start_time": "2023-10-10T10:08:16.728Z"
   },
   {
    "duration": 13,
    "start_time": "2023-10-10T10:08:16.793Z"
   },
   {
    "duration": 73,
    "start_time": "2023-10-10T10:08:16.808Z"
   },
   {
    "duration": 106,
    "start_time": "2023-10-10T10:08:16.883Z"
   },
   {
    "duration": 14,
    "start_time": "2023-10-10T10:08:16.991Z"
   },
   {
    "duration": 84,
    "start_time": "2023-10-10T10:08:17.007Z"
   },
   {
    "duration": 109,
    "start_time": "2023-10-10T11:02:52.594Z"
   },
   {
    "duration": 84,
    "start_time": "2023-10-10T11:03:03.634Z"
   },
   {
    "duration": 111,
    "start_time": "2023-10-10T11:05:16.503Z"
   },
   {
    "duration": 81,
    "start_time": "2023-10-10T11:07:26.970Z"
   },
   {
    "duration": 8,
    "start_time": "2023-10-10T11:10:14.270Z"
   },
   {
    "duration": 8,
    "start_time": "2023-10-10T11:10:27.285Z"
   },
   {
    "duration": 6,
    "start_time": "2023-10-10T11:12:06.964Z"
   },
   {
    "duration": 190,
    "start_time": "2023-10-10T11:12:25.723Z"
   },
   {
    "duration": 212,
    "start_time": "2023-10-10T11:12:58.959Z"
   },
   {
    "duration": 4,
    "start_time": "2023-10-10T11:16:17.023Z"
   },
   {
    "duration": 161,
    "start_time": "2023-10-10T11:16:25.479Z"
   },
   {
    "duration": 161,
    "start_time": "2023-10-10T11:18:26.326Z"
   },
   {
    "duration": 159,
    "start_time": "2023-10-10T11:18:48.221Z"
   },
   {
    "duration": 183,
    "start_time": "2023-10-10T11:20:49.907Z"
   },
   {
    "duration": 1329,
    "start_time": "2023-10-10T11:32:27.496Z"
   },
   {
    "duration": 257,
    "start_time": "2023-10-10T11:32:28.827Z"
   },
   {
    "duration": 37,
    "start_time": "2023-10-10T11:32:29.086Z"
   },
   {
    "duration": 30,
    "start_time": "2023-10-10T11:32:29.126Z"
   },
   {
    "duration": 17,
    "start_time": "2023-10-10T11:32:29.161Z"
   },
   {
    "duration": 141,
    "start_time": "2023-10-10T11:32:29.179Z"
   },
   {
    "duration": 60,
    "start_time": "2023-10-10T11:32:29.322Z"
   },
   {
    "duration": 211,
    "start_time": "2023-10-10T11:32:29.384Z"
   },
   {
    "duration": 209,
    "start_time": "2023-10-10T11:32:29.597Z"
   },
   {
    "duration": 4,
    "start_time": "2023-10-10T11:32:29.809Z"
   },
   {
    "duration": 18,
    "start_time": "2023-10-10T11:32:29.815Z"
   },
   {
    "duration": 42,
    "start_time": "2023-10-10T11:32:29.835Z"
   },
   {
    "duration": 22,
    "start_time": "2023-10-10T11:32:29.879Z"
   },
   {
    "duration": 468,
    "start_time": "2023-10-10T11:32:29.903Z"
   },
   {
    "duration": 41,
    "start_time": "2023-10-10T11:32:30.373Z"
   },
   {
    "duration": 97,
    "start_time": "2023-10-10T11:32:30.416Z"
   },
   {
    "duration": 77,
    "start_time": "2023-10-10T11:32:30.515Z"
   },
   {
    "duration": 89,
    "start_time": "2023-10-10T11:32:30.594Z"
   },
   {
    "duration": 32,
    "start_time": "2023-10-10T11:32:30.685Z"
   },
   {
    "duration": 79,
    "start_time": "2023-10-10T11:32:30.719Z"
   },
   {
    "duration": 9,
    "start_time": "2023-10-10T11:52:44.195Z"
   },
   {
    "duration": 120,
    "start_time": "2023-10-10T11:53:21.061Z"
   },
   {
    "duration": 114,
    "start_time": "2023-10-10T11:54:19.787Z"
   },
   {
    "duration": 134,
    "start_time": "2023-10-10T11:55:16.937Z"
   },
   {
    "duration": 98,
    "start_time": "2023-10-10T12:09:08.924Z"
   },
   {
    "duration": 9,
    "start_time": "2023-10-10T12:09:42.898Z"
   },
   {
    "duration": 5,
    "start_time": "2023-10-10T12:16:16.144Z"
   },
   {
    "duration": 17,
    "start_time": "2023-10-10T12:16:50.183Z"
   },
   {
    "duration": 5,
    "start_time": "2023-10-10T12:18:56.407Z"
   },
   {
    "duration": 3729,
    "start_time": "2023-10-10T12:18:59.216Z"
   },
   {
    "duration": 5,
    "start_time": "2023-10-10T12:19:28.411Z"
   },
   {
    "duration": 79,
    "start_time": "2023-10-10T12:19:29.514Z"
   },
   {
    "duration": 4,
    "start_time": "2023-10-10T12:45:31.328Z"
   },
   {
    "duration": 14,
    "start_time": "2023-10-10T12:45:33.256Z"
   },
   {
    "duration": 6,
    "start_time": "2023-10-10T12:45:34.336Z"
   },
   {
    "duration": 5,
    "start_time": "2023-10-10T12:47:04.173Z"
   },
   {
    "duration": 64,
    "start_time": "2023-10-10T12:48:20.576Z"
   },
   {
    "duration": 1430,
    "start_time": "2023-10-10T12:48:57.984Z"
   },
   {
    "duration": 274,
    "start_time": "2023-10-10T12:48:59.417Z"
   },
   {
    "duration": 34,
    "start_time": "2023-10-10T12:48:59.693Z"
   },
   {
    "duration": 29,
    "start_time": "2023-10-10T12:48:59.729Z"
   },
   {
    "duration": 49,
    "start_time": "2023-10-10T12:48:59.762Z"
   },
   {
    "duration": 130,
    "start_time": "2023-10-10T12:48:59.813Z"
   },
   {
    "duration": 62,
    "start_time": "2023-10-10T12:48:59.945Z"
   },
   {
    "duration": 252,
    "start_time": "2023-10-10T12:49:00.009Z"
   },
   {
    "duration": 272,
    "start_time": "2023-10-10T12:49:00.266Z"
   },
   {
    "duration": 24,
    "start_time": "2023-10-10T12:49:00.540Z"
   },
   {
    "duration": 177,
    "start_time": "2023-10-10T12:49:00.578Z"
   },
   {
    "duration": 306,
    "start_time": "2023-10-10T12:49:00.758Z"
   },
   {
    "duration": 174,
    "start_time": "2023-10-10T12:49:01.067Z"
   },
   {
    "duration": 648,
    "start_time": "2023-10-10T12:49:01.244Z"
   },
   {
    "duration": 38,
    "start_time": "2023-10-10T12:49:01.894Z"
   },
   {
    "duration": 536,
    "start_time": "2023-10-10T12:49:01.934Z"
   },
   {
    "duration": 60,
    "start_time": "2023-10-10T12:49:02.473Z"
   },
   {
    "duration": 4,
    "start_time": "2023-10-10T12:49:02.536Z"
   },
   {
    "duration": 33,
    "start_time": "2023-10-10T12:49:02.542Z"
   },
   {
    "duration": 29,
    "start_time": "2023-10-10T12:49:02.578Z"
   },
   {
    "duration": 120,
    "start_time": "2023-10-10T12:49:02.609Z"
   },
   {
    "duration": 4,
    "start_time": "2023-10-10T12:49:02.731Z"
   },
   {
    "duration": 29,
    "start_time": "2023-10-10T12:49:02.754Z"
   },
   {
    "duration": 31,
    "start_time": "2023-10-10T12:49:02.786Z"
   },
   {
    "duration": 41,
    "start_time": "2023-10-10T12:49:02.819Z"
   },
   {
    "duration": 95,
    "start_time": "2023-10-10T12:49:02.862Z"
   },
   {
    "duration": 40,
    "start_time": "2023-10-10T12:49:02.965Z"
   },
   {
    "duration": 131,
    "start_time": "2023-10-10T12:49:03.007Z"
   },
   {
    "duration": 66,
    "start_time": "2023-10-10T12:49:03.140Z"
   },
   {
    "duration": 129,
    "start_time": "2023-10-10T13:27:56.786Z"
   },
   {
    "duration": 114,
    "start_time": "2023-10-10T13:28:19.573Z"
   },
   {
    "duration": 4,
    "start_time": "2023-10-10T13:28:43.712Z"
   },
   {
    "duration": 106,
    "start_time": "2023-10-10T13:29:07.430Z"
   },
   {
    "duration": 5,
    "start_time": "2023-10-10T13:29:39.621Z"
   },
   {
    "duration": 111,
    "start_time": "2023-10-10T13:29:41.438Z"
   },
   {
    "duration": 125,
    "start_time": "2023-10-10T13:30:02.279Z"
   },
   {
    "duration": 4,
    "start_time": "2023-10-10T13:30:22.804Z"
   },
   {
    "duration": 104,
    "start_time": "2023-10-10T13:30:24.114Z"
   },
   {
    "duration": 6,
    "start_time": "2023-10-10T13:31:42.380Z"
   },
   {
    "duration": 101,
    "start_time": "2023-10-10T13:31:43.006Z"
   },
   {
    "duration": 144,
    "start_time": "2023-10-10T13:32:56.575Z"
   },
   {
    "duration": 8,
    "start_time": "2023-10-10T13:33:06.575Z"
   },
   {
    "duration": 111,
    "start_time": "2023-10-10T13:33:07.484Z"
   },
   {
    "duration": 81,
    "start_time": "2023-10-10T13:34:46.666Z"
   },
   {
    "duration": 137,
    "start_time": "2023-10-10T13:36:59.987Z"
   },
   {
    "duration": 25,
    "start_time": "2023-10-10T13:38:19.214Z"
   },
   {
    "duration": 10,
    "start_time": "2023-10-10T13:38:36.989Z"
   },
   {
    "duration": 1394,
    "start_time": "2023-10-10T13:38:57.884Z"
   },
   {
    "duration": 259,
    "start_time": "2023-10-10T13:38:59.281Z"
   },
   {
    "duration": 51,
    "start_time": "2023-10-10T13:38:59.542Z"
   },
   {
    "duration": 10,
    "start_time": "2023-10-10T13:38:59.595Z"
   },
   {
    "duration": 51,
    "start_time": "2023-10-10T13:38:59.608Z"
   },
   {
    "duration": 134,
    "start_time": "2023-10-10T13:38:59.662Z"
   },
   {
    "duration": 53,
    "start_time": "2023-10-10T13:38:59.798Z"
   },
   {
    "duration": 224,
    "start_time": "2023-10-10T13:38:59.856Z"
   },
   {
    "duration": 278,
    "start_time": "2023-10-10T13:39:00.083Z"
   },
   {
    "duration": 5,
    "start_time": "2023-10-10T13:39:00.363Z"
   },
   {
    "duration": 339,
    "start_time": "2023-10-10T13:39:00.370Z"
   },
   {
    "duration": 354,
    "start_time": "2023-10-10T13:39:00.711Z"
   },
   {
    "duration": 149,
    "start_time": "2023-10-10T13:39:01.066Z"
   },
   {
    "duration": 561,
    "start_time": "2023-10-10T13:39:01.218Z"
   },
   {
    "duration": 37,
    "start_time": "2023-10-10T13:39:01.781Z"
   },
   {
    "duration": 20,
    "start_time": "2023-10-10T13:39:01.820Z"
   },
   {
    "duration": 74,
    "start_time": "2023-10-10T13:39:01.841Z"
   },
   {
    "duration": 46,
    "start_time": "2023-10-10T13:39:01.917Z"
   },
   {
    "duration": 61,
    "start_time": "2023-10-10T13:39:01.968Z"
   },
   {
    "duration": 61,
    "start_time": "2023-10-10T13:39:02.031Z"
   },
   {
    "duration": 498,
    "start_time": "2023-10-10T13:39:02.094Z"
   },
   {
    "duration": 168,
    "start_time": "2023-10-10T13:39:02.595Z"
   },
   {
    "duration": 131,
    "start_time": "2023-10-10T13:39:02.767Z"
   },
   {
    "duration": 13,
    "start_time": "2023-10-10T13:39:02.900Z"
   },
   {
    "duration": 46,
    "start_time": "2023-10-10T13:39:02.915Z"
   },
   {
    "duration": 175,
    "start_time": "2023-10-10T13:39:02.964Z"
   },
   {
    "duration": 57,
    "start_time": "2023-10-10T13:39:03.141Z"
   },
   {
    "duration": 173,
    "start_time": "2023-10-10T13:39:03.201Z"
   },
   {
    "duration": 87,
    "start_time": "2023-10-10T13:39:03.377Z"
   },
   {
    "duration": 134,
    "start_time": "2023-10-10T13:39:36.701Z"
   },
   {
    "duration": 14,
    "start_time": "2023-10-10T13:40:20.098Z"
   },
   {
    "duration": 9,
    "start_time": "2023-10-10T13:40:28.442Z"
   },
   {
    "duration": 87,
    "start_time": "2023-10-10T13:40:29.217Z"
   },
   {
    "duration": 4,
    "start_time": "2023-10-10T13:40:58.522Z"
   },
   {
    "duration": 90,
    "start_time": "2023-10-10T13:40:59.337Z"
   },
   {
    "duration": 139,
    "start_time": "2023-10-10T13:41:11.736Z"
   },
   {
    "duration": 20,
    "start_time": "2023-10-10T13:42:02.382Z"
   },
   {
    "duration": 112,
    "start_time": "2023-10-10T13:42:05.102Z"
   },
   {
    "duration": 5,
    "start_time": "2023-10-10T13:42:18.134Z"
   },
   {
    "duration": 19,
    "start_time": "2023-10-10T13:42:18.989Z"
   },
   {
    "duration": 96,
    "start_time": "2023-10-10T13:42:19.782Z"
   },
   {
    "duration": 115,
    "start_time": "2023-10-10T13:44:03.109Z"
   },
   {
    "duration": 106,
    "start_time": "2023-10-10T13:44:23.453Z"
   },
   {
    "duration": 5,
    "start_time": "2023-10-10T13:47:43.715Z"
   },
   {
    "duration": 121,
    "start_time": "2023-10-10T13:47:45.779Z"
   },
   {
    "duration": 5,
    "start_time": "2023-10-10T13:48:03.772Z"
   },
   {
    "duration": 123,
    "start_time": "2023-10-10T13:48:04.975Z"
   },
   {
    "duration": 7,
    "start_time": "2023-10-10T13:48:26.211Z"
   },
   {
    "duration": 113,
    "start_time": "2023-10-10T13:48:27.432Z"
   },
   {
    "duration": 6,
    "start_time": "2023-10-10T13:50:08.765Z"
   },
   {
    "duration": 109,
    "start_time": "2023-10-10T13:50:09.381Z"
   },
   {
    "duration": 5,
    "start_time": "2023-10-10T13:50:29.479Z"
   },
   {
    "duration": 96,
    "start_time": "2023-10-10T13:50:30.029Z"
   },
   {
    "duration": 4,
    "start_time": "2023-10-10T13:50:53.684Z"
   },
   {
    "duration": 103,
    "start_time": "2023-10-10T13:50:54.509Z"
   },
   {
    "duration": 5,
    "start_time": "2023-10-10T13:51:11.377Z"
   },
   {
    "duration": 116,
    "start_time": "2023-10-10T13:51:12.019Z"
   },
   {
    "duration": 43,
    "start_time": "2023-10-10T13:53:11.275Z"
   },
   {
    "duration": 65,
    "start_time": "2023-10-10T13:53:16.129Z"
   },
   {
    "duration": 132,
    "start_time": "2023-10-10T13:54:36.102Z"
   },
   {
    "duration": 132,
    "start_time": "2023-10-10T13:55:29.461Z"
   },
   {
    "duration": 15,
    "start_time": "2023-10-10T13:56:33.202Z"
   },
   {
    "duration": 40,
    "start_time": "2023-10-10T13:56:52.322Z"
   },
   {
    "duration": 1348,
    "start_time": "2023-10-10T19:19:13.298Z"
   },
   {
    "duration": 562,
    "start_time": "2023-10-10T19:19:14.648Z"
   },
   {
    "duration": 32,
    "start_time": "2023-10-10T19:19:15.212Z"
   },
   {
    "duration": 7,
    "start_time": "2023-10-10T19:19:15.245Z"
   },
   {
    "duration": 21,
    "start_time": "2023-10-10T19:19:15.255Z"
   },
   {
    "duration": 83,
    "start_time": "2023-10-10T19:19:15.278Z"
   },
   {
    "duration": 41,
    "start_time": "2023-10-10T19:19:15.362Z"
   },
   {
    "duration": 159,
    "start_time": "2023-10-10T19:19:15.404Z"
   },
   {
    "duration": 167,
    "start_time": "2023-10-10T19:19:15.565Z"
   },
   {
    "duration": 3,
    "start_time": "2023-10-10T19:19:15.733Z"
   },
   {
    "duration": 25,
    "start_time": "2023-10-10T19:19:15.738Z"
   },
   {
    "duration": 16,
    "start_time": "2023-10-10T19:19:15.765Z"
   },
   {
    "duration": 16,
    "start_time": "2023-10-10T19:19:15.783Z"
   },
   {
    "duration": 419,
    "start_time": "2023-10-10T19:19:15.805Z"
   },
   {
    "duration": 33,
    "start_time": "2023-10-10T19:19:16.226Z"
   },
   {
    "duration": 7,
    "start_time": "2023-10-10T19:19:16.261Z"
   },
   {
    "duration": 42,
    "start_time": "2023-10-10T19:19:16.270Z"
   },
   {
    "duration": 3,
    "start_time": "2023-10-10T19:19:16.325Z"
   },
   {
    "duration": 10,
    "start_time": "2023-10-10T19:19:16.329Z"
   },
   {
    "duration": 14,
    "start_time": "2023-10-10T19:19:16.340Z"
   },
   {
    "duration": 72,
    "start_time": "2023-10-10T19:19:16.356Z"
   },
   {
    "duration": 4,
    "start_time": "2023-10-10T19:19:16.430Z"
   },
   {
    "duration": 98,
    "start_time": "2023-10-10T19:19:16.435Z"
   },
   {
    "duration": 28,
    "start_time": "2023-10-10T19:19:16.535Z"
   },
   {
    "duration": 108,
    "start_time": "2023-10-10T19:19:16.564Z"
   },
   {
    "duration": 89,
    "start_time": "2023-10-10T19:19:16.674Z"
   },
   {
    "duration": 13,
    "start_time": "2023-10-10T19:19:16.765Z"
   },
   {
    "duration": 29,
    "start_time": "2023-10-10T19:19:16.779Z"
   },
   {
    "duration": 19,
    "start_time": "2023-10-10T19:39:00.661Z"
   },
   {
    "duration": 29,
    "start_time": "2023-10-10T19:50:28.989Z"
   },
   {
    "duration": 7,
    "start_time": "2023-10-10T19:53:04.738Z"
   },
   {
    "duration": 106,
    "start_time": "2023-10-10T19:53:58.705Z"
   },
   {
    "duration": 3,
    "start_time": "2023-10-10T19:54:46.599Z"
   },
   {
    "duration": 15,
    "start_time": "2023-10-10T19:54:53.396Z"
   },
   {
    "duration": 8,
    "start_time": "2023-10-10T21:09:58.984Z"
   },
   {
    "duration": 8,
    "start_time": "2023-10-10T21:10:26.523Z"
   },
   {
    "duration": 69,
    "start_time": "2023-10-10T21:18:41.408Z"
   },
   {
    "duration": 69,
    "start_time": "2023-10-10T21:18:49.943Z"
   },
   {
    "duration": 3,
    "start_time": "2023-10-10T21:21:16.622Z"
   },
   {
    "duration": 1278,
    "start_time": "2023-10-10T21:22:19.594Z"
   },
   {
    "duration": 227,
    "start_time": "2023-10-10T21:22:20.874Z"
   },
   {
    "duration": 38,
    "start_time": "2023-10-10T21:22:21.102Z"
   },
   {
    "duration": 8,
    "start_time": "2023-10-10T21:22:21.142Z"
   },
   {
    "duration": 61,
    "start_time": "2023-10-10T21:22:21.152Z"
   },
   {
    "duration": 77,
    "start_time": "2023-10-10T21:22:21.215Z"
   },
   {
    "duration": 218,
    "start_time": "2023-10-10T21:22:21.294Z"
   },
   {
    "duration": 251,
    "start_time": "2023-10-10T21:22:21.514Z"
   },
   {
    "duration": 183,
    "start_time": "2023-10-10T21:22:21.767Z"
   },
   {
    "duration": 3,
    "start_time": "2023-10-10T21:22:21.954Z"
   },
   {
    "duration": 53,
    "start_time": "2023-10-10T21:22:21.959Z"
   },
   {
    "duration": 51,
    "start_time": "2023-10-10T21:22:22.014Z"
   },
   {
    "duration": 56,
    "start_time": "2023-10-10T21:22:22.067Z"
   },
   {
    "duration": 528,
    "start_time": "2023-10-10T21:22:22.125Z"
   },
   {
    "duration": 34,
    "start_time": "2023-10-10T21:22:22.656Z"
   },
   {
    "duration": 234,
    "start_time": "2023-10-10T21:22:22.692Z"
   },
   {
    "duration": 207,
    "start_time": "2023-10-10T21:22:22.928Z"
   },
   {
    "duration": 18,
    "start_time": "2023-10-10T21:22:23.137Z"
   },
   {
    "duration": 36,
    "start_time": "2023-10-10T21:22:23.157Z"
   },
   {
    "duration": 36,
    "start_time": "2023-10-10T21:22:23.195Z"
   },
   {
    "duration": 41,
    "start_time": "2023-10-10T21:22:23.234Z"
   },
   {
    "duration": 70,
    "start_time": "2023-10-10T21:22:28.288Z"
   },
   {
    "duration": 86,
    "start_time": "2023-10-10T21:24:43.505Z"
   },
   {
    "duration": 4,
    "start_time": "2023-10-10T21:25:17.085Z"
   },
   {
    "duration": 79,
    "start_time": "2023-10-10T21:25:49.796Z"
   },
   {
    "duration": 84,
    "start_time": "2023-10-10T21:26:00.321Z"
   },
   {
    "duration": 4,
    "start_time": "2023-10-10T21:26:35.211Z"
   },
   {
    "duration": 68,
    "start_time": "2023-10-10T21:26:36.201Z"
   },
   {
    "duration": 10,
    "start_time": "2023-10-10T21:28:07.406Z"
   },
   {
    "duration": 9,
    "start_time": "2023-10-10T21:28:27.193Z"
   },
   {
    "duration": 28,
    "start_time": "2023-10-10T21:28:51.898Z"
   },
   {
    "duration": 75,
    "start_time": "2023-10-10T21:34:02.296Z"
   },
   {
    "duration": 71,
    "start_time": "2023-10-10T21:34:19.290Z"
   },
   {
    "duration": 71,
    "start_time": "2023-10-10T21:34:58.690Z"
   },
   {
    "duration": 71,
    "start_time": "2023-10-10T21:36:34.908Z"
   },
   {
    "duration": 4,
    "start_time": "2023-10-10T21:36:59.326Z"
   },
   {
    "duration": 70,
    "start_time": "2023-10-10T21:37:01.989Z"
   },
   {
    "duration": 32,
    "start_time": "2023-10-10T21:37:20.396Z"
   },
   {
    "duration": 4,
    "start_time": "2023-10-10T22:00:37.295Z"
   },
   {
    "duration": 75,
    "start_time": "2023-10-10T22:00:38.207Z"
   },
   {
    "duration": 91,
    "start_time": "2023-10-10T22:10:30.591Z"
   },
   {
    "duration": 105,
    "start_time": "2023-10-10T22:11:59.977Z"
   },
   {
    "duration": 89,
    "start_time": "2023-10-10T22:12:19.111Z"
   },
   {
    "duration": 78,
    "start_time": "2023-10-10T22:12:45.526Z"
   },
   {
    "duration": 80,
    "start_time": "2023-10-10T22:12:54.921Z"
   },
   {
    "duration": 82,
    "start_time": "2023-10-10T22:13:38.723Z"
   },
   {
    "duration": 1160,
    "start_time": "2023-10-11T06:13:10.095Z"
   },
   {
    "duration": 487,
    "start_time": "2023-10-11T06:13:11.256Z"
   },
   {
    "duration": 25,
    "start_time": "2023-10-11T06:13:11.744Z"
   },
   {
    "duration": 6,
    "start_time": "2023-10-11T06:13:11.770Z"
   },
   {
    "duration": 28,
    "start_time": "2023-10-11T06:13:11.778Z"
   },
   {
    "duration": 58,
    "start_time": "2023-10-11T06:13:11.808Z"
   },
   {
    "duration": 31,
    "start_time": "2023-10-11T06:13:11.867Z"
   },
   {
    "duration": 149,
    "start_time": "2023-10-11T06:13:11.899Z"
   },
   {
    "duration": 143,
    "start_time": "2023-10-11T06:13:12.049Z"
   },
   {
    "duration": 3,
    "start_time": "2023-10-11T06:13:12.194Z"
   },
   {
    "duration": 16,
    "start_time": "2023-10-11T06:13:12.198Z"
   },
   {
    "duration": 6,
    "start_time": "2023-10-11T06:13:12.215Z"
   },
   {
    "duration": 12,
    "start_time": "2023-10-11T06:13:12.223Z"
   },
   {
    "duration": 331,
    "start_time": "2023-10-11T06:13:12.239Z"
   },
   {
    "duration": 36,
    "start_time": "2023-10-11T06:13:12.571Z"
   },
   {
    "duration": 8,
    "start_time": "2023-10-11T06:13:12.609Z"
   },
   {
    "duration": 45,
    "start_time": "2023-10-11T06:13:12.618Z"
   },
   {
    "duration": 3,
    "start_time": "2023-10-11T06:13:12.665Z"
   },
   {
    "duration": 8,
    "start_time": "2023-10-11T06:13:12.669Z"
   },
   {
    "duration": 4,
    "start_time": "2023-10-11T06:13:12.678Z"
   },
   {
    "duration": 17,
    "start_time": "2023-10-11T06:13:12.684Z"
   },
   {
    "duration": 79,
    "start_time": "2023-10-11T06:13:12.703Z"
   },
   {
    "duration": 3,
    "start_time": "2023-10-11T06:13:12.784Z"
   },
   {
    "duration": 74,
    "start_time": "2023-10-11T06:13:12.788Z"
   },
   {
    "duration": 8,
    "start_time": "2023-10-11T06:13:12.863Z"
   },
   {
    "duration": 25,
    "start_time": "2023-10-11T06:13:12.872Z"
   },
   {
    "duration": 26,
    "start_time": "2023-10-11T06:13:12.899Z"
   },
   {
    "duration": 67,
    "start_time": "2023-10-11T06:13:12.939Z"
   },
   {
    "duration": 94,
    "start_time": "2023-10-11T06:13:13.007Z"
   },
   {
    "duration": 0,
    "start_time": "2023-10-11T06:13:13.103Z"
   },
   {
    "duration": 0,
    "start_time": "2023-10-11T06:13:13.104Z"
   },
   {
    "duration": 41,
    "start_time": "2023-10-11T06:21:22.298Z"
   },
   {
    "duration": 67,
    "start_time": "2023-10-11T06:23:19.896Z"
   },
   {
    "duration": 4,
    "start_time": "2023-10-11T06:30:54.145Z"
   },
   {
    "duration": 59,
    "start_time": "2023-10-11T06:30:54.921Z"
   },
   {
    "duration": 4,
    "start_time": "2023-10-11T06:31:51.949Z"
   },
   {
    "duration": 72,
    "start_time": "2023-10-11T06:31:52.573Z"
   },
   {
    "duration": 3,
    "start_time": "2023-10-11T06:32:45.572Z"
   },
   {
    "duration": 61,
    "start_time": "2023-10-11T06:32:46.164Z"
   },
   {
    "duration": 4,
    "start_time": "2023-10-11T06:40:28.417Z"
   },
   {
    "duration": 67,
    "start_time": "2023-10-11T06:40:29.050Z"
   },
   {
    "duration": 1176,
    "start_time": "2023-10-11T06:44:05.828Z"
   },
   {
    "duration": 86,
    "start_time": "2023-10-11T06:44:20.674Z"
   },
   {
    "duration": 74,
    "start_time": "2023-10-11T06:46:02.607Z"
   },
   {
    "duration": 93,
    "start_time": "2023-10-11T06:46:22.407Z"
   },
   {
    "duration": 82,
    "start_time": "2023-10-11T06:46:33.574Z"
   },
   {
    "duration": 73,
    "start_time": "2023-10-11T06:47:38.606Z"
   },
   {
    "duration": 75,
    "start_time": "2023-10-11T06:47:51.267Z"
   },
   {
    "duration": 286,
    "start_time": "2023-10-11T06:49:40.289Z"
   },
   {
    "duration": 77,
    "start_time": "2023-10-11T06:51:25.949Z"
   },
   {
    "duration": 494,
    "start_time": "2023-10-11T08:01:18.422Z"
   },
   {
    "duration": 85,
    "start_time": "2023-10-11T08:01:44.989Z"
   },
   {
    "duration": 79,
    "start_time": "2023-10-11T08:11:04.184Z"
   },
   {
    "duration": 1792,
    "start_time": "2023-10-11T08:11:46.560Z"
   },
   {
    "duration": 77,
    "start_time": "2023-10-11T08:13:29.314Z"
   },
   {
    "duration": 76,
    "start_time": "2023-10-11T08:14:00.609Z"
   },
   {
    "duration": 73,
    "start_time": "2023-10-11T08:14:42.288Z"
   },
   {
    "duration": 32,
    "start_time": "2023-10-11T08:25:09.596Z"
   },
   {
    "duration": 31,
    "start_time": "2023-10-11T08:25:35.280Z"
   },
   {
    "duration": 12,
    "start_time": "2023-10-11T08:28:02.485Z"
   },
   {
    "duration": 16,
    "start_time": "2023-10-11T08:28:16.348Z"
   },
   {
    "duration": 30,
    "start_time": "2023-10-11T08:30:36.799Z"
   },
   {
    "duration": 12,
    "start_time": "2023-10-11T08:31:01.422Z"
   },
   {
    "duration": 41,
    "start_time": "2023-10-11T08:31:45.229Z"
   },
   {
    "duration": 13,
    "start_time": "2023-10-11T08:31:46.316Z"
   },
   {
    "duration": 4,
    "start_time": "2023-10-11T08:32:28.770Z"
   },
   {
    "duration": 9,
    "start_time": "2023-10-11T08:32:59.177Z"
   },
   {
    "duration": 5,
    "start_time": "2023-10-11T08:33:40.729Z"
   },
   {
    "duration": 4,
    "start_time": "2023-10-11T08:33:56.759Z"
   },
   {
    "duration": 5,
    "start_time": "2023-10-11T08:34:19.758Z"
   },
   {
    "duration": 5,
    "start_time": "2023-10-11T08:35:21.421Z"
   },
   {
    "duration": 191,
    "start_time": "2023-10-11T08:35:58.396Z"
   },
   {
    "duration": 9,
    "start_time": "2023-10-11T08:36:07.627Z"
   },
   {
    "duration": 95,
    "start_time": "2023-10-11T08:36:12.067Z"
   },
   {
    "duration": 5,
    "start_time": "2023-10-11T08:36:35.866Z"
   },
   {
    "duration": 6,
    "start_time": "2023-10-11T08:36:36.610Z"
   },
   {
    "duration": 9,
    "start_time": "2023-10-11T08:37:09.625Z"
   },
   {
    "duration": 8,
    "start_time": "2023-10-11T08:37:29.729Z"
   },
   {
    "duration": 7,
    "start_time": "2023-10-11T08:37:35.550Z"
   },
   {
    "duration": 4,
    "start_time": "2023-10-11T08:47:57.886Z"
   },
   {
    "duration": 28,
    "start_time": "2023-10-11T08:48:31.022Z"
   },
   {
    "duration": 1317,
    "start_time": "2023-10-11T08:48:39.652Z"
   },
   {
    "duration": 36,
    "start_time": "2023-10-11T08:49:02.581Z"
   },
   {
    "duration": 4,
    "start_time": "2023-10-11T08:49:04.650Z"
   },
   {
    "duration": 5,
    "start_time": "2023-10-11T08:49:25.908Z"
   },
   {
    "duration": 2154,
    "start_time": "2023-10-11T10:17:30.285Z"
   },
   {
    "duration": 28,
    "start_time": "2023-10-11T10:18:27.803Z"
   },
   {
    "duration": 4,
    "start_time": "2023-10-11T10:18:31.348Z"
   },
   {
    "duration": 1323,
    "start_time": "2023-10-11T10:18:47.682Z"
   },
   {
    "duration": 30,
    "start_time": "2023-10-11T10:18:58.554Z"
   },
   {
    "duration": 1787,
    "start_time": "2023-10-11T10:19:01.346Z"
   },
   {
    "duration": 3,
    "start_time": "2023-10-11T10:19:10.770Z"
   },
   {
    "duration": 30,
    "start_time": "2023-10-11T10:19:26.250Z"
   },
   {
    "duration": 4,
    "start_time": "2023-10-11T10:19:28.049Z"
   },
   {
    "duration": 4,
    "start_time": "2023-10-11T10:20:47.823Z"
   },
   {
    "duration": 84,
    "start_time": "2023-10-11T10:21:13.086Z"
   },
   {
    "duration": 5,
    "start_time": "2023-10-11T10:21:24.325Z"
   },
   {
    "duration": 5,
    "start_time": "2023-10-11T10:21:59.589Z"
   },
   {
    "duration": 5,
    "start_time": "2023-10-11T10:22:18.587Z"
   },
   {
    "duration": 4,
    "start_time": "2023-10-11T10:29:59.381Z"
   },
   {
    "duration": 3,
    "start_time": "2023-10-11T10:52:00.624Z"
   },
   {
    "duration": 4,
    "start_time": "2023-10-11T10:52:07.535Z"
   },
   {
    "duration": 19,
    "start_time": "2023-10-11T10:56:11.095Z"
   },
   {
    "duration": 33,
    "start_time": "2023-10-11T10:58:53.607Z"
   },
   {
    "duration": 4,
    "start_time": "2023-10-11T11:16:34.674Z"
   },
   {
    "duration": 73,
    "start_time": "2023-10-11T11:16:41.929Z"
   },
   {
    "duration": 2328,
    "start_time": "2023-10-11T11:17:32.269Z"
   },
   {
    "duration": 2379,
    "start_time": "2023-10-11T11:17:57.031Z"
   },
   {
    "duration": 12,
    "start_time": "2023-10-11T11:18:16.459Z"
   },
   {
    "duration": 29,
    "start_time": "2023-10-11T11:20:36.805Z"
   },
   {
    "duration": 7,
    "start_time": "2023-10-11T11:20:57.164Z"
   },
   {
    "duration": 101,
    "start_time": "2023-10-11T11:21:21.540Z"
   },
   {
    "duration": 83,
    "start_time": "2023-10-11T11:22:11.306Z"
   },
   {
    "duration": 13,
    "start_time": "2023-10-11T11:22:40.706Z"
   },
   {
    "duration": 5,
    "start_time": "2023-10-11T11:23:03.672Z"
   },
   {
    "duration": 7,
    "start_time": "2023-10-11T11:23:42.712Z"
   },
   {
    "duration": 5,
    "start_time": "2023-10-11T11:23:53.688Z"
   },
   {
    "duration": 13,
    "start_time": "2023-10-11T11:23:58.271Z"
   },
   {
    "duration": 4,
    "start_time": "2023-10-11T11:58:53.810Z"
   },
   {
    "duration": 207,
    "start_time": "2023-10-11T11:58:53.815Z"
   },
   {
    "duration": 28,
    "start_time": "2023-10-11T11:58:54.023Z"
   },
   {
    "duration": 5,
    "start_time": "2023-10-11T11:58:54.052Z"
   },
   {
    "duration": 7,
    "start_time": "2023-10-11T11:58:54.059Z"
   },
   {
    "duration": 69,
    "start_time": "2023-10-11T11:58:54.067Z"
   },
   {
    "duration": 33,
    "start_time": "2023-10-11T11:58:54.138Z"
   },
   {
    "duration": 148,
    "start_time": "2023-10-11T11:58:54.173Z"
   },
   {
    "duration": 147,
    "start_time": "2023-10-11T11:58:54.322Z"
   },
   {
    "duration": 3,
    "start_time": "2023-10-11T11:58:54.470Z"
   },
   {
    "duration": 5,
    "start_time": "2023-10-11T11:58:54.475Z"
   },
   {
    "duration": 9,
    "start_time": "2023-10-11T11:58:54.481Z"
   },
   {
    "duration": 5,
    "start_time": "2023-10-11T11:58:54.491Z"
   },
   {
    "duration": 307,
    "start_time": "2023-10-11T11:58:54.497Z"
   },
   {
    "duration": 37,
    "start_time": "2023-10-11T11:58:54.806Z"
   },
   {
    "duration": 6,
    "start_time": "2023-10-11T11:58:54.845Z"
   },
   {
    "duration": 28,
    "start_time": "2023-10-11T11:58:54.852Z"
   },
   {
    "duration": 3,
    "start_time": "2023-10-11T11:58:54.882Z"
   },
   {
    "duration": 20,
    "start_time": "2023-10-11T11:58:54.886Z"
   },
   {
    "duration": 19,
    "start_time": "2023-10-11T11:58:54.907Z"
   },
   {
    "duration": 30,
    "start_time": "2023-10-11T11:58:54.928Z"
   },
   {
    "duration": 31,
    "start_time": "2023-10-11T11:58:54.960Z"
   },
   {
    "duration": 71,
    "start_time": "2023-10-11T11:58:54.993Z"
   },
   {
    "duration": 4,
    "start_time": "2023-10-11T11:58:55.065Z"
   },
   {
    "duration": 74,
    "start_time": "2023-10-11T11:58:55.071Z"
   },
   {
    "duration": 9,
    "start_time": "2023-10-11T11:58:55.147Z"
   },
   {
    "duration": 45,
    "start_time": "2023-10-11T11:58:55.158Z"
   },
   {
    "duration": 32,
    "start_time": "2023-10-11T11:58:55.204Z"
   },
   {
    "duration": 3,
    "start_time": "2023-10-11T11:58:55.239Z"
   },
   {
    "duration": 19,
    "start_time": "2023-10-11T11:58:55.244Z"
   },
   {
    "duration": 1035,
    "start_time": "2023-10-11T11:59:51.184Z"
   },
   {
    "duration": 299,
    "start_time": "2023-10-11T11:59:52.220Z"
   },
   {
    "duration": 35,
    "start_time": "2023-10-11T11:59:52.521Z"
   },
   {
    "duration": 7,
    "start_time": "2023-10-11T11:59:52.558Z"
   },
   {
    "duration": 26,
    "start_time": "2023-10-11T11:59:52.567Z"
   },
   {
    "duration": 76,
    "start_time": "2023-10-11T11:59:52.595Z"
   },
   {
    "duration": 67,
    "start_time": "2023-10-11T11:59:52.672Z"
   },
   {
    "duration": 145,
    "start_time": "2023-10-11T11:59:52.741Z"
   },
   {
    "duration": 163,
    "start_time": "2023-10-11T11:59:52.887Z"
   },
   {
    "duration": 2,
    "start_time": "2023-10-11T11:59:53.052Z"
   },
   {
    "duration": 18,
    "start_time": "2023-10-11T11:59:53.056Z"
   },
   {
    "duration": 37,
    "start_time": "2023-10-11T11:59:53.075Z"
   },
   {
    "duration": 5,
    "start_time": "2023-10-11T11:59:53.113Z"
   },
   {
    "duration": 323,
    "start_time": "2023-10-11T11:59:53.120Z"
   },
   {
    "duration": 29,
    "start_time": "2023-10-11T11:59:53.444Z"
   },
   {
    "duration": 9,
    "start_time": "2023-10-11T11:59:53.474Z"
   },
   {
    "duration": 47,
    "start_time": "2023-10-11T11:59:53.484Z"
   },
   {
    "duration": 11,
    "start_time": "2023-10-11T11:59:53.533Z"
   },
   {
    "duration": 38,
    "start_time": "2023-10-11T11:59:53.545Z"
   },
   {
    "duration": 24,
    "start_time": "2023-10-11T11:59:53.584Z"
   },
   {
    "duration": 39,
    "start_time": "2023-10-11T11:59:53.609Z"
   },
   {
    "duration": 39,
    "start_time": "2023-10-11T11:59:53.650Z"
   },
   {
    "duration": 68,
    "start_time": "2023-10-11T11:59:53.690Z"
   },
   {
    "duration": 3,
    "start_time": "2023-10-11T11:59:53.760Z"
   },
   {
    "duration": 104,
    "start_time": "2023-10-11T11:59:53.764Z"
   },
   {
    "duration": 8,
    "start_time": "2023-10-11T11:59:53.870Z"
   },
   {
    "duration": 34,
    "start_time": "2023-10-11T11:59:53.879Z"
   },
   {
    "duration": 38,
    "start_time": "2023-10-11T11:59:53.914Z"
   },
   {
    "duration": 3,
    "start_time": "2023-10-11T11:59:53.953Z"
   },
   {
    "duration": 43,
    "start_time": "2023-10-11T11:59:53.957Z"
   },
   {
    "duration": 1677,
    "start_time": "2023-10-11T12:00:45.377Z"
   },
   {
    "duration": 81,
    "start_time": "2023-10-11T12:00:59.535Z"
   },
   {
    "duration": 9,
    "start_time": "2023-10-11T12:22:22.154Z"
   },
   {
    "duration": 27,
    "start_time": "2023-10-11T12:22:35.193Z"
   },
   {
    "duration": 34,
    "start_time": "2023-10-11T12:24:12.832Z"
   },
   {
    "duration": 33,
    "start_time": "2023-10-11T12:24:29.430Z"
   },
   {
    "duration": 5,
    "start_time": "2023-10-11T12:32:04.177Z"
   },
   {
    "duration": 10,
    "start_time": "2023-10-11T12:33:01.735Z"
   },
   {
    "duration": 91,
    "start_time": "2023-10-11T12:34:16.701Z"
   },
   {
    "duration": 4,
    "start_time": "2023-10-11T12:34:55.999Z"
   },
   {
    "duration": 4,
    "start_time": "2023-10-11T12:35:03.039Z"
   },
   {
    "duration": 10,
    "start_time": "2023-10-11T12:35:03.750Z"
   },
   {
    "duration": 3,
    "start_time": "2023-10-11T12:35:30.141Z"
   },
   {
    "duration": 4,
    "start_time": "2023-10-11T12:35:36.389Z"
   },
   {
    "duration": 5,
    "start_time": "2023-10-11T12:35:36.948Z"
   },
   {
    "duration": 9,
    "start_time": "2023-10-11T12:37:25.460Z"
   },
   {
    "duration": 15,
    "start_time": "2023-10-11T12:38:07.977Z"
   },
   {
    "duration": 33,
    "start_time": "2023-10-11T12:40:39.313Z"
   },
   {
    "duration": 30,
    "start_time": "2023-10-11T12:41:49.240Z"
   },
   {
    "duration": 50,
    "start_time": "2023-10-11T12:44:48.588Z"
   },
   {
    "duration": 38,
    "start_time": "2023-10-11T12:45:29.775Z"
   },
   {
    "duration": 4,
    "start_time": "2023-10-11T14:04:14.824Z"
   },
   {
    "duration": 18,
    "start_time": "2023-10-11T14:11:21.591Z"
   },
   {
    "duration": 34,
    "start_time": "2023-10-11T14:11:27.038Z"
   },
   {
    "duration": 34,
    "start_time": "2023-10-11T14:11:48.757Z"
   },
   {
    "duration": 79,
    "start_time": "2023-10-11T14:19:58.800Z"
   },
   {
    "duration": 36,
    "start_time": "2023-10-11T14:30:54.733Z"
   },
   {
    "duration": 55,
    "start_time": "2023-10-11T14:31:51.668Z"
   },
   {
    "duration": 42,
    "start_time": "2023-10-11T14:31:54.747Z"
   },
   {
    "duration": 37,
    "start_time": "2023-10-11T14:32:10.251Z"
   },
   {
    "duration": 31,
    "start_time": "2023-10-11T14:32:50.490Z"
   },
   {
    "duration": 37,
    "start_time": "2023-10-11T14:42:25.420Z"
   },
   {
    "duration": 1208,
    "start_time": "2023-10-11T20:05:06.472Z"
   },
   {
    "duration": 511,
    "start_time": "2023-10-11T20:05:07.682Z"
   },
   {
    "duration": 26,
    "start_time": "2023-10-11T20:05:08.194Z"
   },
   {
    "duration": 6,
    "start_time": "2023-10-11T20:05:08.221Z"
   },
   {
    "duration": 19,
    "start_time": "2023-10-11T20:05:08.229Z"
   },
   {
    "duration": 68,
    "start_time": "2023-10-11T20:05:08.249Z"
   },
   {
    "duration": 39,
    "start_time": "2023-10-11T20:05:08.318Z"
   },
   {
    "duration": 150,
    "start_time": "2023-10-11T20:05:08.358Z"
   },
   {
    "duration": 150,
    "start_time": "2023-10-11T20:05:08.509Z"
   },
   {
    "duration": 3,
    "start_time": "2023-10-11T20:05:08.661Z"
   },
   {
    "duration": 68,
    "start_time": "2023-10-11T20:05:08.665Z"
   },
   {
    "duration": 31,
    "start_time": "2023-10-11T20:05:08.734Z"
   },
   {
    "duration": 23,
    "start_time": "2023-10-11T20:05:08.766Z"
   },
   {
    "duration": 317,
    "start_time": "2023-10-11T20:05:08.792Z"
   },
   {
    "duration": 33,
    "start_time": "2023-10-11T20:05:09.110Z"
   },
   {
    "duration": 6,
    "start_time": "2023-10-11T20:05:09.145Z"
   },
   {
    "duration": 46,
    "start_time": "2023-10-11T20:05:09.152Z"
   },
   {
    "duration": 3,
    "start_time": "2023-10-11T20:05:09.199Z"
   },
   {
    "duration": 29,
    "start_time": "2023-10-11T20:05:09.204Z"
   },
   {
    "duration": 4,
    "start_time": "2023-10-11T20:05:09.235Z"
   },
   {
    "duration": 17,
    "start_time": "2023-10-11T20:05:09.241Z"
   },
   {
    "duration": 35,
    "start_time": "2023-10-11T20:05:09.259Z"
   },
   {
    "duration": 73,
    "start_time": "2023-10-11T20:05:09.296Z"
   },
   {
    "duration": 4,
    "start_time": "2023-10-11T20:05:09.370Z"
   },
   {
    "duration": 73,
    "start_time": "2023-10-11T20:05:09.375Z"
   },
   {
    "duration": 28,
    "start_time": "2023-10-11T20:05:09.450Z"
   },
   {
    "duration": 80,
    "start_time": "2023-10-11T20:05:09.480Z"
   },
   {
    "duration": 3,
    "start_time": "2023-10-11T20:05:09.561Z"
   },
   {
    "duration": 27,
    "start_time": "2023-10-11T20:05:09.566Z"
   },
   {
    "duration": 45,
    "start_time": "2023-10-11T20:05:09.595Z"
   },
   {
    "duration": 32,
    "start_time": "2023-10-11T20:05:09.641Z"
   },
   {
    "duration": 4,
    "start_time": "2023-10-11T20:05:09.675Z"
   },
   {
    "duration": 33,
    "start_time": "2023-10-11T20:05:09.680Z"
   },
   {
    "duration": 15,
    "start_time": "2023-10-11T20:05:09.714Z"
   },
   {
    "duration": 53,
    "start_time": "2023-10-11T20:05:09.730Z"
   },
   {
    "duration": 27,
    "start_time": "2023-10-11T20:05:09.784Z"
   },
   {
    "duration": 40,
    "start_time": "2023-10-11T20:05:09.813Z"
   },
   {
    "duration": 1352,
    "start_time": "2023-10-12T09:52:03.671Z"
   },
   {
    "duration": 713,
    "start_time": "2023-10-12T09:52:05.025Z"
   },
   {
    "duration": 30,
    "start_time": "2023-10-12T09:52:05.739Z"
   },
   {
    "duration": 10,
    "start_time": "2023-10-12T09:52:05.771Z"
   },
   {
    "duration": 43,
    "start_time": "2023-10-12T09:52:05.782Z"
   },
   {
    "duration": 95,
    "start_time": "2023-10-12T09:52:05.827Z"
   },
   {
    "duration": 61,
    "start_time": "2023-10-12T09:52:05.924Z"
   },
   {
    "duration": 158,
    "start_time": "2023-10-12T09:52:05.987Z"
   },
   {
    "duration": 185,
    "start_time": "2023-10-12T09:52:06.146Z"
   },
   {
    "duration": 6,
    "start_time": "2023-10-12T09:52:06.332Z"
   },
   {
    "duration": 52,
    "start_time": "2023-10-12T09:52:06.340Z"
   },
   {
    "duration": 43,
    "start_time": "2023-10-12T09:52:06.394Z"
   },
   {
    "duration": 13,
    "start_time": "2023-10-12T09:52:06.438Z"
   },
   {
    "duration": 372,
    "start_time": "2023-10-12T09:52:06.454Z"
   },
   {
    "duration": 38,
    "start_time": "2023-10-12T09:52:06.828Z"
   },
   {
    "duration": 7,
    "start_time": "2023-10-12T09:52:06.868Z"
   },
   {
    "duration": 47,
    "start_time": "2023-10-12T09:52:06.876Z"
   },
   {
    "duration": 3,
    "start_time": "2023-10-12T09:52:06.926Z"
   },
   {
    "duration": 30,
    "start_time": "2023-10-12T09:52:06.931Z"
   },
   {
    "duration": 14,
    "start_time": "2023-10-12T09:52:06.962Z"
   },
   {
    "duration": 44,
    "start_time": "2023-10-12T09:52:06.978Z"
   },
   {
    "duration": 50,
    "start_time": "2023-10-12T09:52:07.024Z"
   },
   {
    "duration": 74,
    "start_time": "2023-10-12T09:52:07.076Z"
   },
   {
    "duration": 4,
    "start_time": "2023-10-12T09:52:07.152Z"
   },
   {
    "duration": 102,
    "start_time": "2023-10-12T09:52:07.157Z"
   },
   {
    "duration": 32,
    "start_time": "2023-10-12T09:52:07.261Z"
   },
   {
    "duration": 85,
    "start_time": "2023-10-12T09:52:07.295Z"
   },
   {
    "duration": 3,
    "start_time": "2023-10-12T09:52:07.381Z"
   },
   {
    "duration": 94,
    "start_time": "2023-10-12T09:52:07.386Z"
   },
   {
    "duration": 36,
    "start_time": "2023-10-12T09:52:07.482Z"
   },
   {
    "duration": 36,
    "start_time": "2023-10-12T09:52:07.520Z"
   },
   {
    "duration": 5,
    "start_time": "2023-10-12T09:52:07.558Z"
   },
   {
    "duration": 52,
    "start_time": "2023-10-12T09:52:07.565Z"
   },
   {
    "duration": 48,
    "start_time": "2023-10-12T09:52:07.619Z"
   },
   {
    "duration": 271,
    "start_time": "2023-10-12T09:52:07.668Z"
   },
   {
    "duration": 31,
    "start_time": "2023-10-12T09:52:07.941Z"
   },
   {
    "duration": 58,
    "start_time": "2023-10-12T09:52:07.973Z"
   },
   {
    "duration": 114,
    "start_time": "2023-10-12T09:53:22.813Z"
   },
   {
    "duration": 124,
    "start_time": "2023-10-12T09:54:17.173Z"
   },
   {
    "duration": 194,
    "start_time": "2023-10-12T10:02:14.983Z"
   },
   {
    "duration": 113,
    "start_time": "2023-10-12T10:02:53.816Z"
   },
   {
    "duration": 90,
    "start_time": "2023-10-12T10:04:10.221Z"
   },
   {
    "duration": 158,
    "start_time": "2023-10-12T10:04:11.451Z"
   },
   {
    "duration": 108,
    "start_time": "2023-10-12T10:04:32.924Z"
   },
   {
    "duration": 71,
    "start_time": "2023-10-12T10:04:51.915Z"
   },
   {
    "duration": 9,
    "start_time": "2023-10-12T10:06:26.963Z"
   },
   {
    "duration": 9,
    "start_time": "2023-10-12T10:09:13.126Z"
   },
   {
    "duration": 9,
    "start_time": "2023-10-12T10:09:23.653Z"
   },
   {
    "duration": 74,
    "start_time": "2023-10-12T10:10:00.140Z"
   },
   {
    "duration": 83,
    "start_time": "2023-10-12T10:12:13.545Z"
   },
   {
    "duration": 75,
    "start_time": "2023-10-12T10:12:52.318Z"
   },
   {
    "duration": 72,
    "start_time": "2023-10-12T10:13:04.613Z"
   },
   {
    "duration": 71,
    "start_time": "2023-10-12T10:14:08.332Z"
   },
   {
    "duration": 74,
    "start_time": "2023-10-12T10:14:29.059Z"
   },
   {
    "duration": 72,
    "start_time": "2023-10-12T10:14:37.779Z"
   },
   {
    "duration": 77,
    "start_time": "2023-10-12T10:14:48.499Z"
   },
   {
    "duration": 79,
    "start_time": "2023-10-12T10:16:12.089Z"
   },
   {
    "duration": 68,
    "start_time": "2023-10-12T10:19:11.378Z"
   },
   {
    "duration": 10,
    "start_time": "2023-10-12T10:19:20.931Z"
   },
   {
    "duration": 4,
    "start_time": "2023-10-12T10:20:30.625Z"
   },
   {
    "duration": 4,
    "start_time": "2023-10-12T10:20:56.168Z"
   },
   {
    "duration": 4,
    "start_time": "2023-10-12T10:21:14.335Z"
   },
   {
    "duration": 160,
    "start_time": "2023-10-12T10:22:58.232Z"
   },
   {
    "duration": 137,
    "start_time": "2023-10-12T10:25:01.730Z"
   },
   {
    "duration": 4,
    "start_time": "2023-10-12T10:25:37.520Z"
   },
   {
    "duration": 4,
    "start_time": "2023-10-12T10:25:48.023Z"
   },
   {
    "duration": 132,
    "start_time": "2023-10-12T10:27:13.205Z"
   },
   {
    "duration": 3,
    "start_time": "2023-10-12T10:27:24.709Z"
   },
   {
    "duration": 143,
    "start_time": "2023-10-12T10:27:44.787Z"
   },
   {
    "duration": 124,
    "start_time": "2023-10-12T10:28:08.748Z"
   },
   {
    "duration": 4,
    "start_time": "2023-10-12T10:29:08.454Z"
   },
   {
    "duration": 21,
    "start_time": "2023-10-12T10:36:33.918Z"
   },
   {
    "duration": 27,
    "start_time": "2023-10-12T10:37:08.439Z"
   },
   {
    "duration": 4,
    "start_time": "2023-10-12T10:45:01.553Z"
   },
   {
    "duration": 3,
    "start_time": "2023-10-12T10:50:55.171Z"
   },
   {
    "duration": 3,
    "start_time": "2023-10-12T10:51:45.414Z"
   },
   {
    "duration": 3,
    "start_time": "2023-10-12T10:52:33.252Z"
   },
   {
    "duration": 3,
    "start_time": "2023-10-12T10:53:05.180Z"
   },
   {
    "duration": 7,
    "start_time": "2023-10-12T10:54:46.730Z"
   },
   {
    "duration": 7,
    "start_time": "2023-10-12T10:55:26.376Z"
   },
   {
    "duration": 1222,
    "start_time": "2023-10-12T10:57:54.537Z"
   },
   {
    "duration": 195,
    "start_time": "2023-10-12T10:57:55.761Z"
   },
   {
    "duration": 33,
    "start_time": "2023-10-12T10:57:55.958Z"
   },
   {
    "duration": 7,
    "start_time": "2023-10-12T10:57:55.993Z"
   },
   {
    "duration": 15,
    "start_time": "2023-10-12T10:57:56.002Z"
   },
   {
    "duration": 99,
    "start_time": "2023-10-12T10:57:56.019Z"
   },
   {
    "duration": 74,
    "start_time": "2023-10-12T10:57:56.120Z"
   },
   {
    "duration": 186,
    "start_time": "2023-10-12T10:57:56.196Z"
   },
   {
    "duration": 212,
    "start_time": "2023-10-12T10:57:56.384Z"
   },
   {
    "duration": 4,
    "start_time": "2023-10-12T10:57:56.599Z"
   },
   {
    "duration": 34,
    "start_time": "2023-10-12T10:57:56.604Z"
   },
   {
    "duration": 51,
    "start_time": "2023-10-12T10:57:56.640Z"
   },
   {
    "duration": 29,
    "start_time": "2023-10-12T10:57:56.693Z"
   },
   {
    "duration": 415,
    "start_time": "2023-10-12T10:57:56.724Z"
   },
   {
    "duration": 37,
    "start_time": "2023-10-12T10:57:57.144Z"
   },
   {
    "duration": 18,
    "start_time": "2023-10-12T10:57:57.183Z"
   },
   {
    "duration": 62,
    "start_time": "2023-10-12T10:57:57.203Z"
   },
   {
    "duration": 4,
    "start_time": "2023-10-12T10:57:57.267Z"
   },
   {
    "duration": 32,
    "start_time": "2023-10-12T10:57:57.272Z"
   },
   {
    "duration": 9,
    "start_time": "2023-10-12T10:57:57.305Z"
   },
   {
    "duration": 10,
    "start_time": "2023-10-12T10:57:57.316Z"
   },
   {
    "duration": 41,
    "start_time": "2023-10-12T10:57:57.328Z"
   },
   {
    "duration": 38,
    "start_time": "2023-10-12T10:57:57.371Z"
   },
   {
    "duration": 80,
    "start_time": "2023-10-12T10:57:57.411Z"
   },
   {
    "duration": 4,
    "start_time": "2023-10-12T10:57:57.492Z"
   },
   {
    "duration": 96,
    "start_time": "2023-10-12T10:57:57.498Z"
   },
   {
    "duration": 4,
    "start_time": "2023-10-12T10:57:57.595Z"
   },
   {
    "duration": 177,
    "start_time": "2023-10-12T10:57:57.602Z"
   },
   {
    "duration": 63,
    "start_time": "2023-10-12T10:57:57.781Z"
   },
   {
    "duration": 131,
    "start_time": "2023-10-12T10:57:57.846Z"
   },
   {
    "duration": 4,
    "start_time": "2023-10-12T10:57:57.979Z"
   },
   {
    "duration": 50,
    "start_time": "2023-10-12T10:57:57.984Z"
   },
   {
    "duration": 26,
    "start_time": "2023-10-12T10:57:58.036Z"
   },
   {
    "duration": 49,
    "start_time": "2023-10-12T10:57:58.063Z"
   },
   {
    "duration": 44,
    "start_time": "2023-10-12T10:57:58.114Z"
   },
   {
    "duration": 41,
    "start_time": "2023-10-12T10:57:58.160Z"
   },
   {
    "duration": 6,
    "start_time": "2023-10-12T10:57:58.202Z"
   },
   {
    "duration": 34,
    "start_time": "2023-10-12T10:57:58.210Z"
   },
   {
    "duration": 35,
    "start_time": "2023-10-12T10:57:58.246Z"
   },
   {
    "duration": 121,
    "start_time": "2023-10-12T10:57:58.282Z"
   },
   {
    "duration": 32,
    "start_time": "2023-10-12T10:57:58.405Z"
   },
   {
    "duration": 68,
    "start_time": "2023-10-12T10:57:58.439Z"
   },
   {
    "duration": 1421,
    "start_time": "2024-05-25T15:38:35.241Z"
   },
   {
    "duration": 824,
    "start_time": "2024-05-25T15:38:36.664Z"
   },
   {
    "duration": 38,
    "start_time": "2024-05-25T15:38:37.490Z"
   },
   {
    "duration": 8,
    "start_time": "2024-05-25T15:38:37.530Z"
   },
   {
    "duration": 35,
    "start_time": "2024-05-25T15:38:37.541Z"
   },
   {
    "duration": 78,
    "start_time": "2024-05-25T15:38:37.583Z"
   },
   {
    "duration": 51,
    "start_time": "2024-05-25T15:38:37.663Z"
   },
   {
    "duration": 181,
    "start_time": "2024-05-25T15:38:37.716Z"
   },
   {
    "duration": 252,
    "start_time": "2024-05-25T15:38:37.900Z"
   },
   {
    "duration": 4,
    "start_time": "2024-05-25T15:38:38.154Z"
   },
   {
    "duration": 30,
    "start_time": "2024-05-25T15:38:38.160Z"
   },
   {
    "duration": 37,
    "start_time": "2024-05-25T15:38:38.194Z"
   },
   {
    "duration": 31,
    "start_time": "2024-05-25T15:38:38.233Z"
   },
   {
    "duration": 438,
    "start_time": "2024-05-25T15:38:38.268Z"
   },
   {
    "duration": 36,
    "start_time": "2024-05-25T15:38:38.707Z"
   },
   {
    "duration": 32,
    "start_time": "2024-05-25T15:38:38.744Z"
   },
   {
    "duration": 34,
    "start_time": "2024-05-25T15:38:38.778Z"
   },
   {
    "duration": 4,
    "start_time": "2024-05-25T15:38:38.813Z"
   },
   {
    "duration": 39,
    "start_time": "2024-05-25T15:38:38.819Z"
   },
   {
    "duration": 30,
    "start_time": "2024-05-25T15:38:38.860Z"
   },
   {
    "duration": 13,
    "start_time": "2024-05-25T15:38:38.892Z"
   },
   {
    "duration": 36,
    "start_time": "2024-05-25T15:38:38.907Z"
   },
   {
    "duration": 60,
    "start_time": "2024-05-25T15:38:38.945Z"
   },
   {
    "duration": 89,
    "start_time": "2024-05-25T15:38:39.006Z"
   },
   {
    "duration": 5,
    "start_time": "2024-05-25T15:38:39.097Z"
   },
   {
    "duration": 124,
    "start_time": "2024-05-25T15:38:39.103Z"
   },
   {
    "duration": 4,
    "start_time": "2024-05-25T15:38:39.229Z"
   },
   {
    "duration": 187,
    "start_time": "2024-05-25T15:38:43.804Z"
   },
   {
    "duration": 5,
    "start_time": "2024-05-25T15:42:21.062Z"
   },
   {
    "duration": 251,
    "start_time": "2024-05-25T15:42:21.069Z"
   },
   {
    "duration": 30,
    "start_time": "2024-05-25T15:42:21.323Z"
   },
   {
    "duration": 18,
    "start_time": "2024-05-25T15:42:21.369Z"
   },
   {
    "duration": 16,
    "start_time": "2024-05-25T15:42:21.390Z"
   },
   {
    "duration": 141,
    "start_time": "2024-05-25T15:42:21.408Z"
   },
   {
    "duration": 70,
    "start_time": "2024-05-25T15:42:21.551Z"
   },
   {
    "duration": 210,
    "start_time": "2024-05-25T15:42:21.623Z"
   },
   {
    "duration": 199,
    "start_time": "2024-05-25T15:42:21.836Z"
   },
   {
    "duration": 3,
    "start_time": "2024-05-25T15:42:22.037Z"
   },
   {
    "duration": 34,
    "start_time": "2024-05-25T15:42:22.044Z"
   },
   {
    "duration": 13,
    "start_time": "2024-05-25T15:42:22.083Z"
   },
   {
    "duration": 15,
    "start_time": "2024-05-25T15:42:22.097Z"
   },
   {
    "duration": 416,
    "start_time": "2024-05-25T15:42:22.114Z"
   },
   {
    "duration": 60,
    "start_time": "2024-05-25T15:42:22.531Z"
   },
   {
    "duration": 8,
    "start_time": "2024-05-25T15:42:22.593Z"
   },
   {
    "duration": 84,
    "start_time": "2024-05-25T15:42:22.602Z"
   },
   {
    "duration": 3,
    "start_time": "2024-05-25T15:42:22.688Z"
   },
   {
    "duration": 30,
    "start_time": "2024-05-25T15:42:22.693Z"
   },
   {
    "duration": 14,
    "start_time": "2024-05-25T15:42:22.725Z"
   },
   {
    "duration": 6,
    "start_time": "2024-05-25T15:42:22.741Z"
   },
   {
    "duration": 19,
    "start_time": "2024-05-25T15:42:22.748Z"
   },
   {
    "duration": 49,
    "start_time": "2024-05-25T15:42:22.769Z"
   },
   {
    "duration": 112,
    "start_time": "2024-05-25T15:42:22.820Z"
   },
   {
    "duration": 5,
    "start_time": "2024-05-25T15:42:22.933Z"
   },
   {
    "duration": 118,
    "start_time": "2024-05-25T15:42:22.940Z"
   },
   {
    "duration": 12,
    "start_time": "2024-05-25T15:42:23.071Z"
   },
   {
    "duration": 29,
    "start_time": "2024-05-25T15:42:23.090Z"
   },
   {
    "duration": 63,
    "start_time": "2024-05-25T15:42:23.123Z"
   },
   {
    "duration": 90,
    "start_time": "2024-05-25T15:42:23.192Z"
   },
   {
    "duration": 5,
    "start_time": "2024-05-25T15:42:23.284Z"
   },
   {
    "duration": 85,
    "start_time": "2024-05-25T15:42:23.291Z"
   },
   {
    "duration": 58,
    "start_time": "2024-05-25T15:42:23.378Z"
   },
   {
    "duration": 31,
    "start_time": "2024-05-25T15:42:23.437Z"
   },
   {
    "duration": 42,
    "start_time": "2024-05-25T15:42:23.474Z"
   },
   {
    "duration": 67,
    "start_time": "2024-05-25T15:42:23.517Z"
   },
   {
    "duration": 7,
    "start_time": "2024-05-25T15:42:23.586Z"
   },
   {
    "duration": 43,
    "start_time": "2024-05-25T15:42:23.595Z"
   },
   {
    "duration": 21,
    "start_time": "2024-05-25T15:42:23.639Z"
   },
   {
    "duration": 77,
    "start_time": "2024-05-25T15:42:23.662Z"
   },
   {
    "duration": 39,
    "start_time": "2024-05-25T15:42:23.741Z"
   },
   {
    "duration": 42,
    "start_time": "2024-05-25T15:42:23.788Z"
   }
  ],
  "kernelspec": {
   "display_name": "Python 3 (ipykernel)",
   "language": "python",
   "name": "python3"
  },
  "language_info": {
   "codemirror_mode": {
    "name": "ipython",
    "version": 3
   },
   "file_extension": ".py",
   "mimetype": "text/x-python",
   "name": "python",
   "nbconvert_exporter": "python",
   "pygments_lexer": "ipython3",
   "version": "3.9.5"
  },
  "toc": {
   "base_numbering": 1,
   "nav_menu": {},
   "number_sections": true,
   "sideBar": true,
   "skip_h1_title": true,
   "title_cell": "Table of Contents",
   "title_sidebar": "Contents",
   "toc_cell": false,
   "toc_position": {},
   "toc_section_display": true,
   "toc_window_display": false
  }
 },
 "nbformat": 4,
 "nbformat_minor": 2
}
